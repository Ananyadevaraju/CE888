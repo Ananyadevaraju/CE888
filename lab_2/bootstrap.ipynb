{
  "nbformat": 4,
  "nbformat_minor": 0,
  "metadata": {
    "colab": {
      "name": "bootstrap.ipynb",
      "provenance": [],
      "collapsed_sections": [],
      "include_colab_link": true
    },
    "kernelspec": {
      "display_name": "Python 3",
      "language": "python",
      "name": "python3"
    },
    "language_info": {
      "codemirror_mode": {
        "name": "ipython",
        "version": 3
      },
      "file_extension": ".py",
      "mimetype": "text/x-python",
      "name": "python",
      "nbconvert_exporter": "python",
      "pygments_lexer": "ipython3",
      "version": "3.7.6"
    },
    "pycharm": {
      "stem_cell": {
        "cell_type": "raw",
        "metadata": {
          "collapsed": false
        },
        "source": []
      }
    }
  },
  "cells": [
    {
      "cell_type": "markdown",
      "metadata": {
        "id": "view-in-github",
        "colab_type": "text"
      },
      "source": [
        "<a href=\"https://colab.research.google.com/github/Ananyadevaraju/CE888/blob/main/lab_2/bootstrap.ipynb\" target=\"_parent\"><img src=\"https://colab.research.google.com/assets/colab-badge.svg\" alt=\"Open In Colab\"/></a>"
      ]
    },
    {
      "cell_type": "markdown",
      "metadata": {
        "id": "nCi_99yMYIb1"
      },
      "source": [
        "In this notebook you'll create your own bootstrap function following the bootstrap algorithm (check the lecture notes!)"
      ]
    },
    {
      "cell_type": "code",
      "metadata": {
        "id": "LY5zujI2YC37",
        "pycharm": {
          "name": "#%%# Imports\n"
        }
      },
      "source": [
        "import matplotlib\n",
        "import pandas as pd\n",
        "import seaborn as sns\n",
        "import numpy as np"
      ],
      "execution_count": 1,
      "outputs": []
    },
    {
      "cell_type": "code",
      "metadata": {
        "id": "Eqkwj4SMY38t"
      },
      "source": [
        "# Load the data\n",
        "df = pd.read_csv('https://raw.githubusercontent.com/albanda/CE888/master/lab2%20-%20bootstrap/customers.csv')\n",
        "data = df.values.T[1]\n",
        "# data.shape"
      ],
      "execution_count": 2,
      "outputs": []
    },
    {
      "cell_type": "code",
      "metadata": {
        "id": "Gxvc_bScYC4H",
        "pycharm": {
          "name": "#%%\n"
        }
      },
      "source": [
        "# Checking the notes from the lecture, create here your own bootstrap function:\n",
        "# 1. Sample from the input array x to create an array of samples of shape (n_bootstraps, sample_size)\n",
        "# Hint: Check the function random.choice() on Numpy\n",
        "# 2. Calculate and save the mean of the array (this is \"data_mean\" that is returned by the function)\n",
        "# 3. Calculate the mean from each bootstrap (i.e., row) and store it.\n",
        "# (This should be an array of n_bootstraps values)\n",
        "# 4. Calculate the lower and upper bounds for a 95% CI (hint: check the percentile function on Numpy)\n",
        "# 5. Return data_mean, and the lower and upper bounds of your interval\n",
        "def bootstrap_mean(x, sample_size, n_bootstraps):\n",
        "\t# <---INSERT YOUR CODE HERE--->\n",
        "  # data_mean = []\n",
        "  # for i in range(n_bootstraps):\n",
        "  #   random_sample = np.random.choice(x, replace = True, size = sample_size)\n",
        "  #   random_sample_mean = np.mean(random_sample)\n",
        "  #   data_mean.append(random_sample_mean)\n",
        "  # # data_mean = np.array(data_mean)\n",
        "  # lower = np.percentile(data_mean, 2.5)\n",
        "  # upper = np.percentile(data_mean, 97.5)\n",
        "  # return data_mean, lower, upper\n",
        "\n",
        "  random_samples = np.random.choice(x, replace = True, size = [n_bootstraps, sample_size])\n",
        "  data_mean = np.mean(random_samples)\n",
        "  means = []\n",
        "  for sample in random_samples:\n",
        "    means.append(np.mean(sample))\n",
        "  means = np.array(means)\n",
        "  lower = np.percentile(means, 2.5)\n",
        "  upper = np.percentile(means, 97.5)\n",
        "\n",
        "  return data_mean, lower, upper"
      ],
      "execution_count": 3,
      "outputs": []
    },
    {
      "cell_type": "code",
      "metadata": {
        "id": "AN7sEOcMYC4P",
        "pycharm": {
          "name": "#%%\n"
        },
        "colab": {
          "base_uri": "https://localhost:8080/",
          "height": 454
        },
        "outputId": "3a32402a-2983-4f41-f925-19fd1c9944be"
      },
      "source": [
        "# Call your bootstrap function and plot the results\n",
        "\n",
        "boots = []\n",
        "for i in range(100, 50000, 1000):\n",
        "    boot = bootstrap_mean(data, data.shape[0], i)\n",
        "    boots.append([i, boot[0], \"mean\"])\n",
        "    boots.append([i, boot[1], \"lower\"])\n",
        "    boots.append([i, boot[2], \"upper\"])\n",
        "\n",
        "df_boot = pd.DataFrame(boots, columns=['Bootstrap Iterations', 'Mean', \"Value\"])\n",
        "sns_plot = sns.lmplot(df_boot.columns[0], df_boot.columns[1], data=df_boot, fit_reg=False, hue=\"Value\")\n",
        "\n",
        "sns_plot.axes[0, 0].set_ylim(0,)\n",
        "sns_plot.axes[0, 0].set_xlim(0, 100000)\n"
      ],
      "execution_count": 4,
      "outputs": [
        {
          "output_type": "stream",
          "text": [
            "/usr/local/lib/python3.7/dist-packages/seaborn/_decorators.py:43: FutureWarning: Pass the following variables as keyword args: x, y. From version 0.12, the only valid positional argument will be `data`, and passing other arguments without an explicit keyword will result in an error or misinterpretation.\n",
            "  FutureWarning\n"
          ],
          "name": "stderr"
        },
        {
          "output_type": "execute_result",
          "data": {
            "text/plain": [
              "(0.0, 100000.0)"
            ]
          },
          "metadata": {
            "tags": []
          },
          "execution_count": 4
        },
        {
          "output_type": "display_data",
          "data": {
            "image/png": "[encoded data removed]",
            "text/plain": [
              "<Figure size 425.125x360 with 1 Axes>"
            ]
          },
          "metadata": {
            "tags": [],
            "needs_background": "light"
          }
        }
      ]
    },
    {
      "cell_type": "markdown",
      "metadata": {
        "id": "MjtP4e2_YC4V"
      },
      "source": [
        "\n",
        "Now, modify the bootstrap function you created above so that you can pass your desired confidence interval as a parameter.\n",
        "\n"
      ]
    },
    {
      "cell_type": "code",
      "metadata": {
        "id": "3K9j0FuGYhHs"
      },
      "source": [
        "def bootstrap_mean_ci(sample, sample_size, n_bootstraps, ci):\n",
        "\t# <---INSERT YOUR CODE HERE--->\n",
        "  random_samples = np.random.choice(sample, replace = True, size = [n_bootstraps, sample_size])\n",
        "  data_mean = np.mean(random_samples)\n",
        "  means = []\n",
        "  for sample in random_samples:\n",
        "    means.append(np.mean(sample))\n",
        "  means = np.array(means)\n",
        "  remove_lower = (100-ci)/2\n",
        "  remove_upper = 100-remove_lower\n",
        "  lower = np.percentile(means, remove_lower)\n",
        "  upper = np.percentile(means, remove_upper)\n",
        "  return data_mean, lower, upper"
      ],
      "execution_count": 5,
      "outputs": []
    },
    {
      "cell_type": "code",
      "metadata": {
        "id": "uDnjq08GYl-C",
        "colab": {
          "base_uri": "https://localhost:8080/",
          "height": 437
        },
        "outputId": "2c2c405e-dd5a-458c-800a-0f1c937ad404"
      },
      "source": [
        "boots = []\n",
        "for i in range(100, 50000, 1000):\n",
        "    boot = bootstrap_mean_ci(data, data.shape[0], i, 80)\n",
        "    boots.append([i, boot[0], \"mean\"])\n",
        "    boots.append([i, boot[1], \"lower\"])\n",
        "    boots.append([i, boot[2], \"upper\"])\n",
        "\n",
        "df_boot = pd.DataFrame(boots, columns=['Boostrap Iterations', 'Mean', \"Value\"])\n",
        "sns_plot = sns.lmplot(df_boot.columns[0], df_boot.columns[1], data=df_boot, fit_reg=False, hue=\"Value\")\n",
        "\n",
        "sns_plot.axes[0, 0].set_ylim(0,)\n",
        "sns_plot.axes[0, 0].set_xlim(0, 100000)\n",
        "\n",
        "sns_plot.savefig(\"bootstrap_confidence_80.pdf\", bbox_inches='tight')\n"
      ],
      "execution_count": 6,
      "outputs": [
        {
          "output_type": "stream",
          "text": [
            "/usr/local/lib/python3.7/dist-packages/seaborn/_decorators.py:43: FutureWarning: Pass the following variables as keyword args: x, y. From version 0.12, the only valid positional argument will be `data`, and passing other arguments without an explicit keyword will result in an error or misinterpretation.\n",
            "  FutureWarning\n"
          ],
          "name": "stderr"
        },
        {
          "output_type": "display_data",
          "data": {
            "image/png": "[encoded data removed]",
            "text/plain": [
              "<Figure size 425.125x360 with 1 Axes>"
            ]
          },
          "metadata": {
            "tags": [],
            "needs_background": "light"
          }
        }
      ]
    },
    {
      "cell_type": "markdown",
      "metadata": {
        "id": "qjNgXW6wdd7r"
      },
      "source": [
        "# Vehicles dataset\n",
        "\n",
        "Now let's work on a different dataset, which is stored in the vehicles.csv file.\n"
      ]
    },
    {
      "cell_type": "code",
      "metadata": {
        "id": "avWv4ipFdpka",
        "colab": {
          "base_uri": "https://localhost:8080/",
          "height": 282
        },
        "outputId": "d94a9d76-7ebd-4401-f3f6-ec96b6683e5f"
      },
      "source": [
        "# Load and visualise the vehicles dataset\n",
        "# To load the dataset: https://neptune.ai/blog/google-colab-dealing-with-files (check section \"Load individual files directly from GitHub\")\n",
        "\n",
        "\n",
        "# Note that the current and new fleets are in different columns and have different lengths, so bear this in mind when you're plotting.\n",
        "# You can create separate scatterplots for the two fleets, as you would with the histograms, \n",
        "# or plot them both in one plot (but not one against the other).\n",
        "# <---INSERT YOUR CODE HERE--->\n",
        "\n",
        "#load the data\n",
        "vehicles_data = pd.read_csv('https://raw.githubusercontent.com/albanda/CE888/master/lab2%20-%20bootstrap/vehicles.csv')\n",
        "vehicles_data.head()\n",
        "vehicles_data.dropna(subset = [\"New Fleet\"], inplace = True)\n",
        "# print(vehicles_data[\"New Fleet\"])\n",
        "# vehicles_data.shape\n",
        "\n",
        "#plot\n",
        "sns.scatterplot(data = vehicles_data)\n",
        "\n",
        "# Note: you can add more cells as needed to organise your code and your plots\n"
      ],
      "execution_count": 7,
      "outputs": [
        {
          "output_type": "execute_result",
          "data": {
            "text/plain": [
              "<matplotlib.axes._subplots.AxesSubplot at 0x7f5457ad4210>"
            ]
          },
          "metadata": {
            "tags": []
          },
          "execution_count": 7
        },
        {
          "output_type": "display_data",
          "data": {
            "image/png": "[encoded data removed]",
            "text/plain": [
              "<Figure size 432x288 with 1 Axes>"
            ]
          },
          "metadata": {
            "tags": [],
            "needs_background": "light"
          }
        }
      ]
    },
    {
      "cell_type": "markdown",
      "metadata": {
        "id": "B5d0tXDpIEj8"
      },
      "source": [
        "[link text](https://)## Compare the two fleets\n",
        "\n",
        "The business analysts come up a comparison algorithm that requires the upper and lower bounds for the mean in order to say which fleet is better.\n",
        "1. Calculate the mean of both samples.\n",
        "2. Using the bootstrap function that you created:\n",
        "    - Construct the 95% CI of the mean of the current fleet.\n",
        "    - Construct the 95% CI of the mean of the new fleet.\n",
        "    - Are they comparable? (i.e., is one better than the other?) -- you can do this with a permutation test (check the lecture notes!)"
      ]
    },
    {
      "cell_type": "code",
      "metadata": {
        "id": "po4mp6zRHC0m",
        "colab": {
          "base_uri": "https://localhost:8080/"
        },
        "outputId": "1332b7e0-9d77-4bab-c269-04cccb80e925"
      },
      "source": [
        "# <---INSERT YOUR CODE HERE--->\n",
        "# 1)mean of samples\n",
        "current_fleet_mean = np.mean(vehicles_data[\"Current fleet\"])\n",
        "new_fleet_mean = np.mean(vehicles_data[\"New Fleet\"])\n",
        "print(\"Mean of Current fleet:\", current_fleet_mean)\n",
        "print(\"Mean of New fleet:\", new_fleet_mean)\n",
        "\n"
      ],
      "execution_count": 8,
      "outputs": [
        {
          "output_type": "stream",
          "text": [
            "Mean of Current fleet: 16.025316455696203\n",
            "Mean of New fleet: 30.481012658227847\n"
          ],
          "name": "stdout"
        }
      ]
    },
    {
      "cell_type": "code",
      "metadata": {
        "colab": {
          "base_uri": "https://localhost:8080/"
        },
        "id": "YSBkIjwCWUT2",
        "outputId": "3c37bb92-0f33-4cab-8aa1-c50a0896178a"
      },
      "source": [
        "# 2)95% CI of the mean of the current fleet\n",
        "\n",
        "bootstrap_mean_ci(vehicles_data[\"Current fleet\"], len(vehicles_data[\"Current fleet\"]), 20000, 95)\n",
        "\n",
        "# boots = []\n",
        "# for i in range(100, 50000, 1000):\n",
        "#     boot = bootstrap_mean_ci(vehicles_data[\"Current fleet\"], vehicles_data['Current fleet'].shape[0], i, 95)\n",
        "#     boots.append([i, boot[0], \"mean\"])\n",
        "#     boots.append([i, boot[1], \"lower\"])\n",
        "#     boots.append([i, boot[2], \"upper\"])\n",
        "\n",
        "# df_boot = pd.DataFrame(boots, columns=['Boostrap Iterations', 'Mean', \"Value\"])\n",
        "# sns_plot = sns.lmplot(df_boot.columns[0], df_boot.columns[1], data=df_boot, fit_reg=False, hue=\"Value\")\n",
        "\n",
        "# sns_plot.axes[0, 0].set_ylim(0,)\n",
        "# sns_plot.axes[0, 0].set_xlim(0, 100000)"
      ],
      "execution_count": 9,
      "outputs": [
        {
          "output_type": "execute_result",
          "data": {
            "text/plain": [
              "(16.028741139240505, 15.151898734177216, 16.962025316455698)"
            ]
          },
          "metadata": {
            "tags": []
          },
          "execution_count": 9
        }
      ]
    },
    {
      "cell_type": "code",
      "metadata": {
        "colab": {
          "base_uri": "https://localhost:8080/",
          "height": 454
        },
        "id": "vzBsvH8yF7zY",
        "outputId": "c1da1a15-cb2d-4651-a666-3d5957def57b"
      },
      "source": [
        "##95% CI of the mean of the new fleet\n",
        "# bootstrap_mean_ci(vehicles_data[\"New Fleet\"], len(vehicles_data[\"New Fleet\"]), 20000, 95)\n",
        "\n",
        "\n",
        "boots = []\n",
        "for i in range(100, 50000, 1000):\n",
        "    boot = bootstrap_mean_ci(vehicles_data[\"New Fleet\"], vehicles_data['New Fleet'].shape[0], i, 95)\n",
        "    boots.append([i, boot[0], \"mean\"])\n",
        "    boots.append([i, boot[1], \"lower\"])\n",
        "    boots.append([i, boot[2], \"upper\"])\n",
        "\n",
        "df_boot = pd.DataFrame(boots, columns=['Boostrap Iterations', 'Mean', \"Value\"])\n",
        "sns_plot = sns.lmplot(df_boot.columns[0], df_boot.columns[1], data=df_boot, fit_reg=False, hue=\"Value\")\n",
        "\n",
        "sns_plot.axes[0, 0].set_ylim(0,)\n",
        "sns_plot.axes[0, 0].set_xlim(0, 100000)"
      ],
      "execution_count": 10,
      "outputs": [
        {
          "output_type": "stream",
          "text": [
            "/usr/local/lib/python3.7/dist-packages/seaborn/_decorators.py:43: FutureWarning: Pass the following variables as keyword args: x, y. From version 0.12, the only valid positional argument will be `data`, and passing other arguments without an explicit keyword will result in an error or misinterpretation.\n",
            "  FutureWarning\n"
          ],
          "name": "stderr"
        },
        {
          "output_type": "execute_result",
          "data": {
            "text/plain": [
              "(0.0, 100000.0)"
            ]
          },
          "metadata": {
            "tags": []
          },
          "execution_count": 10
        },
        {
          "output_type": "display_data",
          "data": {
            "image/png": "[encoded data removed]",
            "text/plain": [
              "<Figure size 425.125x360 with 1 Axes>"
            ]
          },
          "metadata": {
            "tags": [],
            "needs_background": "light"
          }
        }
      ]
    },
    {
      "cell_type": "code",
      "metadata": {
        "id": "MkxvDZG4HC0n"
      },
      "source": [
        "# Create your own function for a permutation test here (you will need it for the lab quiz!):\n",
        "def permut_test(sample1, sample2, n_permutations):\n",
        "    \"\"\"\n",
        "    sample1: 1D array\n",
        "    sample2: 1D array (note that the size of the two arrays can be different)\n",
        "    n_permutations: number of permutations to calculate the p-value\n",
        "    \"\"\"\n",
        "    #getting the value for the test statistic\n",
        "    sample1_mean = np.mean(sample1)\n",
        "    sample2_mean = np.mean(sample2)\n",
        "    tobs = sample2_mean - sample1_mean\n",
        "\n",
        "    ###permutation testing\n",
        "    #concatenating both samples\n",
        "    concat_samples = np.concatenate((sample1,sample2))\n",
        "    #permutating\n",
        "    count = 0\n",
        "    for i in range(n_permutations):\n",
        "      perm = np.random.permutation(concat_samples)\n",
        "      #split again to intital sized array\n",
        "      pold = perm[:int(len(perm)/2)]\n",
        "      pnew = perm[int(len(perm)/2):]\n",
        "      pold_mean = np.mean(pold)\n",
        "      pnew_mean = np.mean(pnew)\n",
        "      tperm = pnew_mean - pold_mean\n",
        "      if tperm > tobs:\n",
        "        count += 1\n",
        "\n",
        "    #p-value\n",
        "    pvalue = count/n_permutations\n",
        "\n",
        "    return pvalue"
      ],
      "execution_count": 11,
      "outputs": []
    },
    {
      "cell_type": "code",
      "metadata": {
        "colab": {
          "base_uri": "https://localhost:8080/"
        },
        "id": "0OapIbiUSP-j",
        "outputId": "f048af10-a88b-4247-d0df-ad9d6bebaf64"
      },
      "source": [
        "permut_test(vehicles_data[\"Current fleet\"], vehicles_data[\"New Fleet\"], 1000)"
      ],
      "execution_count": 12,
      "outputs": [
        {
          "output_type": "execute_result",
          "data": {
            "text/plain": [
              "0.0"
            ]
          },
          "metadata": {
            "tags": []
          },
          "execution_count": 12
        }
      ]
    },
    {
      "cell_type": "code",
      "metadata": {
        "id": "Hur6zmflolQL",
        "colab": {
          "base_uri": "https://localhost:8080/"
        },
        "outputId": "75ada9f2-f20b-4307-a133-0b7102d292c8"
      },
      "source": [
        "### This code is for writing and testing with the data in class notes\n",
        "\n",
        "x = np.array([0, 0, 0, 0, 0, 0, 1, 0, 0, 1, 0])\n",
        "y = np.array([1, 0, 0, 1, 1, 1, 0, 0, 0, 1, 0]) \n",
        "x_mean = np.mean(x)\n",
        "y_mean = np.mean(y)\n",
        "t_obs_1 = y_mean - x_mean\n",
        "len_1 = x.size\n",
        "len_2 = y.size\n",
        "print(len_1)\n",
        "  \n",
        "temp_x = x\n",
        "temp_y = y\n",
        "count = 0\n",
        "for i in range(0, 20000):\n",
        "  new_data = np.hstack([temp_x,temp_y])\n",
        "  np.random.shuffle(new_data) \n",
        "  temp_x = np.array(new_data[:len_1])\n",
        "  temp_y = np.array(new_data[len_2:])\n",
        "  t_perm_1 = np.mean(temp_y) - np.mean(temp_x)\n",
        "  if t_perm_1 > t_obs_1:\n",
        "    count+= 1\n",
        "  \n",
        "p_value = count/20000\n",
        "print(p_value)\n"
      ],
      "execution_count": 17,
      "outputs": [
        {
          "output_type": "stream",
          "text": [
            "11\n",
            "0.0312\n"
          ],
          "name": "stdout"
        }
      ]
    },
    {
      "cell_type": "code",
      "metadata": {
        "id": "9VNI4BvhJWik"
      },
      "source": [
        "# bootstrap for Standard deviation \n",
        "\n",
        "def bootstrap_sd_ci(sample, sample_size, n_bootstraps, ci):\n",
        "  boot_sd = []\n",
        "  bootstrap = np.random.choice(sample, (n_bootstraps, sample_size))\n",
        "  data_sd = np.std(bootstrap)\n",
        "  for boot in bootstrap:\n",
        "     boot_sd.append(np.std(boot))\n",
        "  alpha = (100 - ci) / 2\n",
        "  lower = np.percentile(boot_sd, alpha)\n",
        "  upper = np.percentile(boot_sd, 100 - alpha)\n",
        "\n",
        "  return data_sd,lower,upper"
      ],
      "execution_count": 15,
      "outputs": []
    },
    {
      "cell_type": "markdown",
      "metadata": {
        "id": "Oa0tfrNpLeyR"
      },
      "source": [
        "Quiz "
      ]
    },
    {
      "cell_type": "code",
      "metadata": {
        "colab": {
          "base_uri": "https://localhost:8080/"
        },
        "id": "zNKPNdy6JoUx",
        "outputId": "bcc8f0ed-822c-4f38-b6c1-081999e24912"
      },
      "source": [
        "#Question 2: The 92% confidence interval for the mean of the old fleet in the vehicles dataset using 10000 iterations\n",
        "\n",
        "oldfleet_lower_upper = bootstrap_mean_ci(vehicles_data[\"Current fleet\"], len(vehicles_data[\"Current fleet\"]), 10000, 92)\n",
        "oldfleet_upper = round(oldfleet_lower_upper[2],2)\n",
        "oldfleet_lower = round(oldfleet_lower_upper[1],2)\n",
        "\n",
        "print(oldfleet_lower, oldfleet_upper)"
      ],
      "execution_count": 27,
      "outputs": [
        {
          "output_type": "stream",
          "text": [
            "15.25 16.86\n"
          ],
          "name": "stdout"
        }
      ]
    },
    {
      "cell_type": "code",
      "metadata": {
        "colab": {
          "base_uri": "https://localhost:8080/"
        },
        "id": "LU7ERejfMYhp",
        "outputId": "2ee50d1f-a3ac-414c-f4aa-d56c36d63a60"
      },
      "source": [
        "#Question 3: The 90% confidence interval for the mean of the customers dataset using 10000 iterations\n",
        "\n",
        "customers_lower_upper = bootstrap_mean_ci(data, data.shape[0], 10000, 90)\n",
        "customers_upper = round(customers_lower_upper[2],2)\n",
        "customers_lower = round(customers_lower_upper[1],2)\n",
        "\n",
        "print(customers_lower, customers_upper)"
      ],
      "execution_count": 28,
      "outputs": [
        {
          "output_type": "stream",
          "text": [
            "6.79 11.86\n"
          ],
          "name": "stdout"
        }
      ]
    },
    {
      "cell_type": "code",
      "metadata": {
        "colab": {
          "base_uri": "https://localhost:8080/"
        },
        "id": "uo5DjEwpN3wc",
        "outputId": "e3370ef6-88f4-4b85-dabc-673c93c0a95d"
      },
      "source": [
        "#Question 4: The 73% confidence interval for the standard deviation of the new fleet in the vehicles dataset using 10000 iterations\n",
        "\n",
        "new_lower_upper = bootstrap_sd_ci(vehicles_data[\"New Fleet\"], len(vehicles_data[\"New Fleet\"]), 10000, 73)\n",
        "new_upper = round(new_lower_upper[2],2)\n",
        "new_lower = round(new_lower_upper[1],2)\n",
        "\n",
        "print(new_lower, new_upper)"
      ],
      "execution_count": 38,
      "outputs": [
        {
          "output_type": "stream",
          "text": [
            "5.51 6.51\n"
          ],
          "name": "stdout"
        }
      ]
    },
    {
      "cell_type": "code",
      "metadata": {
        "colab": {
          "base_uri": "https://localhost:8080/"
        },
        "id": "bAfnSHy_P-ah",
        "outputId": "39ea6a82-3c77-428e-bef3-bf1cfc76440e"
      },
      "source": [
        "#Question 5: The 90% confidence interval for the standard deviation of the customers dataset using 10000 iterations \n",
        "\n",
        "customers_lower_upper = bootstrap_sd_ci(data, data.shape[0], 10000, 90)\n",
        "customers_upper = round(customers_lower_upper[2],2)\n",
        "customers_lower = round(customers_lower_upper[1],2)\n",
        "\n",
        "print(customers_lower, customers_upper)"
      ],
      "execution_count": 40,
      "outputs": [
        {
          "output_type": "stream",
          "text": [
            "3.04 7.1\n"
          ],
          "name": "stdout"
        }
      ]
    },
    {
      "cell_type": "code",
      "metadata": {
        "id": "ZJM3VzDvROHS"
      },
      "source": [
        ""
      ],
      "execution_count": null,
      "outputs": []
    }
  ]
}