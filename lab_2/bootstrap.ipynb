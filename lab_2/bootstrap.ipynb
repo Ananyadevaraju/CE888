{
  "nbformat": 4,
  "nbformat_minor": 0,
  "metadata": {
    "colab": {
      "name": "bootstrap.ipynb",
      "provenance": [],
      "collapsed_sections": [],
      "include_colab_link": true
    },
    "kernelspec": {
      "display_name": "Python 3",
      "language": "python",
      "name": "python3"
    },
    "language_info": {
      "codemirror_mode": {
        "name": "ipython",
        "version": 3
      },
      "file_extension": ".py",
      "mimetype": "text/x-python",
      "name": "python",
      "nbconvert_exporter": "python",
      "pygments_lexer": "ipython3",
      "version": "3.7.6"
    },
    "pycharm": {
      "stem_cell": {
        "cell_type": "raw",
        "metadata": {
          "collapsed": false
        },
        "source": []
      }
    }
  },
  "cells": [
    {
      "cell_type": "markdown",
      "metadata": {
        "id": "view-in-github",
        "colab_type": "text"
      },
      "source": [
        "<a href=\"https://colab.research.google.com/github/Ananyadevaraju/CE888/blob/main/lab_2/bootstrap.ipynb\" target=\"_parent\"><img src=\"https://colab.research.google.com/assets/colab-badge.svg\" alt=\"Open In Colab\"/></a>"
      ]
    },
    {
      "cell_type": "markdown",
      "metadata": {
        "id": "nCi_99yMYIb1"
      },
      "source": [
        "In this notebook you'll create your own bootstrap function following the bootstrap algorithm (check the lecture notes!)"
      ]
    },
    {
      "cell_type": "code",
      "metadata": {
        "id": "LY5zujI2YC37",
        "pycharm": {
          "name": "#%%# Imports\n"
        }
      },
      "source": [
        "import matplotlib\n",
        "import pandas as pd\n",
        "import seaborn as sns\n",
        "import numpy as np"
      ],
      "execution_count": 1,
      "outputs": []
    },
    {
      "cell_type": "code",
      "metadata": {
        "id": "Eqkwj4SMY38t"
      },
      "source": [
        "# Load the data\n",
        "df = pd.read_csv('https://raw.githubusercontent.com/albanda/CE888/master/lab2%20-%20bootstrap/customers.csv')\n",
        "data = df.values.T[1]\n",
        "# data.shape"
      ],
      "execution_count": 2,
      "outputs": []
    },
    {
      "cell_type": "code",
      "metadata": {
        "id": "Gxvc_bScYC4H",
        "pycharm": {
          "name": "#%%\n"
        }
      },
      "source": [
        "# Checking the notes from the lecture, create here your own bootstrap function:\n",
        "# 1. Sample from the input array x to create an array of samples of shape (n_bootstraps, sample_size)\n",
        "# Hint: Check the function random.choice() on Numpy\n",
        "# 2. Calculate and save the mean of the array (this is \"data_mean\" that is returned by the function)\n",
        "# 3. Calculate the mean from each bootstrap (i.e., row) and store it.\n",
        "# (This should be an array of n_bootstraps values)\n",
        "# 4. Calculate the lower and upper bounds for a 95% CI (hint: check the percentile function on Numpy)\n",
        "# 5. Return data_mean, and the lower and upper bounds of your interval\n",
        "def bootstrap_mean(x, sample_size, n_bootstraps):\n",
        "\t# <---INSERT YOUR CODE HERE--->\n",
        "  # data_mean = []\n",
        "  # for i in range(n_bootstraps):\n",
        "  #   random_sample = np.random.choice(x, replace = True, size = sample_size)\n",
        "  #   random_sample_mean = np.mean(random_sample)\n",
        "  #   data_mean.append(random_sample_mean)\n",
        "  # # data_mean = np.array(data_mean)\n",
        "  # lower = np.percentile(data_mean, 2.5)\n",
        "  # upper = np.percentile(data_mean, 97.5)\n",
        "  # return data_mean, lower, upper\n",
        "\n",
        "  random_samples = np.random.choice(x, replace = True, size = [n_bootstraps, sample_size])\n",
        "  data_mean = np.mean(random_samples)\n",
        "  means = []\n",
        "  for sample in random_samples:\n",
        "    means.append(np.mean(sample))\n",
        "  means = np.array(means)\n",
        "  lower = np.percentile(means, 2.5)\n",
        "  upper = np.percentile(means, 97.5)\n",
        "\n",
        "  return data_mean, lower, upper"
      ],
      "execution_count": 3,
      "outputs": []
    },
    {
      "cell_type": "code",
      "metadata": {
        "id": "AN7sEOcMYC4P",
        "pycharm": {
          "name": "#%%\n"
        },
        "colab": {
          "base_uri": "https://localhost:8080/",
          "height": 454
        },
        "outputId": "b037f7ff-188b-4161-bee6-f311c522b9d7"
      },
      "source": [
        "# Call your bootstrap function and plot the results\n",
        "\n",
        "boots = []\n",
        "for i in range(100, 50000, 1000):\n",
        "    boot = bootstrap_mean(data, data.shape[0], i)\n",
        "    boots.append([i, boot[0], \"mean\"])\n",
        "    boots.append([i, boot[1], \"lower\"])\n",
        "    boots.append([i, boot[2], \"upper\"])\n",
        "\n",
        "df_boot = pd.DataFrame(boots, columns=['Bootstrap Iterations', 'Mean', \"Value\"])\n",
        "sns_plot = sns.lmplot(df_boot.columns[0], df_boot.columns[1], data=df_boot, fit_reg=False, hue=\"Value\")\n",
        "\n",
        "sns_plot.axes[0, 0].set_ylim(0,)\n",
        "sns_plot.axes[0, 0].set_xlim(0, 100000)\n"
      ],
      "execution_count": 4,
      "outputs": [
        {
          "output_type": "stream",
          "text": [
            "/usr/local/lib/python3.7/dist-packages/seaborn/_decorators.py:43: FutureWarning: Pass the following variables as keyword args: x, y. From version 0.12, the only valid positional argument will be `data`, and passing other arguments without an explicit keyword will result in an error or misinterpretation.\n",
            "  FutureWarning\n"
          ],
          "name": "stderr"
        },
        {
          "output_type": "execute_result",
          "data": {
            "text/plain": [
              "(0.0, 100000.0)"
            ]
          },
          "metadata": {
            "tags": []
          },
          "execution_count": 4
        },
        {
          "output_type": "display_data",
          "data": {
            "image/png": "[encoded data removed]",
            "text/plain": [
              "<Figure size 425.125x360 with 1 Axes>"
            ]
          },
          "metadata": {
            "tags": [],
            "needs_background": "light"
          }
        }
      ]
    },
    {
      "cell_type": "markdown",
      "metadata": {
        "id": "MjtP4e2_YC4V"
      },
      "source": [
        "\n",
        "Now, modify the bootstrap function you created above so that you can pass your desired confidence interval as a parameter.\n",
        "\n"
      ]
    },
    {
      "cell_type": "code",
      "metadata": {
        "id": "3K9j0FuGYhHs"
      },
      "source": [
        "def bootstrap_mean_ci(sample, sample_size, n_bootstraps, ci):\n",
        "\t# <---INSERT YOUR CODE HERE--->\n",
        "  random_samples = np.random.choice(sample, replace = True, size = [n_bootstraps, sample_size])\n",
        "  data_mean = np.mean(random_samples)\n",
        "  means = []\n",
        "  for sample in random_samples:\n",
        "    means.append(np.mean(sample))\n",
        "  means = np.array(means)\n",
        "  remove_lower = (100-ci)/2\n",
        "  remove_upper = 100-remove_lower\n",
        "  lower = np.percentile(means, remove_lower)\n",
        "  upper = np.percentile(means, remove_upper)\n",
        "  return data_mean, lower, upper"
      ],
      "execution_count": 5,
      "outputs": []
    },
    {
      "cell_type": "code",
      "metadata": {
        "id": "uDnjq08GYl-C",
        "colab": {
          "base_uri": "https://localhost:8080/",
          "height": 437
        },
        "outputId": "1ed9441e-d023-4ba2-b3e5-938c1f30c0b5"
      },
      "source": [
        "boots = []\n",
        "for i in range(100, 50000, 1000):\n",
        "    boot = bootstrap_mean_ci(data, data.shape[0], i, 80)\n",
        "    boots.append([i, boot[0], \"mean\"])\n",
        "    boots.append([i, boot[1], \"lower\"])\n",
        "    boots.append([i, boot[2], \"upper\"])\n",
        "\n",
        "df_boot = pd.DataFrame(boots, columns=['Boostrap Iterations', 'Mean', \"Value\"])\n",
        "sns_plot = sns.lmplot(df_boot.columns[0], df_boot.columns[1], data=df_boot, fit_reg=False, hue=\"Value\")\n",
        "\n",
        "sns_plot.axes[0, 0].set_ylim(0,)\n",
        "sns_plot.axes[0, 0].set_xlim(0, 100000)\n",
        "\n",
        "sns_plot.savefig(\"bootstrap_confidence_80.pdf\", bbox_inches='tight')\n"
      ],
      "execution_count": 6,
      "outputs": [
        {
          "output_type": "stream",
          "text": [
            "/usr/local/lib/python3.7/dist-packages/seaborn/_decorators.py:43: FutureWarning: Pass the following variables as keyword args: x, y. From version 0.12, the only valid positional argument will be `data`, and passing other arguments without an explicit keyword will result in an error or misinterpretation.\n",
            "  FutureWarning\n"
          ],
          "name": "stderr"
        },
        {
          "output_type": "display_data",
          "data": {
            "image/png": "[encoded data removed]",
            "text/plain": [
              "<Figure size 425.125x360 with 1 Axes>"
            ]
          },
          "metadata": {
            "tags": [],
            "needs_background": "light"
          }
        }
      ]
    },
    {
      "cell_type": "markdown",
      "metadata": {
        "id": "qjNgXW6wdd7r"
      },
      "source": [
        "# Vehicles dataset\n",
        "\n",
        "Now let's work on a different dataset, which is stored in the vehicles.csv file.\n"
      ]
    },
    {
      "cell_type": "code",
      "metadata": {
        "id": "avWv4ipFdpka",
        "colab": {
          "base_uri": "https://localhost:8080/",
          "height": 282
        },
        "outputId": "15f4b93d-7d32-4f33-f7cb-2aced590ee4a"
      },
      "source": [
        "# Load and visualise the vehicles dataset\n",
        "# To load the dataset: https://neptune.ai/blog/google-colab-dealing-with-files (check section \"Load individual files directly from GitHub\")\n",
        "\n",
        "\n",
        "# Note that the current and new fleets are in different columns and have different lengths, so bear this in mind when you're plotting.\n",
        "# You can create separate scatterplots for the two fleets, as you would with the histograms, \n",
        "# or plot them both in one plot (but not one against the other).\n",
        "# <---INSERT YOUR CODE HERE--->\n",
        "\n",
        "#load the data\n",
        "vehicles_data = pd.read_csv('https://raw.githubusercontent.com/albanda/CE888/master/lab2%20-%20bootstrap/vehicles.csv')\n",
        "vehicles_data.head()\n",
        "vehicles_data.dropna(subset = [\"New Fleet\"], inplace = True)\n",
        "# print(vehicles_data[\"New Fleet\"])\n",
        "# vehicles_data.shape\n",
        "\n",
        "#plot\n",
        "sns.scatterplot(data = vehicles_data)\n",
        "\n",
        "# Note: you can add more cells as needed to organise your code and your plots\n"
      ],
      "execution_count": 7,
      "outputs": [
        {
          "output_type": "execute_result",
          "data": {
            "text/plain": [
              "<matplotlib.axes._subplots.AxesSubplot at 0x7fa60f2e7290>"
            ]
          },
          "metadata": {
            "tags": []
          },
          "execution_count": 7
        },
        {
          "output_type": "display_data",
          "data": {
            "image/png": "[encoded data removed]",
            "text/plain": [
              "<Figure size 432x288 with 1 Axes>"
            ]
          },
          "metadata": {
            "tags": [],
            "needs_background": "light"
          }
        }
      ]
    },
    {
      "cell_type": "markdown",
      "metadata": {
        "id": "B5d0tXDpIEj8"
      },
      "source": [
        "[link text](https://)## Compare the two fleets\n",
        "\n",
        "The business analysts come up a comparison algorithm that requires the upper and lower bounds for the mean in order to say which fleet is better.\n",
        "1. Calculate the mean of both samples.\n",
        "2. Using the bootstrap function that you created:\n",
        "    - Construct the 95% CI of the mean of the current fleet.\n",
        "    - Construct the 95% CI of the mean of the new fleet.\n",
        "    - Are they comparable? (i.e., is one better than the other?) -- you can do this with a permutation test (check the lecture notes!)"
      ]
    },
    {
      "cell_type": "code",
      "metadata": {
        "id": "po4mp6zRHC0m",
        "colab": {
          "base_uri": "https://localhost:8080/"
        },
        "outputId": "2dc9dab8-61cf-4721-b15c-3dd59d75b561"
      },
      "source": [
        "# <---INSERT YOUR CODE HERE--->\n",
        "# 1)mean of samples\n",
        "current_fleet_mean = np.mean(vehicles_data[\"Current fleet\"])\n",
        "new_fleet_mean = np.mean(vehicles_data[\"New Fleet\"])\n",
        "print(\"Mean of Current fleet:\", current_fleet_mean)\n",
        "print(\"Mean of New fleet:\", new_fleet_mean)\n",
        "\n"
      ],
      "execution_count": 8,
      "outputs": [
        {
          "output_type": "stream",
          "text": [
            "Mean of Current fleet: 16.025316455696203\n",
            "Mean of New fleet: 30.481012658227847\n"
          ],
          "name": "stdout"
        }
      ]
    },
    {
      "cell_type": "code",
      "metadata": {
        "colab": {
          "base_uri": "https://localhost:8080/"
        },
        "id": "YSBkIjwCWUT2",
        "outputId": "3087edd7-b4ab-46ae-ac46-9f958d93818f"
      },
      "source": [
        "# 2)95% CI of the mean of the current fleet\n",
        "\n",
        "bootstrap_mean_ci(vehicles_data[\"Current fleet\"], len(vehicles_data[\"Current fleet\"]), 20000, 95)\n",
        "\n",
        "# boots = []\n",
        "# for i in range(100, 50000, 1000):\n",
        "#     boot = bootstrap_mean_ci(vehicles_data[\"Current fleet\"], vehicles_data['Current fleet'].shape[0], i, 95)\n",
        "#     boots.append([i, boot[0], \"mean\"])\n",
        "#     boots.append([i, boot[1], \"lower\"])\n",
        "#     boots.append([i, boot[2], \"upper\"])\n",
        "\n",
        "# df_boot = pd.DataFrame(boots, columns=['Boostrap Iterations', 'Mean', \"Value\"])\n",
        "# sns_plot = sns.lmplot(df_boot.columns[0], df_boot.columns[1], data=df_boot, fit_reg=False, hue=\"Value\")\n",
        "\n",
        "# sns_plot.axes[0, 0].set_ylim(0,)\n",
        "# sns_plot.axes[0, 0].set_xlim(0, 100000)"
      ],
      "execution_count": 9,
      "outputs": [
        {
          "output_type": "execute_result",
          "data": {
            "text/plain": [
              "(16.02798987341772, 15.139240506329115, 16.974683544303797)"
            ]
          },
          "metadata": {
            "tags": []
          },
          "execution_count": 9
        }
      ]
    },
    {
      "cell_type": "code",
      "metadata": {
        "colab": {
          "base_uri": "https://localhost:8080/",
          "height": 454
        },
        "id": "vzBsvH8yF7zY",
        "outputId": "113c5573-2712-4486-c4e7-4deac1f1f1e0"
      },
      "source": [
        "##95% CI of the mean of the new fleet\n",
        "# bootstrap_mean_ci(vehicles_data[\"New Fleet\"], len(vehicles_data[\"New Fleet\"]), 20000, 95)\n",
        "\n",
        "\n",
        "boots = []\n",
        "for i in range(100, 50000, 1000):\n",
        "    boot = bootstrap_mean_ci(vehicles_data[\"New Fleet\"], vehicles_data['New Fleet'].shape[0], i, 95)\n",
        "    boots.append([i, boot[0], \"mean\"])\n",
        "    boots.append([i, boot[1], \"lower\"])\n",
        "    boots.append([i, boot[2], \"upper\"])\n",
        "\n",
        "df_boot = pd.DataFrame(boots, columns=['Boostrap Iterations', 'Mean', \"Value\"])\n",
        "sns_plot = sns.lmplot(df_boot.columns[0], df_boot.columns[1], data=df_boot, fit_reg=False, hue=\"Value\")\n",
        "\n",
        "sns_plot.axes[0, 0].set_ylim(0,)\n",
        "sns_plot.axes[0, 0].set_xlim(0, 100000)"
      ],
      "execution_count": 10,
      "outputs": [
        {
          "output_type": "stream",
          "text": [
            "/usr/local/lib/python3.7/dist-packages/seaborn/_decorators.py:43: FutureWarning: Pass the following variables as keyword args: x, y. From version 0.12, the only valid positional argument will be `data`, and passing other arguments without an explicit keyword will result in an error or misinterpretation.\n",
            "  FutureWarning\n"
          ],
          "name": "stderr"
        },
        {
          "output_type": "execute_result",
          "data": {
            "text/plain": [
              "(0.0, 100000.0)"
            ]
          },
          "metadata": {
            "tags": []
          },
          "execution_count": 10
        },
        {
          "output_type": "display_data",
          "data": {
            "image/png": "[encoded data removed]",
            "text/plain": [
              "<Figure size 425.125x360 with 1 Axes>"
            ]
          },
          "metadata": {
            "tags": [],
            "needs_background": "light"
          }
        }
      ]
    },
    {
      "cell_type": "code",
      "metadata": {
        "id": "MkxvDZG4HC0n"
      },
      "source": [
        "# Create your own function for a permutation test here (you will need it for the lab quiz!):\n",
        "def permut_test(sample1, sample2, n_permutations):\n",
        "    \"\"\"\n",
        "    sample1: 1D array\n",
        "    sample2: 1D array (note that the size of the two arrays can be different)\n",
        "    n_permutations: number of permutations to calculate the p-value\n",
        "    \"\"\"\n",
        "    #getting the value for the test statistic\n",
        "    sample1_mean = np.mean(sample1)\n",
        "    sample2_mean = np.mean(sample2)\n",
        "    tobs = sample2_mean - sample1_mean\n",
        "\n",
        "    ###permutation testing\n",
        "    #concatenating both samples\n",
        "    concat_samples = np.concatenate((sample1,sample2))\n",
        "    #permutating\n",
        "    count = 0\n",
        "    for i in range(n_permutations):\n",
        "      perm = np.random.permutation(concat_samples)\n",
        "      #split again to intital sized array\n",
        "      pold = perm[:int(len(perm)/2)]\n",
        "      pnew = perm[int(len(perm)/2):]\n",
        "      pold_mean = np.mean(pold)\n",
        "      pnew_mean = np.mean(pnew)\n",
        "      tperm = pnew_mean - pold_mean\n",
        "      if tperm > tobs:\n",
        "        count += 1\n",
        "\n",
        "    #p-value\n",
        "    pvalue = count/n_permutations\n",
        "\n",
        "    return pvalue"
      ],
      "execution_count": 11,
      "outputs": []
    },
    {
      "cell_type": "code",
      "metadata": {
        "colab": {
          "base_uri": "https://localhost:8080/"
        },
        "id": "0OapIbiUSP-j",
        "outputId": "127cd364-0ee2-4ddc-c93e-63200da62c54"
      },
      "source": [
        "permut_test(vehicles_data[\"Current fleet\"], vehicles_data[\"New Fleet\"], 1000)"
      ],
      "execution_count": 12,
      "outputs": [
        {
          "output_type": "execute_result",
          "data": {
            "text/plain": [
              "0.0"
            ]
          },
          "metadata": {
            "tags": []
          },
          "execution_count": 12
        }
      ]
    },
    {
      "cell_type": "code",
      "metadata": {
        "id": "Hur6zmflolQL",
        "colab": {
          "base_uri": "https://localhost:8080/"
        },
        "outputId": "f7736d42-d4ca-4c25-e95a-d6f9f788d3a6"
      },
      "source": [
        "### This code is for writing and testing with the data in class notes\n",
        "\n",
        "x = np.array([0, 0, 0, 0, 0, 0, 1, 0, 0, 1, 0])\n",
        "y = np.array([1, 0, 0, 1, 1, 1, 0, 0, 0, 1, 0]) \n",
        "x_mean = np.mean(x)\n",
        "y_mean = np.mean(y)\n",
        "t_obs_1 = y_mean - x_mean\n",
        "len_1 = x.size\n",
        "len_2 = y.size\n",
        "print(len_1)\n",
        "  \n",
        "temp_x = x\n",
        "temp_y = y\n",
        "count = 0\n",
        "for i in range(0, 20000):\n",
        "  new_data = np.hstack([temp_x,temp_y])\n",
        "  np.random.shuffle(new_data) \n",
        "  temp_x = np.array(new_data[:len_1])\n",
        "  temp_y = np.array(new_data[len_2:])\n",
        "  t_perm_1 = np.mean(temp_y) - np.mean(temp_x)\n",
        "  if t_perm_1 > t_obs_1:\n",
        "    count+= 1\n",
        "  \n",
        "p_value = count/20000\n",
        "print(p_value)\n"
      ],
      "execution_count": 13,
      "outputs": [
        {
          "output_type": "stream",
          "text": [
            "11\n",
            "0.0306\n"
          ],
          "name": "stdout"
        }
      ]
    },
    {
      "cell_type": "code",
      "metadata": {
        "id": "9VNI4BvhJWik"
      },
      "source": [
        "# bootstrap for Standard deviation \n",
        "\n",
        "def bootstrap_sd_ci(sample, sample_size, n_bootstraps, ci):\n",
        "  boot_sd = []\n",
        "  bootstrap = np.random.choice(sample, (n_bootstraps, sample_size))\n",
        "  data_sd = np.std(bootstrap)\n",
        "  for boot in bootstrap:\n",
        "     boot_sd.append(np.std(boot))\n",
        "  alpha = (100 - ci) / 2\n",
        "  lower = np.percentile(boot_sd, alpha)\n",
        "  upper = np.percentile(boot_sd, 100 - alpha)\n",
        "\n",
        "  return data_sd,lower,upper"
      ],
      "execution_count": 14,
      "outputs": []
    },
    {
      "cell_type": "markdown",
      "metadata": {
        "id": "Oa0tfrNpLeyR"
      },
      "source": [
        "# Quiz "
      ]
    },
    {
      "cell_type": "markdown",
      "metadata": {
        "id": "S62H9B7b1DTY"
      },
      "source": [
        "Attempt #1"
      ]
    },
    {
      "cell_type": "code",
      "metadata": {
        "colab": {
          "base_uri": "https://localhost:8080/"
        },
        "id": "LU7ERejfMYhp",
        "outputId": "1b9edb46-e695-4699-ef59-1be04f341817"
      },
      "source": [
        "#Question 3: The 90% confidence interval for the mean of the customers dataset using 10000 iterations\n",
        "\n",
        "customers_lower_upper = bootstrap_mean_ci(data, data.shape[0], 10000, 90)\n",
        "customers_upper = round(customers_lower_upper[2],2)\n",
        "customers_lower = round(customers_lower_upper[1],2)\n",
        "\n",
        "print(customers_lower, customers_upper)"
      ],
      "execution_count": 15,
      "outputs": [
        {
          "output_type": "stream",
          "text": [
            "6.86 11.86\n"
          ],
          "name": "stdout"
        }
      ]
    },
    {
      "cell_type": "code",
      "metadata": {
        "colab": {
          "base_uri": "https://localhost:8080/"
        },
        "id": "uo5DjEwpN3wc",
        "outputId": "a6a16080-aa7c-4890-f646-d5db24a32d95"
      },
      "source": [
        "#Question 4: The 73% confidence interval for the standard deviation of the new fleet in the vehicles dataset using 10000 iterations\n",
        "\n",
        "new_lower_upper = bootstrap_sd_ci(vehicles_data[\"New Fleet\"], len(vehicles_data[\"New Fleet\"]), 10000, 73)\n",
        "new_upper = round(new_lower_upper[2],2)\n",
        "new_lower = round(new_lower_upper[1],2)\n",
        "\n",
        "print(new_lower, new_upper)"
      ],
      "execution_count": 16,
      "outputs": [
        {
          "output_type": "stream",
          "text": [
            "5.51 6.51\n"
          ],
          "name": "stdout"
        }
      ]
    },
    {
      "cell_type": "code",
      "metadata": {
        "colab": {
          "base_uri": "https://localhost:8080/"
        },
        "id": "bAfnSHy_P-ah",
        "outputId": "2a1db8bc-9102-4786-d64a-570ead7e4ce4"
      },
      "source": [
        "#Question 5: The 90% confidence interval for the standard deviation of the customers dataset using 10000 iterations \n",
        "\n",
        "customers_lower_upper = bootstrap_sd_ci(data, data.shape[0], 10000, 90)\n",
        "customers_upper = round(customers_lower_upper[2],2)\n",
        "customers_lower = round(customers_lower_upper[1],2)\n",
        "\n",
        "print(customers_lower, customers_upper)"
      ],
      "execution_count": 17,
      "outputs": [
        {
          "output_type": "stream",
          "text": [
            "3.02 7.12\n"
          ],
          "name": "stdout"
        }
      ]
    },
    {
      "cell_type": "code",
      "metadata": {
        "colab": {
          "base_uri": "https://localhost:8080/"
        },
        "id": "ZJM3VzDvROHS",
        "outputId": "67e94811-0874-4dd5-ba94-ef1395526630"
      },
      "source": [
        "#Question 7: The p-value from a permutation test with 30000 permutations (vehicles.csv)\n",
        "\n",
        "print(round(permut_test(vehicles_data[\"Current fleet\"], vehicles_data[\"New Fleet\"], 30000), 3))"
      ],
      "execution_count": 18,
      "outputs": [
        {
          "output_type": "stream",
          "text": [
            "0.0\n"
          ],
          "name": "stdout"
        }
      ]
    },
    {
      "cell_type": "code",
      "metadata": {
        "colab": {
          "base_uri": "https://localhost:8080/"
        },
        "id": "hdEwkePOTbkI",
        "outputId": "a9bebbab-247b-43a5-b412-cfcc61ed05fa"
      },
      "source": [
        "#Question 8: The 95% confidence intervals for the means of the votes using 20000 bootstraps\n",
        "# The variables below represent the percentages of democratic votes in Pennsylvania and Ohio (one value for each state).\n",
        "dem_share_PA = [60.08, 40.64, 36.07, 41.21, 31.04, 43.78, 44.08, 46.85, 44.71, 46.15, 63.10, 52.20, 43.18, 40.24, 39.92, 47.87, 37.77, 40.11, 49.85, 48.61, 38.62, 54.25, 34.84, 47.75, 43.82, 55.97, 58.23, 42.97, 42.38, 36.11, 37.53, 42.65, 50.96, 47.43, 56.24, 45.60, 46.39, 35.22, 48.56, 32.97, 57.88, 36.05, 37.72, 50.36, 32.12, 41.55, 54.66, 57.81, 54.58, 32.88, 54.37, 40.45, 47.61, 60.49, 43.11, 27.32, 44.03, 33.56, 37.26, 54.64, 43.12, 25.34, 49.79, 83.56, 40.09, 60.81, 49.81]\n",
        "dem_share_OH = [56.94, 50.46, 65.99, 45.88, 42.23, 45.26, 57.01, 53.61, 59.10, 61.48, 43.43, 44.69, 54.59, 48.36, 45.89, 48.62, 43.92, 38.23, 28.79, 63.57, 38.07, 40.18, 43.05, 41.56, 42.49, 36.06, 52.76, 46.07, 39.43, 39.26, 47.47, 27.92, 38.01, 45.45, 29.07, 28.94, 51.28, 50.10, 39.84, 36.43, 35.71, 31.47, 47.01, 40.10, 48.76, 31.56, 39.86, 45.31, 35.47, 51.38, 46.33, 48.73, 41.77, 41.32, 48.46, 53.14, 34.01, 54.74, 40.67, 38.96, 46.29, 38.25, 6.80, 31.75, 46.33, 44.90, 33.57, 38.10, 39.67, 40.47, 49.44, 37.62, 36.71, 46.73, 42.20, 53.16, 52.40, 58.36, 68.02, 38.53, 34.58, 69.64, 60.50, 53.53, 36.54, 49.58, 41.97, 38.11]\n",
        "\n",
        "\n",
        "print(len(dem_share_PA), len(dem_share_OH))\n",
        "share_PA = np.array(dem_share_PA)\n",
        "share_OH = np.array(dem_share_OH)\n",
        "\n",
        "#print(np.mean(share_PA), np.mean(share_OH))\n",
        "\n",
        "#Q8: The 95% confidence intervals for the means of the votes using 20000 bootstraps are:\n",
        "PA_UpperLower = bootstrap_mean_ci(share_PA, share_PA.shape[0], 20000,95)\n",
        "PA_upper = round(PA_UpperLower[2],2)\n",
        "PA_lower = round(PA_UpperLower[1],2)\n",
        "\n",
        "OH_UpperLower = bootstrap_mean_ci(share_OH, share_OH.shape[0], 20000,95)\n",
        "OH_upper = round(OH_UpperLower[2],2)\n",
        "OH_lower = round(OH_UpperLower[1],2)\n",
        "\n",
        "print(\"for PA: {},{}\".format(PA_upper, PA_lower))\n",
        "print(\"for OH: {},{}\".format(OH_upper, OH_lower))\n",
        "\n",
        "#taking out the p-value\n",
        "\n",
        "print(round(permut_test(dem_share_PA, dem_share_OH, 10000),3))"
      ],
      "execution_count": 19,
      "outputs": [
        {
          "output_type": "stream",
          "text": [
            "67 88\n",
            "for PA: 47.85,43.23\n",
            "for OH: 46.34,42.23\n",
            "0.761\n"
          ],
          "name": "stdout"
        }
      ]
    },
    {
      "cell_type": "code",
      "metadata": {
        "id": "dt-DMCXLTw8S"
      },
      "source": [
        ""
      ],
      "execution_count": 19,
      "outputs": []
    },
    {
      "cell_type": "markdown",
      "metadata": {
        "id": "22tlXVBN1Gt8"
      },
      "source": [
        "Attempt #2"
      ]
    },
    {
      "cell_type": "code",
      "metadata": {
        "colab": {
          "base_uri": "https://localhost:8080/"
        },
        "id": "wJMTYGuS1IS7",
        "outputId": "a5f9f0b9-f106-4ab1-889f-c4da1aa432ba"
      },
      "source": [
        "#Question 2: The 80% confidence interval for the mean of the new fleet in the vehicles dataset using 10000 iterations\n",
        "\n",
        "customers_lower_upper = bootstrap_mean_ci(vehicles_data[\"New Fleet\"], len(vehicles_data[\"New Fleet\"]), 10000, 80)\n",
        "customers_upper = round(customers_lower_upper[2],2)\n",
        "customers_lower = round(customers_lower_upper[1],2)\n",
        "\n",
        "print(customers_lower, customers_upper)"
      ],
      "execution_count": 26,
      "outputs": [
        {
          "output_type": "stream",
          "text": [
            "29.61 31.37\n"
          ],
          "name": "stdout"
        }
      ]
    },
    {
      "cell_type": "code",
      "metadata": {
        "colab": {
          "base_uri": "https://localhost:8080/"
        },
        "id": "2p0MAy681XAz",
        "outputId": "0db9b57b-7bbf-409e-b2a2-b232390ddd9f"
      },
      "source": [
        "#Question 3: The 80% confidence interval for the mean of the old fleet in the vehicles dataset using 10000 iterations\n",
        "\n",
        "vehicles_lower_upper = bootstrap_mean_ci(vehicles_data[\"Current fleet\"], len(vehicles_data[\"Current fleet\"]), 10000, 80)\n",
        "vehicles_upper = round(vehicles_lower_upper[2],2)\n",
        "vehicles_lower = round(vehicles_lower_upper[1],2)\n",
        "\n",
        "print(vehicles_lower, vehicles_upper)"
      ],
      "execution_count": 27,
      "outputs": [
        {
          "output_type": "stream",
          "text": [
            "15.43 16.63\n"
          ],
          "name": "stdout"
        }
      ]
    },
    {
      "cell_type": "code",
      "metadata": {
        "colab": {
          "base_uri": "https://localhost:8080/"
        },
        "id": "k2bslTbm2BBS",
        "outputId": "e59a0a9d-a96b-4932-cd12-afc4829fa378"
      },
      "source": [
        "#Question 4: The 99% confidence interval for the standard deviation of the new fleet in the vehicles dataset using 10000 iterations\n",
        "\n",
        "new_lower_upper = bootstrap_sd_ci(vehicles_data[\"New Fleet\"], len(vehicles_data[\"New Fleet\"]), 10000, 99)\n",
        "new_upper = round(new_lower_upper[2],2)\n",
        "new_lower = round(new_lower_upper[1],2)\n",
        "\n",
        "print(new_lower, new_upper)"
      ],
      "execution_count": 28,
      "outputs": [
        {
          "output_type": "stream",
          "text": [
            "4.9 7.19\n"
          ],
          "name": "stdout"
        }
      ]
    },
    {
      "cell_type": "code",
      "metadata": {
        "colab": {
          "base_uri": "https://localhost:8080/"
        },
        "id": "Lh5wryYh3TBj",
        "outputId": "6a39cac9-2cf9-4192-a27e-12659fc2c337"
      },
      "source": [
        "#Question 5: The 95% confidence interval for the standard deviation of the old fleet in the vehicles dataset using 10000 iterations\n",
        "\n",
        "new_lower_upper = bootstrap_sd_ci(vehicles_data[\"Current fleet\"], len(vehicles_data[\"Current fleet\"]), 10000, 95)\n",
        "new_upper = round(new_lower_upper[2],2)\n",
        "new_lower = round(new_lower_upper[1],2)\n",
        "\n",
        "print(new_lower, new_upper)"
      ],
      "execution_count": 29,
      "outputs": [
        {
          "output_type": "stream",
          "text": [
            "3.37 4.85\n"
          ],
          "name": "stdout"
        }
      ]
    },
    {
      "cell_type": "code",
      "metadata": {
        "colab": {
          "base_uri": "https://localhost:8080/"
        },
        "id": "WykTjueF3jQQ",
        "outputId": "ff0a94d3-bc07-47f5-fb5b-606797be6e33"
      },
      "source": [
        "#Question 7: The p-value from a permutation test with 30000 permutations\n",
        "\n",
        "print(round(permut_test(vehicles_data[\"Current fleet\"], vehicles_data[\"New Fleet\"], 30000), 3))"
      ],
      "execution_count": 30,
      "outputs": [
        {
          "output_type": "stream",
          "text": [
            "0.0\n"
          ],
          "name": "stdout"
        }
      ]
    },
    {
      "cell_type": "code",
      "metadata": {
        "colab": {
          "base_uri": "https://localhost:8080/"
        },
        "id": "4PDWK_vt5YeF",
        "outputId": "87fcba4a-591f-4e74-e52c-4f87cc0ccbb0"
      },
      "source": [
        "#Question 8: \n",
        "#Question 8: The 95% confidence intervals for the means of the votes using 20000 bootstraps\n",
        "# The variables below represent the percentages of democratic votes in Pennsylvania and Ohio (one value for each state).\n",
        "dem_share_PA = [60.08, 40.64, 36.07, 41.21, 31.04, 43.78, 44.08, 46.85, 44.71, 46.15, 63.10, 52.20, 43.18, 40.24, 39.92, 47.87, 37.77, 40.11, 49.85, 48.61, 38.62, 54.25, 34.84, 47.75, 43.82, 55.97, 58.23, 42.97, 42.38, 36.11, 37.53, 42.65, 50.96, 47.43, 56.24, 45.60, 46.39, 35.22, 48.56, 32.97, 57.88, 36.05, 37.72, 50.36, 32.12, 41.55, 54.66, 57.81, 54.58, 32.88, 54.37, 40.45, 47.61, 60.49, 43.11, 27.32, 44.03, 33.56, 37.26, 54.64, 43.12, 25.34, 49.79, 83.56, 40.09, 60.81, 49.81]\n",
        "dem_share_OH = [56.94, 50.46, 65.99, 45.88, 42.23, 45.26, 57.01, 53.61, 59.10, 61.48, 43.43, 44.69, 54.59, 48.36, 45.89, 48.62, 43.92, 38.23, 28.79, 63.57, 38.07, 40.18, 43.05, 41.56, 42.49, 36.06, 52.76, 46.07, 39.43, 39.26, 47.47, 27.92, 38.01, 45.45, 29.07, 28.94, 51.28, 50.10, 39.84, 36.43, 35.71, 31.47, 47.01, 40.10, 48.76, 31.56, 39.86, 45.31, 35.47, 51.38, 46.33, 48.73, 41.77, 41.32, 48.46, 53.14, 34.01, 54.74, 40.67, 38.96, 46.29, 38.25, 6.80, 31.75, 46.33, 44.90, 33.57, 38.10, 39.67, 40.47, 49.44, 37.62, 36.71, 46.73, 42.20, 53.16, 52.40, 58.36, 68.02, 38.53, 34.58, 69.64, 60.50, 53.53, 36.54, 49.58, 41.97, 38.11]\n",
        "\n",
        "\n",
        "print(len(dem_share_PA), len(dem_share_OH))\n",
        "share_PA = np.array(dem_share_PA)\n",
        "share_OH = np.array(dem_share_OH)\n",
        "\n",
        "#print(np.mean(share_PA), np.mean(share_OH))\n",
        "\n",
        "#Q8: The 98% confidence intervals for the means of the votes using 100000 bootstraps\n",
        "PA_UpperLower = bootstrap_mean_ci(share_PA, share_PA.shape[0], 100000,98)\n",
        "PA_upper = round(PA_UpperLower[2],2)\n",
        "PA_lower = round(PA_UpperLower[1],2)\n",
        "\n",
        "OH_UpperLower = bootstrap_mean_ci(share_OH, share_OH.shape[0], 100000,98)\n",
        "OH_upper = round(OH_UpperLower[2],2)\n",
        "OH_lower = round(OH_UpperLower[1],2)\n",
        "\n",
        "print(\"for PA: {},{}\".format(PA_upper, PA_lower))\n",
        "print(\"for OH: {},{}\".format(OH_upper, OH_lower))\n",
        "\n",
        "#taking out the p-value\n",
        "\n",
        "print(round(permut_test(dem_share_PA, dem_share_OH, 30000),3))"
      ],
      "execution_count": 32,
      "outputs": [
        {
          "output_type": "stream",
          "text": [
            "67 88\n",
            "for PA: 48.32,42.8\n",
            "for OH: 46.74,41.87\n",
            "0.764\n"
          ],
          "name": "stdout"
        }
      ]
    },
    {
      "cell_type": "code",
      "metadata": {
        "id": "APXxjp5C5s5e"
      },
      "source": [
        ""
      ],
      "execution_count": 25,
      "outputs": []
    }
  ]
}