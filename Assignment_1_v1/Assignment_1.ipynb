{
  "nbformat": 4,
  "nbformat_minor": 0,
  "metadata": {
    "colab": {
      "name": "Assignment_1.ipynb",
      "provenance": [],
      "collapsed_sections": [],
      "authorship_tag": "ABX9TyN15iNmrf+5p66Ga5EQHQrF",
      "include_colab_link": true
    },
    "kernelspec": {
      "name": "python3",
      "display_name": "Python 3"
    }
  },
  "cells": [
    {
      "cell_type": "markdown",
      "metadata": {
        "id": "view-in-github",
        "colab_type": "text"
      },
      "source": [
        "<a href=\"https://colab.research.google.com/github/Ananyadevaraju/CE888/blob/main/Assignment_1_v1/Assignment_1.ipynb\" target=\"_parent\"><img src=\"https://colab.research.google.com/assets/colab-badge.svg\" alt=\"Open In Colab\"/></a>"
      ]
    },
    {
      "cell_type": "markdown",
      "metadata": {
        "id": "-BdTFra8qBlS"
      },
      "source": [
        "IS THE UK POLICE BIASED?"
      ]
    },
    {
      "cell_type": "markdown",
      "metadata": {
        "id": "_DBQuS9FqLV8"
      },
      "source": [
        "Importing libraries:"
      ]
    },
    {
      "cell_type": "code",
      "metadata": {
        "id": "5T1zUlCP5aOl"
      },
      "source": [
        "#import libraries\r\n",
        "import pandas as pd\r\n",
        "import numpy as np\r\n",
        "from datetime import datetime \r\n",
        "import matplotlib.pyplot as plt\r\n",
        "import seaborn as sns"
      ],
      "execution_count": 29,
      "outputs": []
    },
    {
      "cell_type": "markdown",
      "metadata": {
        "id": "JpzL4koLqU7D"
      },
      "source": [
        "Loading data:"
      ]
    },
    {
      "cell_type": "code",
      "metadata": {
        "id": "oy9lzuhydhkA"
      },
      "source": [
        "#load data \r\n",
        "#data is stored in multiple files \r\n",
        "\r\n",
        "files = [\"2018-01\", \"2018-02\",\"2018-03\",\"2018-04\",\"2018-05\",\"2018-06\",\"2018-07\",\"2018-08\",\"2018-09\",\"2018-10\",\"2018-11\",\"2018-12\",\"2019-01\",\"2019-02\",\r\n",
        "         \"2019-03\",\"2019-04\",\"2019-05\",\"2019-06\",\"2019-07\",\"2019-08\",\"2019-09\",\"2019-10\",\"2019-11\",\"2019-12\",\"2020-01\",\"2020-02\",\"2020-03\",\"2020-04\",\r\n",
        "         \"2020-05\",\"2020-06\",\"2020-07\",\"2020-08\",\"2020-09\",\"2020-10\",\"2020-11\",\"2020-12\"]\r\n",
        "\r\n",
        "filenames = []\r\n",
        "for f in files:\r\n",
        "  names = \"https://raw.githubusercontent.com/Ananyadevaraju/CE888/main/Assignment_1/\" + f + \"-city-of-london-stop-and-search.csv\"\r\n",
        "  filenames.append(names)\r\n",
        "\r\n",
        "#read all files and concatenate into a single dataframe\r\n",
        "stop_search_df = pd.concat( [ pd.read_csv(f) for f in filenames ] )"
      ],
      "execution_count": 3,
      "outputs": []
    },
    {
      "cell_type": "code",
      "metadata": {
        "id": "iiGyMK61cZSy"
      },
      "source": [
        "#exporting concatenated dataframe as csv file\r\n",
        "#stop_search_df.to_csv( \"combined_csv.csv\", index=False )"
      ],
      "execution_count": 4,
      "outputs": []
    },
    {
      "cell_type": "code",
      "metadata": {
        "colab": {
          "base_uri": "https://localhost:8080/",
          "height": 332
        },
        "id": "txEA-8tmondR",
        "outputId": "f6e0f7d8-ee7b-4e90-de17-cbb612a64389"
      },
      "source": [
        "stop_search_df.head(2)"
      ],
      "execution_count": 5,
      "outputs": [
        {
          "output_type": "execute_result",
          "data": {
            "text/html": [
              "<div>\n",
              "<style scoped>\n",
              "    .dataframe tbody tr th:only-of-type {\n",
              "        vertical-align: middle;\n",
              "    }\n",
              "\n",
              "    .dataframe tbody tr th {\n",
              "        vertical-align: top;\n",
              "    }\n",
              "\n",
              "    .dataframe thead th {\n",
              "        text-align: right;\n",
              "    }\n",
              "</style>\n",
              "<table border=\"1\" class=\"dataframe\">\n",
              "  <thead>\n",
              "    <tr style=\"text-align: right;\">\n",
              "      <th></th>\n",
              "      <th>Type</th>\n",
              "      <th>Date</th>\n",
              "      <th>Part of a policing operation</th>\n",
              "      <th>Policing operation</th>\n",
              "      <th>Latitude</th>\n",
              "      <th>Longitude</th>\n",
              "      <th>Gender</th>\n",
              "      <th>Age range</th>\n",
              "      <th>Self-defined ethnicity</th>\n",
              "      <th>Officer-defined ethnicity</th>\n",
              "      <th>Legislation</th>\n",
              "      <th>Object of search</th>\n",
              "      <th>Outcome</th>\n",
              "      <th>Outcome linked to object of search</th>\n",
              "      <th>Removal of more than just outer clothing</th>\n",
              "    </tr>\n",
              "  </thead>\n",
              "  <tbody>\n",
              "    <tr>\n",
              "      <th>0</th>\n",
              "      <td>Person search</td>\n",
              "      <td>2018-01-01T00:55:00+00:00</td>\n",
              "      <td>NaN</td>\n",
              "      <td>NaN</td>\n",
              "      <td>51.515142</td>\n",
              "      <td>-0.097645</td>\n",
              "      <td>Male</td>\n",
              "      <td>25-34</td>\n",
              "      <td>White - Any other White background</td>\n",
              "      <td>White</td>\n",
              "      <td>Police and Criminal Evidence Act 1984 (section 1)</td>\n",
              "      <td>Stolen goods</td>\n",
              "      <td>Nothing found - no further action</td>\n",
              "      <td>NaN</td>\n",
              "      <td>False</td>\n",
              "    </tr>\n",
              "    <tr>\n",
              "      <th>1</th>\n",
              "      <td>Person search</td>\n",
              "      <td>2018-01-01T00:58:00+00:00</td>\n",
              "      <td>NaN</td>\n",
              "      <td>NaN</td>\n",
              "      <td>51.515142</td>\n",
              "      <td>-0.097645</td>\n",
              "      <td>Male</td>\n",
              "      <td>over 34</td>\n",
              "      <td>Other ethnic group - Not stated</td>\n",
              "      <td>Other</td>\n",
              "      <td>Police and Criminal Evidence Act 1984 (section 1)</td>\n",
              "      <td>Evidence of offences under the Act</td>\n",
              "      <td>Nothing found - no further action</td>\n",
              "      <td>False</td>\n",
              "      <td>False</td>\n",
              "    </tr>\n",
              "  </tbody>\n",
              "</table>\n",
              "</div>"
            ],
            "text/plain": [
              "            Type  ... Removal of more than just outer clothing\n",
              "0  Person search  ...                                    False\n",
              "1  Person search  ...                                    False\n",
              "\n",
              "[2 rows x 15 columns]"
            ]
          },
          "metadata": {
            "tags": []
          },
          "execution_count": 5
        }
      ]
    },
    {
      "cell_type": "code",
      "metadata": {
        "colab": {
          "base_uri": "https://localhost:8080/"
        },
        "id": "4wGZsQnqpa1g",
        "outputId": "b27b33e9-3a9b-4cbc-9b25-dde144447dd1"
      },
      "source": [
        "#dimensions of data - 6977 rows and 15 columns\r\n",
        "stop_search_df.shape"
      ],
      "execution_count": 6,
      "outputs": [
        {
          "output_type": "execute_result",
          "data": {
            "text/plain": [
              "(6977, 15)"
            ]
          },
          "metadata": {
            "tags": []
          },
          "execution_count": 6
        }
      ]
    },
    {
      "cell_type": "markdown",
      "metadata": {
        "id": "Qo1QaR6qqbvg"
      },
      "source": [
        "Data preprocessing:"
      ]
    },
    {
      "cell_type": "code",
      "metadata": {
        "colab": {
          "base_uri": "https://localhost:8080/"
        },
        "id": "t3DaRX5YQZmR",
        "outputId": "93506324-59f5-4917-9bc8-5b9a23947c76"
      },
      "source": [
        "#data cleaning \r\n",
        "#checking for NaN values\r\n",
        "stop_search_df.isnull().sum()"
      ],
      "execution_count": 7,
      "outputs": [
        {
          "output_type": "execute_result",
          "data": {
            "text/plain": [
              "Type                                           0\n",
              "Date                                           0\n",
              "Part of a policing operation                6977\n",
              "Policing operation                          6977\n",
              "Latitude                                    2041\n",
              "Longitude                                   2041\n",
              "Gender                                        57\n",
              "Age range                                    468\n",
              "Self-defined ethnicity                       407\n",
              "Officer-defined ethnicity                    432\n",
              "Legislation                                   42\n",
              "Object of search                             100\n",
              "Outcome                                       87\n",
              "Outcome linked to object of search           139\n",
              "Removal of more than just outer clothing      64\n",
              "dtype: int64"
            ]
          },
          "metadata": {
            "tags": []
          },
          "execution_count": 7
        }
      ]
    },
    {
      "cell_type": "code",
      "metadata": {
        "id": "VLl9gNh6pjlv"
      },
      "source": [
        "#dropping columns with only NaN values\r\n",
        "stop_search_df.drop(columns = [\"Part of a policing operation\",\t\"Policing operation\"], axis = 1, inplace = True)"
      ],
      "execution_count": 8,
      "outputs": []
    },
    {
      "cell_type": "code",
      "metadata": {
        "id": "I3A2Y1Bop80m"
      },
      "source": [
        "#dropping columns which are not needed \r\n",
        "stop_search_df.drop(columns = [\"Latitude\",\t\"Longitude\"], axis = 1, inplace = True)"
      ],
      "execution_count": 9,
      "outputs": []
    },
    {
      "cell_type": "code",
      "metadata": {
        "colab": {
          "base_uri": "https://localhost:8080/"
        },
        "id": "deeCyLyDTlZh",
        "outputId": "62e8c941-61de-47b7-95bf-d5277e18259e"
      },
      "source": [
        "stop_search_df.shape"
      ],
      "execution_count": 10,
      "outputs": [
        {
          "output_type": "execute_result",
          "data": {
            "text/plain": [
              "(6977, 11)"
            ]
          },
          "metadata": {
            "tags": []
          },
          "execution_count": 10
        }
      ]
    },
    {
      "cell_type": "code",
      "metadata": {
        "id": "_0YbnO4TQWGl"
      },
      "source": [
        "#dropping rows with missing values in \"Outcome\" column\r\n",
        "stop_search_df = stop_search_df[stop_search_df[\"Outcome\"].notna()]"
      ],
      "execution_count": 11,
      "outputs": []
    },
    {
      "cell_type": "code",
      "metadata": {
        "id": "WUhd2JHiZ-Vi"
      },
      "source": [
        "#extracting time(hour) from \"Date\" column\r\n",
        "stop_search_df[\"Date\"] = stop_search_df[\"Date\"].apply(lambda x : pd.to_datetime(str(x)))\r\n",
        "stop_search_df[\"Time\"] = stop_search_df[\"Date\"].dt.hour\r\n",
        "stop_search_df[\"Time\"].head()\r\n",
        "\r\n",
        "#converting time into parts of day\r\n",
        "Parts_of_day = []\r\n",
        "for t in stop_search_df[\"Time\"]:\r\n",
        "  if t >= 6 & t < 18:\r\n",
        "    part = \"Day\"\r\n",
        "  else:\r\n",
        "    part = \"Night\"\r\n",
        "  Parts_of_day.append(part)  \r\n",
        "\r\n",
        "#adding new column \"Parts_of_day\" to the dataframe\r\n",
        "stop_search_df[\"Parts_of_day\"] = Parts_of_day"
      ],
      "execution_count": 12,
      "outputs": []
    },
    {
      "cell_type": "code",
      "metadata": {
        "id": "GPEddfP1b3AH"
      },
      "source": [
        "#extracting month from \"Date\" column\r\n",
        "# stop_search_df[\"Date\"] = stop_search_df[\"Date\"].dt.date\r\n",
        "# stop_search_df[\"Month\"] = stop_search_df[\"Date\"].dt.strftime('%b')"
      ],
      "execution_count": 13,
      "outputs": []
    },
    {
      "cell_type": "code",
      "metadata": {
        "colab": {
          "base_uri": "https://localhost:8080/",
          "height": 264
        },
        "id": "QDHC-ZBxCHVC",
        "outputId": "39a1e8e8-7c65-43a5-fc04-e93a670ce467"
      },
      "source": [
        "stop_search_df.head(2)"
      ],
      "execution_count": 14,
      "outputs": [
        {
          "output_type": "execute_result",
          "data": {
            "text/html": [
              "<div>\n",
              "<style scoped>\n",
              "    .dataframe tbody tr th:only-of-type {\n",
              "        vertical-align: middle;\n",
              "    }\n",
              "\n",
              "    .dataframe tbody tr th {\n",
              "        vertical-align: top;\n",
              "    }\n",
              "\n",
              "    .dataframe thead th {\n",
              "        text-align: right;\n",
              "    }\n",
              "</style>\n",
              "<table border=\"1\" class=\"dataframe\">\n",
              "  <thead>\n",
              "    <tr style=\"text-align: right;\">\n",
              "      <th></th>\n",
              "      <th>Type</th>\n",
              "      <th>Date</th>\n",
              "      <th>Gender</th>\n",
              "      <th>Age range</th>\n",
              "      <th>Self-defined ethnicity</th>\n",
              "      <th>Officer-defined ethnicity</th>\n",
              "      <th>Legislation</th>\n",
              "      <th>Object of search</th>\n",
              "      <th>Outcome</th>\n",
              "      <th>Outcome linked to object of search</th>\n",
              "      <th>Removal of more than just outer clothing</th>\n",
              "      <th>Time</th>\n",
              "      <th>Parts_of_day</th>\n",
              "    </tr>\n",
              "  </thead>\n",
              "  <tbody>\n",
              "    <tr>\n",
              "      <th>0</th>\n",
              "      <td>Person search</td>\n",
              "      <td>2018-01-01 00:55:00+00:00</td>\n",
              "      <td>Male</td>\n",
              "      <td>25-34</td>\n",
              "      <td>White - Any other White background</td>\n",
              "      <td>White</td>\n",
              "      <td>Police and Criminal Evidence Act 1984 (section 1)</td>\n",
              "      <td>Stolen goods</td>\n",
              "      <td>Nothing found - no further action</td>\n",
              "      <td>NaN</td>\n",
              "      <td>False</td>\n",
              "      <td>0</td>\n",
              "      <td>Day</td>\n",
              "    </tr>\n",
              "    <tr>\n",
              "      <th>1</th>\n",
              "      <td>Person search</td>\n",
              "      <td>2018-01-01 00:58:00+00:00</td>\n",
              "      <td>Male</td>\n",
              "      <td>over 34</td>\n",
              "      <td>Other ethnic group - Not stated</td>\n",
              "      <td>Other</td>\n",
              "      <td>Police and Criminal Evidence Act 1984 (section 1)</td>\n",
              "      <td>Evidence of offences under the Act</td>\n",
              "      <td>Nothing found - no further action</td>\n",
              "      <td>False</td>\n",
              "      <td>False</td>\n",
              "      <td>0</td>\n",
              "      <td>Day</td>\n",
              "    </tr>\n",
              "  </tbody>\n",
              "</table>\n",
              "</div>"
            ],
            "text/plain": [
              "            Type                      Date  ... Time Parts_of_day\n",
              "0  Person search 2018-01-01 00:55:00+00:00  ...    0          Day\n",
              "1  Person search 2018-01-01 00:58:00+00:00  ...    0          Day\n",
              "\n",
              "[2 rows x 13 columns]"
            ]
          },
          "metadata": {
            "tags": []
          },
          "execution_count": 14
        }
      ]
    },
    {
      "cell_type": "code",
      "metadata": {
        "id": "DrHxwxTsdYax"
      },
      "source": [
        "#drop original date column\r\n",
        "stop_search_df = stop_search_df.drop(columns = \"Date\", axis = 1 )"
      ],
      "execution_count": 15,
      "outputs": []
    },
    {
      "cell_type": "markdown",
      "metadata": {
        "id": "xl7O9M76ddeC"
      },
      "source": [
        "Exploratoy data analysis:\r\n"
      ]
    },
    {
      "cell_type": "code",
      "metadata": {
        "colab": {
          "base_uri": "https://localhost:8080/"
        },
        "id": "PhDcik2gFfPW",
        "outputId": "a779dc6e-5dc6-425b-d20d-9c72f1b9cecf"
      },
      "source": [
        "stop_search_df[\"Officer-defined ethnicity\"].value_counts()"
      ],
      "execution_count": 26,
      "outputs": [
        {
          "output_type": "execute_result",
          "data": {
            "text/plain": [
              "White    3349\n",
              "Black    1482\n",
              "Asian    1329\n",
              "Other     320\n",
              "Name: Officer-defined ethnicity, dtype: int64"
            ]
          },
          "metadata": {
            "tags": []
          },
          "execution_count": 26
        }
      ]
    },
    {
      "cell_type": "code",
      "metadata": {
        "colab": {
          "base_uri": "https://localhost:8080/"
        },
        "id": "THo-ZYjoFjNL",
        "outputId": "88764711-85f9-413d-8ced-e6f595877621"
      },
      "source": [
        "stop_search_df[\"Officer-defined ethnicity\"].isnull().sum()"
      ],
      "execution_count": 27,
      "outputs": [
        {
          "output_type": "execute_result",
          "data": {
            "text/plain": [
              "410"
            ]
          },
          "metadata": {
            "tags": []
          },
          "execution_count": 27
        }
      ]
    },
    {
      "cell_type": "code",
      "metadata": {
        "id": "ILe1vUzSFoMl"
      },
      "source": [
        "#adding a new column\r\n",
        "race = []\r\n",
        "for x in stop_search_df[\"Officer-defined ethnicity\"]:\r\n",
        "  if x == White:\r\n",
        "    y = \"White\"\r\n",
        "  else:\r\n",
        "    y = \"Non-White\""
      ],
      "execution_count": null,
      "outputs": []
    },
    {
      "cell_type": "code",
      "metadata": {
        "id": "7xhmvovqdWT_",
        "colab": {
          "base_uri": "https://localhost:8080/",
          "height": 299
        },
        "outputId": "a47485f7-ba10-438a-bd8b-ffd0e592288f"
      },
      "source": [
        "#count of different races stopped\r\n",
        "sns.countplot(x=\"Officer-defined ethnicity\", data = stop_search_df)\r\n",
        "\r\n",
        "\r\n",
        "\r\n",
        "#count of black females and white females stopped \r\n",
        "#class of object of search in blacks and whites and type of outcome\r\n",
        "#removal of more than just outer clothing"
      ],
      "execution_count": 16,
      "outputs": [
        {
          "output_type": "execute_result",
          "data": {
            "text/plain": [
              "<matplotlib.axes._subplots.AxesSubplot at 0x7fb9372027b8>"
            ]
          },
          "metadata": {
            "tags": []
          },
          "execution_count": 16
        },
        {
          "output_type": "display_data",
          "data": {
            "image/png": "[encoded data removed]",
            "text/plain": [
              "<Figure size 432x288 with 1 Axes>"
            ]
          },
          "metadata": {
            "tags": [],
            "needs_background": "light"
          }
        }
      ]
    },
    {
      "cell_type": "code",
      "metadata": {
        "colab": {
          "base_uri": "https://localhost:8080/"
        },
        "id": "8pmAO4YaJtBl",
        "outputId": "232a64bd-2dcd-4c4f-f1ba-7be0d129a836"
      },
      "source": [
        "stop_search_df[\"Gender\"].value_counts()"
      ],
      "execution_count": 28,
      "outputs": [
        {
          "output_type": "execute_result",
          "data": {
            "text/plain": [
              "Male      6210\n",
              "Female     670\n",
              "Other        4\n",
              "Name: Gender, dtype: int64"
            ]
          },
          "metadata": {
            "tags": []
          },
          "execution_count": 28
        }
      ]
    },
    {
      "cell_type": "code",
      "metadata": {
        "colab": {
          "base_uri": "https://localhost:8080/",
          "height": 296
        },
        "id": "-Fmt5XSAFQv9",
        "outputId": "59b00840-c762-4e89-ad69-5344ea8209b0"
      },
      "source": [
        "#count of different genders stopped\r\n",
        "sns.countplot(x = \"Gender\", data = stop_search_df)"
      ],
      "execution_count": 25,
      "outputs": [
        {
          "output_type": "execute_result",
          "data": {
            "text/plain": [
              "<matplotlib.axes._subplots.AxesSubplot at 0x7fb92ed03a20>"
            ]
          },
          "metadata": {
            "tags": []
          },
          "execution_count": 25
        },
        {
          "output_type": "display_data",
          "data": {
            "image/png": "[encoded data removed]",
            "text/plain": [
              "<Figure size 432x288 with 1 Axes>"
            ]
          },
          "metadata": {
            "tags": [],
            "needs_background": "light"
          }
        }
      ]
    },
    {
      "cell_type": "code",
      "metadata": {
        "id": "KtrSpFk8eWmS"
      },
      "source": [
        "#veil of darkness hypothesis"
      ],
      "execution_count": null,
      "outputs": []
    },
    {
      "cell_type": "markdown",
      "metadata": {
        "id": "tbc6WtMieXnm"
      },
      "source": [
        "Hypothesis testing:\r\n"
      ]
    },
    {
      "cell_type": "code",
      "metadata": {
        "id": "dm2JVpv0eZpF"
      },
      "source": [
        "#more blacks are stopped and frisked in london\r\n",
        "#h0 = no racial bias\r\n",
        "#h1 = bias exists\r\n"
      ],
      "execution_count": null,
      "outputs": []
    },
    {
      "cell_type": "markdown",
      "metadata": {
        "id": "w55o4-TNi8mb"
      },
      "source": [
        "Modelling and prediction:\r\n"
      ]
    },
    {
      "cell_type": "code",
      "metadata": {
        "id": "ScSLiIsCi7lk"
      },
      "source": [
        "# age, gender, race, object of serarch - features\r\n",
        "# outcome - target\r\n",
        "#keeping every feature constant and only by removing or adding the race variable will the outcome vary?"
      ],
      "execution_count": null,
      "outputs": []
    },
    {
      "cell_type": "markdown",
      "metadata": {
        "id": "4Vw1Kmw7j9qx"
      },
      "source": [
        "Detecting bias"
      ]
    },
    {
      "cell_type": "code",
      "metadata": {
        "id": "DwpvoVWzj_fR"
      },
      "source": [
        "#bias in data\r\n",
        "#bias in algorithm"
      ],
      "execution_count": null,
      "outputs": []
    }
  ]
}