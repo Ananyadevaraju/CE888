{
  "nbformat": 4,
  "nbformat_minor": 0,
  "metadata": {
    "colab": {
      "name": "Assignment_1.ipynb",
      "provenance": [],
      "collapsed_sections": [],
      "authorship_tag": "ABX9TyM4KrRKA+oVrK0KSTxLx6b5",
      "include_colab_link": true
    },
    "kernelspec": {
      "name": "python3",
      "display_name": "Python 3"
    }
  },
  "cells": [
    {
      "cell_type": "markdown",
      "metadata": {
        "id": "view-in-github",
        "colab_type": "text"
      },
      "source": [
        "<a href=\"https://colab.research.google.com/github/Ananyadevaraju/CE888/blob/main/Assignment_1/Assignment_1.ipynb\" target=\"_parent\"><img src=\"https://colab.research.google.com/assets/colab-badge.svg\" alt=\"Open In Colab\"/></a>"
      ]
    },
    {
      "cell_type": "markdown",
      "metadata": {
        "id": "UDiBz-kJlpIu"
      },
      "source": [
        "IS THE US POLICE BIASED?\r\n"
      ]
    },
    {
      "cell_type": "markdown",
      "metadata": {
        "id": "nOFQN19SlpFQ"
      },
      "source": [
        "Importing libraries:"
      ]
    },
    {
      "cell_type": "code",
      "metadata": {
        "id": "zQSXNjGSiMr7"
      },
      "source": [
        "#import libraries\r\n",
        "import pandas as pd\r\n",
        "import numpy as np\r\n",
        "from datetime import datetime \r\n",
        "import matplotlib.pyplot as plt\r\n",
        "import seaborn as sns"
      ],
      "execution_count": 6,
      "outputs": []
    },
    {
      "cell_type": "markdown",
      "metadata": {
        "id": "KvkA89Kyl2CY"
      },
      "source": [
        "Loading data:"
      ]
    },
    {
      "cell_type": "code",
      "metadata": {
        "id": "MmqF3M_Sl0os"
      },
      "source": [
        "#load data \r\n",
        "#data is stored in multiple files \r\n",
        "\r\n",
        "df1 = pd.read_csv(\"https://raw.githubusercontent.com/Ananyadevaraju/CE888/main/Assignment_1/sqf-2018.csv\")\r\n",
        "df2 = pd.read_csv(\"https://raw.githubusercontent.com/Ananyadevaraju/CE888/main/Assignment_1/sqf-2019.csv\")"
      ],
      "execution_count": 17,
      "outputs": []
    },
    {
      "cell_type": "code",
      "metadata": {
        "colab": {
          "base_uri": "https://localhost:8080/"
        },
        "id": "ZTx0BHGgGx2z",
        "outputId": "3c3bcd76-dc17-4aae-d5ad-c42f08516fb0"
      },
      "source": [
        "df1.shape"
      ],
      "execution_count": 19,
      "outputs": [
        {
          "output_type": "execute_result",
          "data": {
            "text/plain": [
              "(11008, 83)"
            ]
          },
          "metadata": {
            "tags": []
          },
          "execution_count": 19
        }
      ]
    },
    {
      "cell_type": "code",
      "metadata": {
        "colab": {
          "base_uri": "https://localhost:8080/"
        },
        "id": "xd_ZLVSQHIcY",
        "outputId": "338b7be7-a7f3-42a9-e9c0-c5fd6385e477"
      },
      "source": [
        "df2.shape"
      ],
      "execution_count": 20,
      "outputs": [
        {
          "output_type": "execute_result",
          "data": {
            "text/plain": [
              "(13459, 83)"
            ]
          },
          "metadata": {
            "tags": []
          },
          "execution_count": 20
        }
      ]
    },
    {
      "cell_type": "code",
      "metadata": {
        "colab": {
          "base_uri": "https://localhost:8080/"
        },
        "id": "sVJJY-EiHIRy",
        "outputId": "124a8b21-83a5-4cd4-8779-b7b6623fcfca"
      },
      "source": [
        "df1.columns"
      ],
      "execution_count": 21,
      "outputs": [
        {
          "output_type": "execute_result",
          "data": {
            "text/plain": [
              "Index(['STOP_FRISK_ID', 'STOP_FRISK_DATE', 'Stop Frisk Time', 'YEAR2',\n",
              "       'MONTH2', 'DAY2', 'STOP_WAS_INITIATED', 'RECORD_STATUS_CODE',\n",
              "       'ISSUING_OFFICER_RANK', 'ISSUING_OFFICER_COMMAND_CODE',\n",
              "       'SUPERVISING_OFFICER_RANK', 'SUPERVISING_OFFICER_COMMAND_CODE',\n",
              "       'SUPERVISING_ACTION_CORRESPONDING_ACTIVITY_LOG_ENTRY_REVIEWED',\n",
              "       'LOCATION_IN_OUT_CODE', 'JURISDICTION_CODE', 'JURISDICTION_DESCRIPTION',\n",
              "       'OBSERVED_DURATION_MINUTES', 'SUSPECTED_CRIME_DESCRIPTION',\n",
              "       'STOP_DURATION_MINUTES', 'OFFICER_EXPLAINED_STOP_FLAG',\n",
              "       'OFFICER_NOT_EXPLAINED_STOP_DESCRIPTION', 'OTHER_PERSON_STOPPED_FLAG',\n",
              "       'SUSPECT_ARRESTED_FLAG', 'SUSPECT_ARREST_OFFENSE',\n",
              "       'SUMMONS_ISSUED_FLAG', 'SUMMONS_OFFENSE_DESCRIPTION',\n",
              "       'OFFICER_IN_UNIFORM_FLAG', 'ID_CARD_IDENTIFIES_OFFICER_FLAG',\n",
              "       'SHIELD_IDENTIFIES_OFFICER_FLAG', 'VERBAL_IDENTIFIES_OFFICER_FLAG',\n",
              "       'FRISKED_FLAG', 'SEARCHED_FLAG', 'OTHER_CONTRABAND_FLAG',\n",
              "       'FIREARM_FLAG', 'KNIFE_CUTTER_FLAG', 'OTHER_WEAPON_FLAG',\n",
              "       'WEAPON_FOUND_FLAG', 'PHYSICAL_FORCE_CEW_FLAG',\n",
              "       'PHYSICAL_FORCE_DRAW_POINT_FIREARM_FLAG',\n",
              "       'PHYSICAL_FORCE_HANDCUFF_SUSPECT_FLAG',\n",
              "       'PHYSICAL_FORCE_OC_SPRAY_USED_FLAG', 'PHYSICAL_FORCE_OTHER_FLAG',\n",
              "       'PHYSICAL_FORCE_RESTRAINT_USED_FLAG',\n",
              "       'PHYSICAL_FORCE_VERBAL_INSTRUCTION_FLAG',\n",
              "       'PHYSICAL_FORCE_WEAPON_IMPACT_FLAG',\n",
              "       'BACKROUND_CIRCUMSTANCES_VIOLENT_CRIME_FLAG',\n",
              "       'BACKROUND_CIRCUMSTANCES_SUSPECT_KNOWN_TO_CARRY_WEAPON_FLAG',\n",
              "       'SUSPECTS_ACTIONS_CASING_FLAG',\n",
              "       'SUSPECTS_ACTIONS_CONCEALED_POSSESSION_WEAPON_FLAG',\n",
              "       'SUSPECTS_ACTIONS_DECRIPTION_FLAG',\n",
              "       'SUSPECTS_ACTIONS_DRUG_TRANSACTIONS_FLAG',\n",
              "       'SUSPECTS_ACTIONS_IDENTIFY_CRIME_PATTERN_FLAG',\n",
              "       'SUSPECTS_ACTIONS_LOOKOUT_FLAG', 'SUSPECTS_ACTIONS_OTHER_FLAG',\n",
              "       'SUSPECTS_ACTIONS_PROXIMITY_TO_SCENE_FLAG',\n",
              "       'SEARCH_BASIS_ADMISSION_FLAG', 'SEARCH_BASIS_CONSENT_FLAG',\n",
              "       'SEARCH_BASIS_HARD_OBJECT_FLAG',\n",
              "       'SEARCH_BASIS_INCIDENTAL_TO_ARREST_FLAG', 'SEARCH_BASIS_OTHER_FLAG',\n",
              "       'SEARCH_BASIS_OUTLINE_FLAG', 'DEMEANOR_CODE',\n",
              "       'DEMEANOR_OF_PERSON_STOPPED', 'SUSPECT_REPORTED_AGE', 'SUSPECT_SEX',\n",
              "       'SUSPECT_RACE_DESCRIPTION', 'SUSPECT_HEIGHT', 'SUSPECT_WEIGHT',\n",
              "       'SUSPECT_BODY_BUILD_TYPE', 'SUSPECT_EYE_COLOR', 'SUSPECT_HAIR_COLOR',\n",
              "       'SUSPECT_OTHER_DESCRIPTION', 'STOP_LOCATION_PRECINCT',\n",
              "       'STOP_LOCATION_SECTOR_CODE', 'STOP_LOCATION_APARTMENT',\n",
              "       'STOP_LOCATION_FULL_ADDRESS', 'STOP_LOCATION_PREMISES_NAME',\n",
              "       'STOP_LOCATION_STREET_NAME', 'STOP_LOCATION_X', 'STOP_LOCATION_Y',\n",
              "       'STOP_LOCATION_ZIP_CODE', 'STOP_LOCATION_PATROL_BORO_NAME',\n",
              "       'STOP_LOCATION_BORO_NAME'],\n",
              "      dtype='object')"
            ]
          },
          "metadata": {
            "tags": []
          },
          "execution_count": 21
        }
      ]
    },
    {
      "cell_type": "code",
      "metadata": {
        "colab": {
          "base_uri": "https://localhost:8080/"
        },
        "id": "3Tkczse7HIFG",
        "outputId": "f86325f7-5c49-48d9-d139-498afe521c63"
      },
      "source": [
        "df2.columns"
      ],
      "execution_count": 22,
      "outputs": [
        {
          "output_type": "execute_result",
          "data": {
            "text/plain": [
              "Index(['STOP_ID_ANONY', 'STOP_FRISK_DATE', 'STOP_FRISK_TIME', 'YEAR2',\n",
              "       'MONTH2', 'DAY2', 'STOP_WAS_INITIATED', 'RECORD_STATUS_CODE',\n",
              "       'ISSUING_OFFICER_RANK', 'ISSUING_OFFICER_COMMAND_CODE',\n",
              "       'SUPERVISING_OFFICER_RANK', 'SUPERVISING_OFFICER_COMMAND_CODE',\n",
              "       'LOCATION_IN_OUT_CODE', 'JURISDICTION_CODE', 'JURISDICTION_DESCRIPTION',\n",
              "       'OBSERVED_DURATION_MINUTES', 'SUSPECTED_CRIME_DESCRIPTION',\n",
              "       'STOP_DURATION_MINUTES', 'OFFICER_EXPLAINED_STOP_FLAG',\n",
              "       'OFFICER_NOT_EXPLAINED_STOP_DESCRIPTION', 'OTHER_PERSON_STOPPED_FLAG',\n",
              "       'SUSPECT_ARRESTED_FLAG', 'SUSPECT_ARREST_OFFENSE',\n",
              "       'SUMMONS_ISSUED_FLAG', 'SUMMONS_OFFENSE_DESCRIPTION',\n",
              "       'OFFICER_IN_UNIFORM_FLAG', 'ID_CARD_IDENTIFIES_OFFICER_FLAG',\n",
              "       'SHIELD_IDENTIFIES_OFFICER_FLAG', 'VERBAL_IDENTIFIES_OFFICER_FLAG',\n",
              "       'FRISKED_FLAG', 'SEARCHED_FLAG', 'ASK_FOR_CONSENT_FLG',\n",
              "       'CONSENT_GIVEN_FLG', 'OTHER_CONTRABAND_FLAG', 'FIREARM_FLAG',\n",
              "       'KNIFE_CUTTER_FLAG', 'OTHER_WEAPON_FLAG', 'WEAPON_FOUND_FLAG',\n",
              "       'PHYSICAL_FORCE_CEW_FLAG', 'PHYSICAL_FORCE_DRAW_POINT_FIREARM_FLAG',\n",
              "       'PHYSICAL_FORCE_HANDCUFF_SUSPECT_FLAG',\n",
              "       'PHYSICAL_FORCE_OC_SPRAY_USED_FLAG', 'PHYSICAL_FORCE_OTHER_FLAG',\n",
              "       'PHYSICAL_FORCE_RESTRAINT_USED_FLAG',\n",
              "       'PHYSICAL_FORCE_VERBAL_INSTRUCTION_FLAG',\n",
              "       'PHYSICAL_FORCE_WEAPON_IMPACT_FLAG',\n",
              "       'BACKROUND_CIRCUMSTANCES_VIOLENT_CRIME_FLAG',\n",
              "       'BACKROUND_CIRCUMSTANCES_SUSPECT_KNOWN_TO_CARRY_WEAPON_FLAG',\n",
              "       'SUSPECTS_ACTIONS_CASING_FLAG',\n",
              "       'SUSPECTS_ACTIONS_CONCEALED_POSSESSION_WEAPON_FLAG',\n",
              "       'SUSPECTS_ACTIONS_DECRIPTION_FLAG',\n",
              "       'SUSPECTS_ACTIONS_DRUG_TRANSACTIONS_FLAG',\n",
              "       'SUSPECTS_ACTIONS_IDENTIFY_CRIME_PATTERN_FLAG',\n",
              "       'SUSPECTS_ACTIONS_LOOKOUT_FLAG', 'SUSPECTS_ACTIONS_OTHER_FLAG',\n",
              "       'SUSPECTS_ACTIONS_PROXIMITY_TO_SCENE_FLAG',\n",
              "       'SEARCH_BASIS_ADMISSION_FLAG', 'SEARCH_BASIS_CONSENT_FLAG',\n",
              "       'SEARCH_BASIS_HARD_OBJECT_FLAG',\n",
              "       'SEARCH_BASIS_INCIDENTAL_TO_ARREST_FLAG', 'SEARCH_BASIS_OTHER_FLAG',\n",
              "       'SEARCH_BASIS_OUTLINE_FLAG', 'DEMEANOR_CODE',\n",
              "       'DEMEANOR_OF_PERSON_STOPPED', 'SUSPECT_REPORTED_AGE', 'SUSPECT_SEX',\n",
              "       'SUSPECT_RACE_DESCRIPTION', 'SUSPECT_HEIGHT', 'SUSPECT_WEIGHT',\n",
              "       'SUSPECT_BODY_BUILD_TYPE', 'SUSPECT_EYE_COLOR', 'SUSPECT_HAIR_COLOR',\n",
              "       'SUSPECT_OTHER_DESCRIPTION', 'STOP_LOCATION_PRECINCT',\n",
              "       'STOP_LOCATION_SECTOR_CODE', 'STOP_LOCATION_APARTMENT',\n",
              "       'STOP_LOCATION_FULL_ADDRESS', 'STOP_LOCATION_STREET_NAME',\n",
              "       'STOP_LOCATION_X', 'STOP_LOCATION_Y', 'STOP_LOCATION_ZIP_CODE',\n",
              "       'STOP_LOCATION_PATROL_BORO_NAME', 'STOP_LOCATION_BORO_NAME'],\n",
              "      dtype='object')"
            ]
          },
          "metadata": {
            "tags": []
          },
          "execution_count": 22
        }
      ]
    },
    {
      "cell_type": "code",
      "metadata": {
        "id": "R9oM8XQBI-tZ"
      },
      "source": [
        "[\"STOP_FRISK_ID\",\"RECORD_STATUS_CODE\",\"ISSUING_OFFICER_RANK\",\"ISSUING_OFFICER_COMMAND_CODE\",\"SUPERVISING_OFFICER_RANK\",\"SUPERVISING_OFFICER_COMMAND_CODE\",\r\n",
        "  \"LOCATION_IN_OUT_CODE\", \"JURISDICTION_CODE\", ]"
      ],
      "execution_count": null,
      "outputs": []
    },
    {
      "cell_type": "code",
      "metadata": {
        "id": "zskaY1WDI-qM"
      },
      "source": [
        ""
      ],
      "execution_count": null,
      "outputs": []
    },
    {
      "cell_type": "code",
      "metadata": {
        "id": "qi5sYnJiI-oW"
      },
      "source": [
        ""
      ],
      "execution_count": null,
      "outputs": []
    },
    {
      "cell_type": "code",
      "metadata": {
        "id": "4dp5UP2cI-l2"
      },
      "source": [
        ""
      ],
      "execution_count": null,
      "outputs": []
    },
    {
      "cell_type": "code",
      "metadata": {
        "id": "10siH99AI-j2"
      },
      "source": [
        ""
      ],
      "execution_count": null,
      "outputs": []
    },
    {
      "cell_type": "code",
      "metadata": {
        "id": "u-Aq7zE0I-iu"
      },
      "source": [
        ""
      ],
      "execution_count": null,
      "outputs": []
    },
    {
      "cell_type": "code",
      "metadata": {
        "id": "p1Qa7dixI-ff"
      },
      "source": [
        ""
      ],
      "execution_count": null,
      "outputs": []
    },
    {
      "cell_type": "code",
      "metadata": {
        "id": "3qGGD8Bym2bF"
      },
      "source": [
        "#exporting concatenated dataframe as csv file\r\n",
        "#stop_search_df.to_csv( \"combined_sqf.csv\", index=False )"
      ],
      "execution_count": 8,
      "outputs": []
    },
    {
      "cell_type": "code",
      "metadata": {
        "colab": {
          "base_uri": "https://localhost:8080/",
          "height": 406
        },
        "id": "5ya6AUmFmtOc",
        "outputId": "5136a435-151f-4c09-eadd-4726b6d2d861"
      },
      "source": [
        "df.tail()"
      ],
      "execution_count": 14,
      "outputs": [
        {
          "output_type": "execute_result",
          "data": {
            "text/html": [
              "<div>\n",
              "<style scoped>\n",
              "    .dataframe tbody tr th:only-of-type {\n",
              "        vertical-align: middle;\n",
              "    }\n",
              "\n",
              "    .dataframe tbody tr th {\n",
              "        vertical-align: top;\n",
              "    }\n",
              "\n",
              "    .dataframe thead th {\n",
              "        text-align: right;\n",
              "    }\n",
              "</style>\n",
              "<table border=\"1\" class=\"dataframe\">\n",
              "  <thead>\n",
              "    <tr style=\"text-align: right;\">\n",
              "      <th></th>\n",
              "      <th>STOP_FRISK_ID</th>\n",
              "      <th>STOP_FRISK_DATE</th>\n",
              "      <th>Stop Frisk Time</th>\n",
              "      <th>YEAR2</th>\n",
              "      <th>MONTH2</th>\n",
              "      <th>DAY2</th>\n",
              "      <th>STOP_WAS_INITIATED</th>\n",
              "      <th>RECORD_STATUS_CODE</th>\n",
              "      <th>ISSUING_OFFICER_RANK</th>\n",
              "      <th>ISSUING_OFFICER_COMMAND_CODE</th>\n",
              "      <th>SUPERVISING_OFFICER_RANK</th>\n",
              "      <th>SUPERVISING_OFFICER_COMMAND_CODE</th>\n",
              "      <th>SUPERVISING_ACTION_CORRESPONDING_ACTIVITY_LOG_ENTRY_REVIEWED</th>\n",
              "      <th>LOCATION_IN_OUT_CODE</th>\n",
              "      <th>JURISDICTION_CODE</th>\n",
              "      <th>JURISDICTION_DESCRIPTION</th>\n",
              "      <th>OBSERVED_DURATION_MINUTES</th>\n",
              "      <th>SUSPECTED_CRIME_DESCRIPTION</th>\n",
              "      <th>STOP_DURATION_MINUTES</th>\n",
              "      <th>OFFICER_EXPLAINED_STOP_FLAG</th>\n",
              "      <th>OFFICER_NOT_EXPLAINED_STOP_DESCRIPTION</th>\n",
              "      <th>OTHER_PERSON_STOPPED_FLAG</th>\n",
              "      <th>SUSPECT_ARRESTED_FLAG</th>\n",
              "      <th>SUSPECT_ARREST_OFFENSE</th>\n",
              "      <th>SUMMONS_ISSUED_FLAG</th>\n",
              "      <th>SUMMONS_OFFENSE_DESCRIPTION</th>\n",
              "      <th>OFFICER_IN_UNIFORM_FLAG</th>\n",
              "      <th>ID_CARD_IDENTIFIES_OFFICER_FLAG</th>\n",
              "      <th>SHIELD_IDENTIFIES_OFFICER_FLAG</th>\n",
              "      <th>VERBAL_IDENTIFIES_OFFICER_FLAG</th>\n",
              "      <th>FRISKED_FLAG</th>\n",
              "      <th>SEARCHED_FLAG</th>\n",
              "      <th>OTHER_CONTRABAND_FLAG</th>\n",
              "      <th>FIREARM_FLAG</th>\n",
              "      <th>KNIFE_CUTTER_FLAG</th>\n",
              "      <th>OTHER_WEAPON_FLAG</th>\n",
              "      <th>WEAPON_FOUND_FLAG</th>\n",
              "      <th>PHYSICAL_FORCE_CEW_FLAG</th>\n",
              "      <th>PHYSICAL_FORCE_DRAW_POINT_FIREARM_FLAG</th>\n",
              "      <th>PHYSICAL_FORCE_HANDCUFF_SUSPECT_FLAG</th>\n",
              "      <th>...</th>\n",
              "      <th>SUSPECTS_ACTIONS_CASING_FLAG</th>\n",
              "      <th>SUSPECTS_ACTIONS_CONCEALED_POSSESSION_WEAPON_FLAG</th>\n",
              "      <th>SUSPECTS_ACTIONS_DECRIPTION_FLAG</th>\n",
              "      <th>SUSPECTS_ACTIONS_DRUG_TRANSACTIONS_FLAG</th>\n",
              "      <th>SUSPECTS_ACTIONS_IDENTIFY_CRIME_PATTERN_FLAG</th>\n",
              "      <th>SUSPECTS_ACTIONS_LOOKOUT_FLAG</th>\n",
              "      <th>SUSPECTS_ACTIONS_OTHER_FLAG</th>\n",
              "      <th>SUSPECTS_ACTIONS_PROXIMITY_TO_SCENE_FLAG</th>\n",
              "      <th>SEARCH_BASIS_ADMISSION_FLAG</th>\n",
              "      <th>SEARCH_BASIS_CONSENT_FLAG</th>\n",
              "      <th>SEARCH_BASIS_HARD_OBJECT_FLAG</th>\n",
              "      <th>SEARCH_BASIS_INCIDENTAL_TO_ARREST_FLAG</th>\n",
              "      <th>SEARCH_BASIS_OTHER_FLAG</th>\n",
              "      <th>SEARCH_BASIS_OUTLINE_FLAG</th>\n",
              "      <th>DEMEANOR_CODE</th>\n",
              "      <th>DEMEANOR_OF_PERSON_STOPPED</th>\n",
              "      <th>SUSPECT_REPORTED_AGE</th>\n",
              "      <th>SUSPECT_SEX</th>\n",
              "      <th>SUSPECT_RACE_DESCRIPTION</th>\n",
              "      <th>SUSPECT_HEIGHT</th>\n",
              "      <th>SUSPECT_WEIGHT</th>\n",
              "      <th>SUSPECT_BODY_BUILD_TYPE</th>\n",
              "      <th>SUSPECT_EYE_COLOR</th>\n",
              "      <th>SUSPECT_HAIR_COLOR</th>\n",
              "      <th>SUSPECT_OTHER_DESCRIPTION</th>\n",
              "      <th>STOP_LOCATION_PRECINCT</th>\n",
              "      <th>STOP_LOCATION_SECTOR_CODE</th>\n",
              "      <th>STOP_LOCATION_APARTMENT</th>\n",
              "      <th>STOP_LOCATION_FULL_ADDRESS</th>\n",
              "      <th>STOP_LOCATION_PREMISES_NAME</th>\n",
              "      <th>STOP_LOCATION_STREET_NAME</th>\n",
              "      <th>STOP_LOCATION_X</th>\n",
              "      <th>STOP_LOCATION_Y</th>\n",
              "      <th>STOP_LOCATION_ZIP_CODE</th>\n",
              "      <th>STOP_LOCATION_PATROL_BORO_NAME</th>\n",
              "      <th>STOP_LOCATION_BORO_NAME</th>\n",
              "      <th>STOP_ID_ANONY</th>\n",
              "      <th>STOP_FRISK_TIME</th>\n",
              "      <th>ASK_FOR_CONSENT_FLG</th>\n",
              "      <th>CONSENT_GIVEN_FLG</th>\n",
              "    </tr>\n",
              "  </thead>\n",
              "  <tbody>\n",
              "    <tr>\n",
              "      <th>13454</th>\n",
              "      <td>NaN</td>\n",
              "      <td>30-12-2019</td>\n",
              "      <td>NaN</td>\n",
              "      <td>2019</td>\n",
              "      <td>December</td>\n",
              "      <td>Monday</td>\n",
              "      <td>Based on Self Initiated</td>\n",
              "      <td>APP</td>\n",
              "      <td>POM</td>\n",
              "      <td>103</td>\n",
              "      <td>SGT</td>\n",
              "      <td>103</td>\n",
              "      <td>NaN</td>\n",
              "      <td>O</td>\n",
              "      <td>P</td>\n",
              "      <td>PSB</td>\n",
              "      <td>1</td>\n",
              "      <td>CRIMINAL POSSESSION OF CONTROLLED SUBSTANCE</td>\n",
              "      <td>2</td>\n",
              "      <td>Y</td>\n",
              "      <td>(null)</td>\n",
              "      <td>N</td>\n",
              "      <td>Y</td>\n",
              "      <td>CRIMINAL POSSESSION OF CONTROLLE</td>\n",
              "      <td>N</td>\n",
              "      <td>(null)</td>\n",
              "      <td>Y</td>\n",
              "      <td>(null)</td>\n",
              "      <td>(null)</td>\n",
              "      <td>(null)</td>\n",
              "      <td>N</td>\n",
              "      <td>N</td>\n",
              "      <td>Y</td>\n",
              "      <td>(null)</td>\n",
              "      <td>(null)</td>\n",
              "      <td>(null)</td>\n",
              "      <td>N</td>\n",
              "      <td>(null)</td>\n",
              "      <td>(null)</td>\n",
              "      <td>(null)</td>\n",
              "      <td>...</td>\n",
              "      <td>(null)</td>\n",
              "      <td>(null)</td>\n",
              "      <td>(null)</td>\n",
              "      <td>(null)</td>\n",
              "      <td>(null)</td>\n",
              "      <td>(null)</td>\n",
              "      <td>Y</td>\n",
              "      <td>(null)</td>\n",
              "      <td>(null)</td>\n",
              "      <td>(null)</td>\n",
              "      <td>(null)</td>\n",
              "      <td>(null)</td>\n",
              "      <td>(null)</td>\n",
              "      <td>(null)</td>\n",
              "      <td>DE</td>\n",
              "      <td>RELAXED</td>\n",
              "      <td>27</td>\n",
              "      <td>MALE</td>\n",
              "      <td>WHITE</td>\n",
              "      <td>5.5</td>\n",
              "      <td>150</td>\n",
              "      <td>THN</td>\n",
              "      <td>BRO</td>\n",
              "      <td>BLK</td>\n",
              "      <td>(null)</td>\n",
              "      <td>103</td>\n",
              "      <td>C</td>\n",
              "      <td>(null)</td>\n",
              "      <td>SUTPHIN BOULEVARD &amp;&amp; 94 AVENUE</td>\n",
              "      <td>NaN</td>\n",
              "      <td>SUTPHIN BOULEVARD</td>\n",
              "      <td>1037778</td>\n",
              "      <td>194006</td>\n",
              "      <td>(null)</td>\n",
              "      <td>PBQS</td>\n",
              "      <td>QUEENS</td>\n",
              "      <td>13455.0</td>\n",
              "      <td>13:20:00</td>\n",
              "      <td>N</td>\n",
              "      <td>N</td>\n",
              "    </tr>\n",
              "    <tr>\n",
              "      <th>13455</th>\n",
              "      <td>NaN</td>\n",
              "      <td>07-01-2019</td>\n",
              "      <td>NaN</td>\n",
              "      <td>2019</td>\n",
              "      <td>January</td>\n",
              "      <td>Monday</td>\n",
              "      <td>Based on Self Initiated</td>\n",
              "      <td>APP</td>\n",
              "      <td>POM</td>\n",
              "      <td>107</td>\n",
              "      <td>SGT</td>\n",
              "      <td>107</td>\n",
              "      <td>NaN</td>\n",
              "      <td>(null)</td>\n",
              "      <td>P</td>\n",
              "      <td>PSB</td>\n",
              "      <td>10</td>\n",
              "      <td>BURGLARY</td>\n",
              "      <td>8</td>\n",
              "      <td>Y</td>\n",
              "      <td>(null)</td>\n",
              "      <td>N</td>\n",
              "      <td>N</td>\n",
              "      <td>(null)</td>\n",
              "      <td>N</td>\n",
              "      <td>(null)</td>\n",
              "      <td>Y</td>\n",
              "      <td>(null)</td>\n",
              "      <td>(null)</td>\n",
              "      <td>(null)</td>\n",
              "      <td>Y</td>\n",
              "      <td>N</td>\n",
              "      <td>N</td>\n",
              "      <td>(null)</td>\n",
              "      <td>(null)</td>\n",
              "      <td>(null)</td>\n",
              "      <td>N</td>\n",
              "      <td>(null)</td>\n",
              "      <td>(null)</td>\n",
              "      <td>(null)</td>\n",
              "      <td>...</td>\n",
              "      <td>Y</td>\n",
              "      <td>(null)</td>\n",
              "      <td>(null)</td>\n",
              "      <td>(null)</td>\n",
              "      <td>Y</td>\n",
              "      <td>(null)</td>\n",
              "      <td>(null)</td>\n",
              "      <td>(null)</td>\n",
              "      <td>(null)</td>\n",
              "      <td>(null)</td>\n",
              "      <td>(null)</td>\n",
              "      <td>(null)</td>\n",
              "      <td>(null)</td>\n",
              "      <td>(null)</td>\n",
              "      <td>DE</td>\n",
              "      <td>CONCERNED</td>\n",
              "      <td>40</td>\n",
              "      <td>MALE</td>\n",
              "      <td>BLACK</td>\n",
              "      <td>5.1</td>\n",
              "      <td>170</td>\n",
              "      <td>THN</td>\n",
              "      <td>BRO</td>\n",
              "      <td>GRY</td>\n",
              "      <td>LEATHER WAIST LENGTH COAT/ HOODED SWEATSHIRT, ...</td>\n",
              "      <td>107</td>\n",
              "      <td>D</td>\n",
              "      <td>(null)</td>\n",
              "      <td>JEWEL AVENUE &amp;&amp; 147 STREET</td>\n",
              "      <td>NaN</td>\n",
              "      <td>JEWEL AVENUE</td>\n",
              "      <td>1033722</td>\n",
              "      <td>205506</td>\n",
              "      <td>(null)</td>\n",
              "      <td>PBQS</td>\n",
              "      <td>QUEENS</td>\n",
              "      <td>13456.0</td>\n",
              "      <td>02:51:00</td>\n",
              "      <td>N</td>\n",
              "      <td>N</td>\n",
              "    </tr>\n",
              "    <tr>\n",
              "      <th>13456</th>\n",
              "      <td>NaN</td>\n",
              "      <td>30-12-2019</td>\n",
              "      <td>NaN</td>\n",
              "      <td>2019</td>\n",
              "      <td>December</td>\n",
              "      <td>Monday</td>\n",
              "      <td>Based on Radio Run</td>\n",
              "      <td>APP</td>\n",
              "      <td>POM</td>\n",
              "      <td>109</td>\n",
              "      <td>SGT</td>\n",
              "      <td>109</td>\n",
              "      <td>NaN</td>\n",
              "      <td>(null)</td>\n",
              "      <td>P</td>\n",
              "      <td>PSB</td>\n",
              "      <td>1</td>\n",
              "      <td>ASSAULT</td>\n",
              "      <td>10</td>\n",
              "      <td>Y</td>\n",
              "      <td>(null)</td>\n",
              "      <td>N</td>\n",
              "      <td>Y</td>\n",
              "      <td>ASSAULT</td>\n",
              "      <td>N</td>\n",
              "      <td>(null)</td>\n",
              "      <td>Y</td>\n",
              "      <td>(null)</td>\n",
              "      <td>(null)</td>\n",
              "      <td>(null)</td>\n",
              "      <td>Y</td>\n",
              "      <td>Y</td>\n",
              "      <td>N</td>\n",
              "      <td>(null)</td>\n",
              "      <td>Y</td>\n",
              "      <td>(null)</td>\n",
              "      <td>Y</td>\n",
              "      <td>(null)</td>\n",
              "      <td>(null)</td>\n",
              "      <td>(null)</td>\n",
              "      <td>...</td>\n",
              "      <td>(null)</td>\n",
              "      <td>(null)</td>\n",
              "      <td>Y</td>\n",
              "      <td>(null)</td>\n",
              "      <td>(null)</td>\n",
              "      <td>(null)</td>\n",
              "      <td>(null)</td>\n",
              "      <td>(null)</td>\n",
              "      <td>(null)</td>\n",
              "      <td>(null)</td>\n",
              "      <td>Y</td>\n",
              "      <td>(null)</td>\n",
              "      <td>(null)</td>\n",
              "      <td>(null)</td>\n",
              "      <td>DE</td>\n",
              "      <td>NORMAL</td>\n",
              "      <td>55</td>\n",
              "      <td>MALE</td>\n",
              "      <td>WHITE</td>\n",
              "      <td>5.11</td>\n",
              "      <td>200</td>\n",
              "      <td>MED</td>\n",
              "      <td>GRN</td>\n",
              "      <td>GRY</td>\n",
              "      <td>(null)</td>\n",
              "      <td>109</td>\n",
              "      <td>C</td>\n",
              "      <td>(null)</td>\n",
              "      <td>COLLEGE POINT BOULEVARD &amp;&amp; 15 AVENUE</td>\n",
              "      <td>NaN</td>\n",
              "      <td>COLLEGE POINT BOULEVARD</td>\n",
              "      <td>1026950</td>\n",
              "      <td>225017</td>\n",
              "      <td>(null)</td>\n",
              "      <td>PBQN</td>\n",
              "      <td>QUEENS</td>\n",
              "      <td>13457.0</td>\n",
              "      <td>14:35:00</td>\n",
              "      <td>N</td>\n",
              "      <td>N</td>\n",
              "    </tr>\n",
              "    <tr>\n",
              "      <th>13457</th>\n",
              "      <td>NaN</td>\n",
              "      <td>14-12-2019</td>\n",
              "      <td>NaN</td>\n",
              "      <td>2019</td>\n",
              "      <td>December</td>\n",
              "      <td>Saturday</td>\n",
              "      <td>Based on Radio Run</td>\n",
              "      <td>APP</td>\n",
              "      <td>SGT</td>\n",
              "      <td>109</td>\n",
              "      <td>LT</td>\n",
              "      <td>109</td>\n",
              "      <td>NaN</td>\n",
              "      <td>O</td>\n",
              "      <td>P</td>\n",
              "      <td>PSB</td>\n",
              "      <td>2</td>\n",
              "      <td>BURGLARY</td>\n",
              "      <td>5</td>\n",
              "      <td>Y</td>\n",
              "      <td>(null)</td>\n",
              "      <td>N</td>\n",
              "      <td>Y</td>\n",
              "      <td>BURGLARY</td>\n",
              "      <td>N</td>\n",
              "      <td>(null)</td>\n",
              "      <td>N</td>\n",
              "      <td>(null)</td>\n",
              "      <td>S</td>\n",
              "      <td>(null)</td>\n",
              "      <td>N</td>\n",
              "      <td>Y</td>\n",
              "      <td>N</td>\n",
              "      <td>(null)</td>\n",
              "      <td>(null)</td>\n",
              "      <td>(null)</td>\n",
              "      <td>N</td>\n",
              "      <td>(null)</td>\n",
              "      <td>(null)</td>\n",
              "      <td>(null)</td>\n",
              "      <td>...</td>\n",
              "      <td>(null)</td>\n",
              "      <td>(null)</td>\n",
              "      <td>Y</td>\n",
              "      <td>(null)</td>\n",
              "      <td>(null)</td>\n",
              "      <td>(null)</td>\n",
              "      <td>(null)</td>\n",
              "      <td>(null)</td>\n",
              "      <td>(null)</td>\n",
              "      <td>(null)</td>\n",
              "      <td>(null)</td>\n",
              "      <td>Y</td>\n",
              "      <td>(null)</td>\n",
              "      <td>(null)</td>\n",
              "      <td>DE</td>\n",
              "      <td>EXCITED</td>\n",
              "      <td>54</td>\n",
              "      <td>MALE</td>\n",
              "      <td>ASIAN / PACIFIC ISLANDER</td>\n",
              "      <td>5.1</td>\n",
              "      <td>190</td>\n",
              "      <td>THN</td>\n",
              "      <td>BRO</td>\n",
              "      <td>BLD</td>\n",
              "      <td>NaN</td>\n",
              "      <td>109</td>\n",
              "      <td>B</td>\n",
              "      <td>(null)</td>\n",
              "      <td>COLLEGE POINT BOULEVARD &amp;&amp; POPLE AVENUE</td>\n",
              "      <td>NaN</td>\n",
              "      <td>COLLEGE POINT BOULEVARD</td>\n",
              "      <td>1030630</td>\n",
              "      <td>213662</td>\n",
              "      <td>(null)</td>\n",
              "      <td>PBQN</td>\n",
              "      <td>QUEENS</td>\n",
              "      <td>13458.0</td>\n",
              "      <td>03:30:00</td>\n",
              "      <td>N</td>\n",
              "      <td>N</td>\n",
              "    </tr>\n",
              "    <tr>\n",
              "      <th>13458</th>\n",
              "      <td>NaN</td>\n",
              "      <td>29-11-2019</td>\n",
              "      <td>NaN</td>\n",
              "      <td>2019</td>\n",
              "      <td>November</td>\n",
              "      <td>Friday</td>\n",
              "      <td>Based on Radio Run</td>\n",
              "      <td>APP</td>\n",
              "      <td>POM</td>\n",
              "      <td>113</td>\n",
              "      <td>SGT</td>\n",
              "      <td>113</td>\n",
              "      <td>NaN</td>\n",
              "      <td>(null)</td>\n",
              "      <td>P</td>\n",
              "      <td>PSB</td>\n",
              "      <td>1</td>\n",
              "      <td>OTHER</td>\n",
              "      <td>1</td>\n",
              "      <td>Y</td>\n",
              "      <td>(null)</td>\n",
              "      <td>N</td>\n",
              "      <td>Y</td>\n",
              "      <td>OTHER</td>\n",
              "      <td>N</td>\n",
              "      <td>(null)</td>\n",
              "      <td>Y</td>\n",
              "      <td>(null)</td>\n",
              "      <td>(null)</td>\n",
              "      <td>(null)</td>\n",
              "      <td>N</td>\n",
              "      <td>N</td>\n",
              "      <td>N</td>\n",
              "      <td>(null)</td>\n",
              "      <td>(null)</td>\n",
              "      <td>(null)</td>\n",
              "      <td>N</td>\n",
              "      <td>(null)</td>\n",
              "      <td>(null)</td>\n",
              "      <td>Y</td>\n",
              "      <td>...</td>\n",
              "      <td>(null)</td>\n",
              "      <td>(null)</td>\n",
              "      <td>(null)</td>\n",
              "      <td>(null)</td>\n",
              "      <td>(null)</td>\n",
              "      <td>(null)</td>\n",
              "      <td>(null)</td>\n",
              "      <td>Y</td>\n",
              "      <td>(null)</td>\n",
              "      <td>(null)</td>\n",
              "      <td>(null)</td>\n",
              "      <td>(null)</td>\n",
              "      <td>(null)</td>\n",
              "      <td>(null)</td>\n",
              "      <td>DE</td>\n",
              "      <td>AGITATED</td>\n",
              "      <td>25</td>\n",
              "      <td>MALE</td>\n",
              "      <td>BLACK</td>\n",
              "      <td>5.11</td>\n",
              "      <td>150</td>\n",
              "      <td>MED</td>\n",
              "      <td>BRO</td>\n",
              "      <td>BLK</td>\n",
              "      <td>(null)</td>\n",
              "      <td>113</td>\n",
              "      <td>C</td>\n",
              "      <td>(null)</td>\n",
              "      <td>LINDEN BOULEVARD &amp;&amp; 157 STREET</td>\n",
              "      <td>NaN</td>\n",
              "      <td>LINDEN BOULEVARD</td>\n",
              "      <td>1042383</td>\n",
              "      <td>189913</td>\n",
              "      <td>(null)</td>\n",
              "      <td>PBQS</td>\n",
              "      <td>QUEENS</td>\n",
              "      <td>13459.0</td>\n",
              "      <td>14:10:00</td>\n",
              "      <td>N</td>\n",
              "      <td>N</td>\n",
              "    </tr>\n",
              "  </tbody>\n",
              "</table>\n",
              "<p>5 rows × 87 columns</p>\n",
              "</div>"
            ],
            "text/plain": [
              "       STOP_FRISK_ID STOP_FRISK_DATE  ... ASK_FOR_CONSENT_FLG  CONSENT_GIVEN_FLG\n",
              "13454            NaN      30-12-2019  ...                   N                  N\n",
              "13455            NaN      07-01-2019  ...                   N                  N\n",
              "13456            NaN      30-12-2019  ...                   N                  N\n",
              "13457            NaN      14-12-2019  ...                   N                  N\n",
              "13458            NaN      29-11-2019  ...                   N                  N\n",
              "\n",
              "[5 rows x 87 columns]"
            ]
          },
          "metadata": {
            "tags": []
          },
          "execution_count": 14
        }
      ]
    },
    {
      "cell_type": "code",
      "metadata": {
        "colab": {
          "base_uri": "https://localhost:8080/"
        },
        "id": "Kd9wkANQmwh3",
        "outputId": "170b4807-f79b-4532-e27d-c436d9abff2a"
      },
      "source": [
        "#dimensions of data - 6977 rows and 15 columns\r\n",
        "df.shape"
      ],
      "execution_count": 15,
      "outputs": [
        {
          "output_type": "execute_result",
          "data": {
            "text/plain": [
              "(24467, 87)"
            ]
          },
          "metadata": {
            "tags": []
          },
          "execution_count": 15
        }
      ]
    },
    {
      "cell_type": "code",
      "metadata": {
        "colab": {
          "base_uri": "https://localhost:8080/"
        },
        "id": "2rh5CD6OGLFH",
        "outputId": "af6b3a63-cd67-4500-bc15-966290490778"
      },
      "source": [
        "df.columns"
      ],
      "execution_count": 12,
      "outputs": [
        {
          "output_type": "execute_result",
          "data": {
            "text/plain": [
              "Index(['STOP_FRISK_ID', 'STOP_FRISK_DATE', 'Stop Frisk Time', 'YEAR2',\n",
              "       'MONTH2', 'DAY2', 'STOP_WAS_INITIATED', 'RECORD_STATUS_CODE',\n",
              "       'ISSUING_OFFICER_RANK', 'ISSUING_OFFICER_COMMAND_CODE',\n",
              "       'SUPERVISING_OFFICER_RANK', 'SUPERVISING_OFFICER_COMMAND_CODE',\n",
              "       'SUPERVISING_ACTION_CORRESPONDING_ACTIVITY_LOG_ENTRY_REVIEWED',\n",
              "       'LOCATION_IN_OUT_CODE', 'JURISDICTION_CODE', 'JURISDICTION_DESCRIPTION',\n",
              "       'OBSERVED_DURATION_MINUTES', 'SUSPECTED_CRIME_DESCRIPTION',\n",
              "       'STOP_DURATION_MINUTES', 'OFFICER_EXPLAINED_STOP_FLAG',\n",
              "       'OFFICER_NOT_EXPLAINED_STOP_DESCRIPTION', 'OTHER_PERSON_STOPPED_FLAG',\n",
              "       'SUSPECT_ARRESTED_FLAG', 'SUSPECT_ARREST_OFFENSE',\n",
              "       'SUMMONS_ISSUED_FLAG', 'SUMMONS_OFFENSE_DESCRIPTION',\n",
              "       'OFFICER_IN_UNIFORM_FLAG', 'ID_CARD_IDENTIFIES_OFFICER_FLAG',\n",
              "       'SHIELD_IDENTIFIES_OFFICER_FLAG', 'VERBAL_IDENTIFIES_OFFICER_FLAG',\n",
              "       'FRISKED_FLAG', 'SEARCHED_FLAG', 'OTHER_CONTRABAND_FLAG',\n",
              "       'FIREARM_FLAG', 'KNIFE_CUTTER_FLAG', 'OTHER_WEAPON_FLAG',\n",
              "       'WEAPON_FOUND_FLAG', 'PHYSICAL_FORCE_CEW_FLAG',\n",
              "       'PHYSICAL_FORCE_DRAW_POINT_FIREARM_FLAG',\n",
              "       'PHYSICAL_FORCE_HANDCUFF_SUSPECT_FLAG',\n",
              "       'PHYSICAL_FORCE_OC_SPRAY_USED_FLAG', 'PHYSICAL_FORCE_OTHER_FLAG',\n",
              "       'PHYSICAL_FORCE_RESTRAINT_USED_FLAG',\n",
              "       'PHYSICAL_FORCE_VERBAL_INSTRUCTION_FLAG',\n",
              "       'PHYSICAL_FORCE_WEAPON_IMPACT_FLAG',\n",
              "       'BACKROUND_CIRCUMSTANCES_VIOLENT_CRIME_FLAG',\n",
              "       'BACKROUND_CIRCUMSTANCES_SUSPECT_KNOWN_TO_CARRY_WEAPON_FLAG',\n",
              "       'SUSPECTS_ACTIONS_CASING_FLAG',\n",
              "       'SUSPECTS_ACTIONS_CONCEALED_POSSESSION_WEAPON_FLAG',\n",
              "       'SUSPECTS_ACTIONS_DECRIPTION_FLAG',\n",
              "       'SUSPECTS_ACTIONS_DRUG_TRANSACTIONS_FLAG',\n",
              "       'SUSPECTS_ACTIONS_IDENTIFY_CRIME_PATTERN_FLAG',\n",
              "       'SUSPECTS_ACTIONS_LOOKOUT_FLAG', 'SUSPECTS_ACTIONS_OTHER_FLAG',\n",
              "       'SUSPECTS_ACTIONS_PROXIMITY_TO_SCENE_FLAG',\n",
              "       'SEARCH_BASIS_ADMISSION_FLAG', 'SEARCH_BASIS_CONSENT_FLAG',\n",
              "       'SEARCH_BASIS_HARD_OBJECT_FLAG',\n",
              "       'SEARCH_BASIS_INCIDENTAL_TO_ARREST_FLAG', 'SEARCH_BASIS_OTHER_FLAG',\n",
              "       'SEARCH_BASIS_OUTLINE_FLAG', 'DEMEANOR_CODE',\n",
              "       'DEMEANOR_OF_PERSON_STOPPED', 'SUSPECT_REPORTED_AGE', 'SUSPECT_SEX',\n",
              "       'SUSPECT_RACE_DESCRIPTION', 'SUSPECT_HEIGHT', 'SUSPECT_WEIGHT',\n",
              "       'SUSPECT_BODY_BUILD_TYPE', 'SUSPECT_EYE_COLOR', 'SUSPECT_HAIR_COLOR',\n",
              "       'SUSPECT_OTHER_DESCRIPTION', 'STOP_LOCATION_PRECINCT',\n",
              "       'STOP_LOCATION_SECTOR_CODE', 'STOP_LOCATION_APARTMENT',\n",
              "       'STOP_LOCATION_FULL_ADDRESS', 'STOP_LOCATION_PREMISES_NAME',\n",
              "       'STOP_LOCATION_STREET_NAME', 'STOP_LOCATION_X', 'STOP_LOCATION_Y',\n",
              "       'STOP_LOCATION_ZIP_CODE', 'STOP_LOCATION_PATROL_BORO_NAME',\n",
              "       'STOP_LOCATION_BORO_NAME', 'STOP_ID_ANONY', 'STOP_FRISK_TIME',\n",
              "       'ASK_FOR_CONSENT_FLG', 'CONSENT_GIVEN_FLG'],\n",
              "      dtype='object')"
            ]
          },
          "metadata": {
            "tags": []
          },
          "execution_count": 12
        }
      ]
    },
    {
      "cell_type": "markdown",
      "metadata": {
        "id": "jhz9Jf9hnBlD"
      },
      "source": [
        "Data Preprocessing:"
      ]
    },
    {
      "cell_type": "code",
      "metadata": {
        "colab": {
          "base_uri": "https://localhost:8080/",
          "height": 561
        },
        "id": "eq5aoGPGm-NX",
        "outputId": "aa817d1e-2add-4f98-95a5-12a5f7b28c51"
      },
      "source": [
        "#data cleaning \r\n",
        "\r\n",
        "#select only the columns needed\r\n",
        "stop_search_df = df[df[\"\"]]"
      ],
      "execution_count": 11,
      "outputs": [
        {
          "output_type": "error",
          "ename": "KeyError",
          "evalue": "ignored",
          "traceback": [
            "\u001b[0;31m---------------------------------------------------------------------------\u001b[0m",
            "\u001b[0;31mKeyError\u001b[0m                                  Traceback (most recent call last)",
            "\u001b[0;32m/usr/local/lib/python3.6/dist-packages/pandas/core/indexes/base.py\u001b[0m in \u001b[0;36mget_loc\u001b[0;34m(self, key, method, tolerance)\u001b[0m\n\u001b[1;32m   2897\u001b[0m             \u001b[0;32mtry\u001b[0m\u001b[0;34m:\u001b[0m\u001b[0;34m\u001b[0m\u001b[0;34m\u001b[0m\u001b[0m\n\u001b[0;32m-> 2898\u001b[0;31m                 \u001b[0;32mreturn\u001b[0m \u001b[0mself\u001b[0m\u001b[0;34m.\u001b[0m\u001b[0m_engine\u001b[0m\u001b[0;34m.\u001b[0m\u001b[0mget_loc\u001b[0m\u001b[0;34m(\u001b[0m\u001b[0mcasted_key\u001b[0m\u001b[0;34m)\u001b[0m\u001b[0;34m\u001b[0m\u001b[0;34m\u001b[0m\u001b[0m\n\u001b[0m\u001b[1;32m   2899\u001b[0m             \u001b[0;32mexcept\u001b[0m \u001b[0mKeyError\u001b[0m \u001b[0;32mas\u001b[0m \u001b[0merr\u001b[0m\u001b[0;34m:\u001b[0m\u001b[0;34m\u001b[0m\u001b[0;34m\u001b[0m\u001b[0m\n",
            "\u001b[0;32mpandas/_libs/index.pyx\u001b[0m in \u001b[0;36mpandas._libs.index.IndexEngine.get_loc\u001b[0;34m()\u001b[0m\n",
            "\u001b[0;32mpandas/_libs/index.pyx\u001b[0m in \u001b[0;36mpandas._libs.index.IndexEngine.get_loc\u001b[0;34m()\u001b[0m\n",
            "\u001b[0;32mpandas/_libs/hashtable_class_helper.pxi\u001b[0m in \u001b[0;36mpandas._libs.hashtable.PyObjectHashTable.get_item\u001b[0;34m()\u001b[0m\n",
            "\u001b[0;32mpandas/_libs/hashtable_class_helper.pxi\u001b[0m in \u001b[0;36mpandas._libs.hashtable.PyObjectHashTable.get_item\u001b[0;34m()\u001b[0m\n",
            "\u001b[0;31mKeyError\u001b[0m: ''",
            "\nThe above exception was the direct cause of the following exception:\n",
            "\u001b[0;31mKeyError\u001b[0m                                  Traceback (most recent call last)",
            "\u001b[0;32m<ipython-input-11-1f5931297dd9>\u001b[0m in \u001b[0;36m<module>\u001b[0;34m()\u001b[0m\n\u001b[1;32m      2\u001b[0m \u001b[0;34m\u001b[0m\u001b[0m\n\u001b[1;32m      3\u001b[0m \u001b[0;31m#select only the columns needed\u001b[0m\u001b[0;34m\u001b[0m\u001b[0;34m\u001b[0m\u001b[0;34m\u001b[0m\u001b[0m\n\u001b[0;32m----> 4\u001b[0;31m \u001b[0mstop_search_df\u001b[0m \u001b[0;34m=\u001b[0m \u001b[0mdf\u001b[0m\u001b[0;34m[\u001b[0m\u001b[0mdf\u001b[0m\u001b[0;34m[\u001b[0m\u001b[0;34m\"\"\u001b[0m\u001b[0;34m]\u001b[0m\u001b[0;34m]\u001b[0m\u001b[0;34m\u001b[0m\u001b[0;34m\u001b[0m\u001b[0m\n\u001b[0m",
            "\u001b[0;32m/usr/local/lib/python3.6/dist-packages/pandas/core/frame.py\u001b[0m in \u001b[0;36m__getitem__\u001b[0;34m(self, key)\u001b[0m\n\u001b[1;32m   2904\u001b[0m             \u001b[0;32mif\u001b[0m \u001b[0mself\u001b[0m\u001b[0;34m.\u001b[0m\u001b[0mcolumns\u001b[0m\u001b[0;34m.\u001b[0m\u001b[0mnlevels\u001b[0m \u001b[0;34m>\u001b[0m \u001b[0;36m1\u001b[0m\u001b[0;34m:\u001b[0m\u001b[0;34m\u001b[0m\u001b[0;34m\u001b[0m\u001b[0m\n\u001b[1;32m   2905\u001b[0m                 \u001b[0;32mreturn\u001b[0m \u001b[0mself\u001b[0m\u001b[0;34m.\u001b[0m\u001b[0m_getitem_multilevel\u001b[0m\u001b[0;34m(\u001b[0m\u001b[0mkey\u001b[0m\u001b[0;34m)\u001b[0m\u001b[0;34m\u001b[0m\u001b[0;34m\u001b[0m\u001b[0m\n\u001b[0;32m-> 2906\u001b[0;31m             \u001b[0mindexer\u001b[0m \u001b[0;34m=\u001b[0m \u001b[0mself\u001b[0m\u001b[0;34m.\u001b[0m\u001b[0mcolumns\u001b[0m\u001b[0;34m.\u001b[0m\u001b[0mget_loc\u001b[0m\u001b[0;34m(\u001b[0m\u001b[0mkey\u001b[0m\u001b[0;34m)\u001b[0m\u001b[0;34m\u001b[0m\u001b[0;34m\u001b[0m\u001b[0m\n\u001b[0m\u001b[1;32m   2907\u001b[0m             \u001b[0;32mif\u001b[0m \u001b[0mis_integer\u001b[0m\u001b[0;34m(\u001b[0m\u001b[0mindexer\u001b[0m\u001b[0;34m)\u001b[0m\u001b[0;34m:\u001b[0m\u001b[0;34m\u001b[0m\u001b[0;34m\u001b[0m\u001b[0m\n\u001b[1;32m   2908\u001b[0m                 \u001b[0mindexer\u001b[0m \u001b[0;34m=\u001b[0m \u001b[0;34m[\u001b[0m\u001b[0mindexer\u001b[0m\u001b[0;34m]\u001b[0m\u001b[0;34m\u001b[0m\u001b[0;34m\u001b[0m\u001b[0m\n",
            "\u001b[0;32m/usr/local/lib/python3.6/dist-packages/pandas/core/indexes/base.py\u001b[0m in \u001b[0;36mget_loc\u001b[0;34m(self, key, method, tolerance)\u001b[0m\n\u001b[1;32m   2898\u001b[0m                 \u001b[0;32mreturn\u001b[0m \u001b[0mself\u001b[0m\u001b[0;34m.\u001b[0m\u001b[0m_engine\u001b[0m\u001b[0;34m.\u001b[0m\u001b[0mget_loc\u001b[0m\u001b[0;34m(\u001b[0m\u001b[0mcasted_key\u001b[0m\u001b[0;34m)\u001b[0m\u001b[0;34m\u001b[0m\u001b[0;34m\u001b[0m\u001b[0m\n\u001b[1;32m   2899\u001b[0m             \u001b[0;32mexcept\u001b[0m \u001b[0mKeyError\u001b[0m \u001b[0;32mas\u001b[0m \u001b[0merr\u001b[0m\u001b[0;34m:\u001b[0m\u001b[0;34m\u001b[0m\u001b[0;34m\u001b[0m\u001b[0m\n\u001b[0;32m-> 2900\u001b[0;31m                 \u001b[0;32mraise\u001b[0m \u001b[0mKeyError\u001b[0m\u001b[0;34m(\u001b[0m\u001b[0mkey\u001b[0m\u001b[0;34m)\u001b[0m \u001b[0;32mfrom\u001b[0m \u001b[0merr\u001b[0m\u001b[0;34m\u001b[0m\u001b[0;34m\u001b[0m\u001b[0m\n\u001b[0m\u001b[1;32m   2901\u001b[0m \u001b[0;34m\u001b[0m\u001b[0m\n\u001b[1;32m   2902\u001b[0m         \u001b[0;32mif\u001b[0m \u001b[0mtolerance\u001b[0m \u001b[0;32mis\u001b[0m \u001b[0;32mnot\u001b[0m \u001b[0;32mNone\u001b[0m\u001b[0;34m:\u001b[0m\u001b[0;34m\u001b[0m\u001b[0;34m\u001b[0m\u001b[0m\n",
            "\u001b[0;31mKeyError\u001b[0m: ''"
          ]
        }
      ]
    },
    {
      "cell_type": "code",
      "metadata": {
        "id": "e9ZJj8gCn-xu"
      },
      "source": [
        "#checking for NaN values\r\n",
        "stop_search_df.isnull().sum()"
      ],
      "execution_count": null,
      "outputs": []
    }
  ]
}