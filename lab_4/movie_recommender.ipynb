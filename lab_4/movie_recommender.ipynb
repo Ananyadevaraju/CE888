{
  "nbformat": 4,
  "nbformat_minor": 0,
  "metadata": {
    "colab": {
      "name": "movie_recommender.ipynb",
      "provenance": [],
      "collapsed_sections": [],
      "authorship_tag": "ABX9TyPdKuZAqXTumAy63XLIyJ/t",
      "include_colab_link": true
    },
    "kernelspec": {
      "name": "python3",
      "display_name": "Python 3"
    },
    "language_info": {
      "name": "python"
    }
  },
  "cells": [
    {
      "cell_type": "markdown",
      "metadata": {
        "id": "view-in-github",
        "colab_type": "text"
      },
      "source": [
        "<a href=\"https://colab.research.google.com/github/Ananyadevaraju/CE888/blob/main/lab_4/movie_recommender.ipynb\" target=\"_parent\"><img src=\"https://colab.research.google.com/assets/colab-badge.svg\" alt=\"Open In Colab\"/></a>"
      ]
    },
    {
      "cell_type": "code",
      "metadata": {
        "id": "Ig2cLM77IeNg"
      },
      "source": [
        "import pandas as pd\n",
        "import numpy as np\n",
        "import operator"
      ],
      "execution_count": null,
      "outputs": []
    },
    {
      "cell_type": "code",
      "metadata": {
        "id": "f_9atZtsNw-A"
      },
      "source": [
        "data = pd.ExcelFile('https://github.com/albanda/CE888/blob/master/lab4-recommender/movies_latent_factors.xlsx?raw=true')"
      ],
      "execution_count": null,
      "outputs": []
    },
    {
      "cell_type": "code",
      "metadata": {
        "colab": {
          "base_uri": "https://localhost:8080/"
        },
        "id": "OoserV3jN7xg",
        "outputId": "2575a7ff-785f-4f03-b901-13475fb9ff63"
      },
      "source": [
        "data.sheet_names"
      ],
      "execution_count": null,
      "outputs": [
        {
          "output_type": "execute_result",
          "data": {
            "text/plain": [
              "['Items', 'Users']"
            ]
          },
          "metadata": {
            "tags": []
          },
          "execution_count": 3
        }
      ]
    },
    {
      "cell_type": "code",
      "metadata": {
        "id": "5swyTxmcN-GB"
      },
      "source": [
        "df_items = pd.read_excel('https://github.com/albanda/CE888/blob/master/lab4-recommender/movies_latent_factors.xlsx?raw=true',sheet_name='Items',index_col=None)"
      ],
      "execution_count": null,
      "outputs": []
    },
    {
      "cell_type": "code",
      "metadata": {
        "colab": {
          "base_uri": "https://localhost:8080/",
          "height": 496
        },
        "id": "2UkkRiVMOFc0",
        "outputId": "541d67e3-2846-41d8-d96c-4459158c273a"
      },
      "source": [
        "df_items.head()"
      ],
      "execution_count": null,
      "outputs": [
        {
          "output_type": "execute_result",
          "data": {
            "text/html": [
              "<div>\n",
              "<style scoped>\n",
              "    .dataframe tbody tr th:only-of-type {\n",
              "        vertical-align: middle;\n",
              "    }\n",
              "\n",
              "    .dataframe tbody tr th {\n",
              "        vertical-align: top;\n",
              "    }\n",
              "\n",
              "    .dataframe thead th {\n",
              "        text-align: right;\n",
              "    }\n",
              "</style>\n",
              "<table border=\"1\" class=\"dataframe\">\n",
              "  <thead>\n",
              "    <tr style=\"text-align: right;\">\n",
              "      <th></th>\n",
              "      <th>Movie ID</th>\n",
              "      <th>Title</th>\n",
              "      <th>Factor1</th>\n",
              "      <th>Factor2</th>\n",
              "      <th>Factor3</th>\n",
              "      <th>Factor4</th>\n",
              "      <th>Factor5</th>\n",
              "      <th>Factor6</th>\n",
              "      <th>Factor7</th>\n",
              "      <th>Factor8</th>\n",
              "      <th>Factor9</th>\n",
              "      <th>Factor10</th>\n",
              "      <th>Factor11</th>\n",
              "      <th>Factor12</th>\n",
              "      <th>Factor13</th>\n",
              "      <th>Factor14</th>\n",
              "      <th>Factor15</th>\n",
              "    </tr>\n",
              "  </thead>\n",
              "  <tbody>\n",
              "    <tr>\n",
              "      <th>0</th>\n",
              "      <td>11</td>\n",
              "      <td>Star Wars: Episode IV - A New Hope (1977)</td>\n",
              "      <td>-1.521848</td>\n",
              "      <td>-1.038507</td>\n",
              "      <td>2.027269</td>\n",
              "      <td>0.247933</td>\n",
              "      <td>-0.594548</td>\n",
              "      <td>2.513260</td>\n",
              "      <td>-1.848910</td>\n",
              "      <td>0.476710</td>\n",
              "      <td>-0.224146</td>\n",
              "      <td>-0.760681</td>\n",
              "      <td>-0.973915</td>\n",
              "      <td>0.862379</td>\n",
              "      <td>0.403861</td>\n",
              "      <td>1.129616</td>\n",
              "      <td>-0.248806</td>\n",
              "    </tr>\n",
              "    <tr>\n",
              "      <th>1</th>\n",
              "      <td>12</td>\n",
              "      <td>Finding Nemo (2003)</td>\n",
              "      <td>-0.342185</td>\n",
              "      <td>-0.296586</td>\n",
              "      <td>-0.385962</td>\n",
              "      <td>2.443297</td>\n",
              "      <td>-1.097015</td>\n",
              "      <td>-0.619465</td>\n",
              "      <td>0.572887</td>\n",
              "      <td>0.329516</td>\n",
              "      <td>-0.712228</td>\n",
              "      <td>0.323554</td>\n",
              "      <td>-0.561948</td>\n",
              "      <td>-0.142405</td>\n",
              "      <td>-0.564415</td>\n",
              "      <td>0.506876</td>\n",
              "      <td>1.274993</td>\n",
              "    </tr>\n",
              "    <tr>\n",
              "      <th>2</th>\n",
              "      <td>13</td>\n",
              "      <td>Forrest Gump (1994)</td>\n",
              "      <td>-2.240888</td>\n",
              "      <td>-0.438815</td>\n",
              "      <td>-2.275177</td>\n",
              "      <td>0.614548</td>\n",
              "      <td>0.904469</td>\n",
              "      <td>0.711919</td>\n",
              "      <td>-0.420876</td>\n",
              "      <td>1.302036</td>\n",
              "      <td>-0.868418</td>\n",
              "      <td>-0.160122</td>\n",
              "      <td>0.633667</td>\n",
              "      <td>0.133138</td>\n",
              "      <td>-0.330276</td>\n",
              "      <td>-2.209004</td>\n",
              "      <td>-0.419092</td>\n",
              "    </tr>\n",
              "    <tr>\n",
              "      <th>3</th>\n",
              "      <td>14</td>\n",
              "      <td>American Beauty (1999)</td>\n",
              "      <td>-0.634531</td>\n",
              "      <td>2.186059</td>\n",
              "      <td>-0.066681</td>\n",
              "      <td>0.086197</td>\n",
              "      <td>0.517558</td>\n",
              "      <td>-0.185319</td>\n",
              "      <td>-0.412352</td>\n",
              "      <td>0.063841</td>\n",
              "      <td>0.075937</td>\n",
              "      <td>-0.577682</td>\n",
              "      <td>0.526803</td>\n",
              "      <td>-1.465557</td>\n",
              "      <td>-0.819682</td>\n",
              "      <td>0.549010</td>\n",
              "      <td>-0.681191</td>\n",
              "    </tr>\n",
              "    <tr>\n",
              "      <th>4</th>\n",
              "      <td>22</td>\n",
              "      <td>Pirates of the Caribbean: The Curse of the Bla...</td>\n",
              "      <td>0.517348</td>\n",
              "      <td>-1.456763</td>\n",
              "      <td>0.369161</td>\n",
              "      <td>0.073903</td>\n",
              "      <td>-0.098332</td>\n",
              "      <td>-0.594722</td>\n",
              "      <td>0.828888</td>\n",
              "      <td>0.033626</td>\n",
              "      <td>-0.707414</td>\n",
              "      <td>0.717877</td>\n",
              "      <td>1.394326</td>\n",
              "      <td>-0.786986</td>\n",
              "      <td>1.429191</td>\n",
              "      <td>0.855746</td>\n",
              "      <td>-2.292566</td>\n",
              "    </tr>\n",
              "  </tbody>\n",
              "</table>\n",
              "</div>"
            ],
            "text/plain": [
              "   Movie ID  ...  Factor15\n",
              "0        11  ... -0.248806\n",
              "1        12  ...  1.274993\n",
              "2        13  ... -0.419092\n",
              "3        14  ... -0.681191\n",
              "4        22  ... -2.292566\n",
              "\n",
              "[5 rows x 17 columns]"
            ]
          },
          "metadata": {
            "tags": []
          },
          "execution_count": 5
        }
      ]
    },
    {
      "cell_type": "code",
      "metadata": {
        "id": "TwSCQ9suOIKW"
      },
      "source": [
        "df_users = pd.read_excel('https://github.com/albanda/CE888/blob/master/lab4-recommender/movies_latent_factors.xlsx?raw=true',sheet_name='Users', index_col=None)"
      ],
      "execution_count": null,
      "outputs": []
    },
    {
      "cell_type": "code",
      "metadata": {
        "colab": {
          "base_uri": "https://localhost:8080/",
          "height": 204
        },
        "id": "gRTkr6m5OLWf",
        "outputId": "2306b8f8-cb4b-47fb-9747-33ab1edbc592"
      },
      "source": [
        "df_users.head()"
      ],
      "execution_count": null,
      "outputs": [
        {
          "output_type": "execute_result",
          "data": {
            "text/html": [
              "<div>\n",
              "<style scoped>\n",
              "    .dataframe tbody tr th:only-of-type {\n",
              "        vertical-align: middle;\n",
              "    }\n",
              "\n",
              "    .dataframe tbody tr th {\n",
              "        vertical-align: top;\n",
              "    }\n",
              "\n",
              "    .dataframe thead th {\n",
              "        text-align: right;\n",
              "    }\n",
              "</style>\n",
              "<table border=\"1\" class=\"dataframe\">\n",
              "  <thead>\n",
              "    <tr style=\"text-align: right;\">\n",
              "      <th></th>\n",
              "      <th>User</th>\n",
              "      <th>Factor1</th>\n",
              "      <th>Factor2</th>\n",
              "      <th>Factor3</th>\n",
              "      <th>Factor4</th>\n",
              "      <th>Factor5</th>\n",
              "      <th>Factor6</th>\n",
              "      <th>Factor7</th>\n",
              "      <th>Factor8</th>\n",
              "      <th>Factor9</th>\n",
              "      <th>Factor10</th>\n",
              "      <th>Factor11</th>\n",
              "      <th>Factor12</th>\n",
              "      <th>Factor13</th>\n",
              "      <th>Factor14</th>\n",
              "      <th>Factor15</th>\n",
              "    </tr>\n",
              "  </thead>\n",
              "  <tbody>\n",
              "    <tr>\n",
              "      <th>0</th>\n",
              "      <td>4768</td>\n",
              "      <td>-0.204024</td>\n",
              "      <td>0.161079</td>\n",
              "      <td>-0.090447</td>\n",
              "      <td>0.138495</td>\n",
              "      <td>-0.162934</td>\n",
              "      <td>0.163894</td>\n",
              "      <td>0.051502</td>\n",
              "      <td>-0.088582</td>\n",
              "      <td>0.126829</td>\n",
              "      <td>0.065967</td>\n",
              "      <td>0.085008</td>\n",
              "      <td>0.355404</td>\n",
              "      <td>0.007108</td>\n",
              "      <td>-0.118663</td>\n",
              "      <td>-0.039125</td>\n",
              "    </tr>\n",
              "    <tr>\n",
              "      <th>1</th>\n",
              "      <td>156</td>\n",
              "      <td>-0.189652</td>\n",
              "      <td>-0.178979</td>\n",
              "      <td>-0.091490</td>\n",
              "      <td>-0.000823</td>\n",
              "      <td>-0.032646</td>\n",
              "      <td>0.177209</td>\n",
              "      <td>-0.098123</td>\n",
              "      <td>-0.068283</td>\n",
              "      <td>-0.011575</td>\n",
              "      <td>0.120866</td>\n",
              "      <td>-0.009931</td>\n",
              "      <td>-0.048606</td>\n",
              "      <td>0.045916</td>\n",
              "      <td>0.113671</td>\n",
              "      <td>0.179873</td>\n",
              "    </tr>\n",
              "    <tr>\n",
              "      <th>2</th>\n",
              "      <td>5323</td>\n",
              "      <td>-0.115308</td>\n",
              "      <td>-0.090886</td>\n",
              "      <td>-0.053129</td>\n",
              "      <td>0.018472</td>\n",
              "      <td>-0.068081</td>\n",
              "      <td>-0.004828</td>\n",
              "      <td>0.113005</td>\n",
              "      <td>0.102107</td>\n",
              "      <td>0.034758</td>\n",
              "      <td>0.000693</td>\n",
              "      <td>-0.073712</td>\n",
              "      <td>-0.019460</td>\n",
              "      <td>0.108372</td>\n",
              "      <td>0.054471</td>\n",
              "      <td>-0.109552</td>\n",
              "    </tr>\n",
              "    <tr>\n",
              "      <th>3</th>\n",
              "      <td>174</td>\n",
              "      <td>-0.227462</td>\n",
              "      <td>-0.272532</td>\n",
              "      <td>-0.017231</td>\n",
              "      <td>0.054324</td>\n",
              "      <td>0.214755</td>\n",
              "      <td>-0.072639</td>\n",
              "      <td>-0.033122</td>\n",
              "      <td>-0.086508</td>\n",
              "      <td>-0.131479</td>\n",
              "      <td>0.180403</td>\n",
              "      <td>0.095890</td>\n",
              "      <td>-0.082396</td>\n",
              "      <td>0.036767</td>\n",
              "      <td>-0.165438</td>\n",
              "      <td>0.050692</td>\n",
              "    </tr>\n",
              "    <tr>\n",
              "      <th>4</th>\n",
              "      <td>4529</td>\n",
              "      <td>-0.014616</td>\n",
              "      <td>-0.102218</td>\n",
              "      <td>-0.107935</td>\n",
              "      <td>0.155784</td>\n",
              "      <td>-0.123362</td>\n",
              "      <td>-0.118228</td>\n",
              "      <td>-0.013549</td>\n",
              "      <td>-0.050622</td>\n",
              "      <td>0.058698</td>\n",
              "      <td>-0.159600</td>\n",
              "      <td>-0.142382</td>\n",
              "      <td>-0.132836</td>\n",
              "      <td>-0.039897</td>\n",
              "      <td>0.129063</td>\n",
              "      <td>0.102669</td>\n",
              "    </tr>\n",
              "  </tbody>\n",
              "</table>\n",
              "</div>"
            ],
            "text/plain": [
              "   User   Factor1   Factor2   Factor3  ...  Factor12  Factor13  Factor14  Factor15\n",
              "0  4768 -0.204024  0.161079 -0.090447  ...  0.355404  0.007108 -0.118663 -0.039125\n",
              "1   156 -0.189652 -0.178979 -0.091490  ... -0.048606  0.045916  0.113671  0.179873\n",
              "2  5323 -0.115308 -0.090886 -0.053129  ... -0.019460  0.108372  0.054471 -0.109552\n",
              "3   174 -0.227462 -0.272532 -0.017231  ... -0.082396  0.036767 -0.165438  0.050692\n",
              "4  4529 -0.014616 -0.102218 -0.107935  ... -0.132836 -0.039897  0.129063  0.102669\n",
              "\n",
              "[5 rows x 16 columns]"
            ]
          },
          "metadata": {
            "tags": []
          },
          "execution_count": 7
        }
      ]
    },
    {
      "cell_type": "code",
      "metadata": {
        "colab": {
          "base_uri": "https://localhost:8080/"
        },
        "id": "FPCMa_aeOPc5",
        "outputId": "3e305f12-fa89-4beb-e927-b8bf016b2d46"
      },
      "source": [
        "df_users.shape, df_items.shape"
      ],
      "execution_count": null,
      "outputs": [
        {
          "output_type": "execute_result",
          "data": {
            "text/plain": [
              "((25, 16), (100, 17))"
            ]
          },
          "metadata": {
            "tags": []
          },
          "execution_count": 8
        }
      ]
    },
    {
      "cell_type": "code",
      "metadata": {
        "id": "PihX-38DOSSe"
      },
      "source": [
        "# Which 3 movies would you recommend to User 174?\n",
        "# user with ID 5338 will give to the movie with ID 155.\n",
        "num_factors = df_users.shape[1]-1\n",
        "user_pref = df_users[df_users['User'] == 3519].iloc[:, -num_factors:].values[0]\n",
        "item_feat = df_items.iloc[:, -num_factors:].values"
      ],
      "execution_count": null,
      "outputs": []
    },
    {
      "cell_type": "code",
      "metadata": {
        "id": "TOepAi89OW-P"
      },
      "source": [
        "preference = item_feat.dot(user_pref)"
      ],
      "execution_count": null,
      "outputs": []
    },
    {
      "cell_type": "code",
      "metadata": {
        "colab": {
          "base_uri": "https://localhost:8080/"
        },
        "id": "MimxU7IUObzf",
        "outputId": "c403e136-4e57-4fff-8c14-5ceb3a6061d5"
      },
      "source": [
        "preference\n"
      ],
      "execution_count": null,
      "outputs": [
        {
          "output_type": "execute_result",
          "data": {
            "text/plain": [
              "array([ 0.48534082, -0.08227086,  0.01983599,  0.13975328, -0.17719978,\n",
              "        0.11271951,  0.08433738,  0.06682935,  0.09287665,  0.2584627 ,\n",
              "       -0.04487359,  0.17840711,  0.03407909,  0.01665737,  0.04553261,\n",
              "        0.02065168,  0.03979089,  0.12146753,  0.06185721,  0.08007232,\n",
              "        0.11592771,  0.04094973, -0.06520509, -0.00649859, -0.08597423,\n",
              "        0.19921222, -0.03646486,  0.19836899,  0.07157082,  0.07322261,\n",
              "        0.06078828,  0.15943376,  0.21036455,  0.11335954,  0.08692182,\n",
              "        0.01592376,  0.06332367, -0.12794075,  0.12013306, -0.02966947,\n",
              "        0.0108208 ,  0.03525883, -0.0079035 , -0.01922981,  0.11866763,\n",
              "        0.02726093, -0.09541437,  0.007967  ,  0.1562923 , -0.14828493,\n",
              "        0.03421715, -0.33357331, -0.17800273,  0.14969457, -0.0584831 ,\n",
              "        0.04138497, -0.08280496, -0.06034059, -0.07149923,  0.24594413,\n",
              "        0.02798951, -0.11006304,  0.06742033, -0.18478517,  0.02433651,\n",
              "       -0.22231437, -0.26076162, -0.04168923, -0.51177074,  0.06980958,\n",
              "       -0.05067265, -0.00785948, -0.08666205,  0.01427475, -0.03935761,\n",
              "       -0.20386068, -0.14078832,  0.50300534,  0.44936821, -0.02231623,\n",
              "        0.05829692, -0.1164821 , -0.01722665,  0.00544206, -0.01569425,\n",
              "       -0.53319495, -0.06893758,  0.07448637, -0.04078327, -0.07560748,\n",
              "       -0.5452667 , -0.05793842,  0.01464655, -0.09733884, -0.07898361,\n",
              "       -0.07301461, -0.01694144, -0.07444462, -0.05736468, -0.06100232])"
            ]
          },
          "metadata": {
            "tags": []
          },
          "execution_count": 11
        }
      ]
    },
    {
      "cell_type": "code",
      "metadata": {
        "colab": {
          "base_uri": "https://localhost:8080/",
          "height": 669
        },
        "id": "-WEWJ95eOdXP",
        "outputId": "0a84860a-4e54-4a37-95c6-77e22fb1ed11"
      },
      "source": [
        "pd.DataFrame(preference).head(20)"
      ],
      "execution_count": null,
      "outputs": [
        {
          "output_type": "execute_result",
          "data": {
            "text/html": [
              "<div>\n",
              "<style scoped>\n",
              "    .dataframe tbody tr th:only-of-type {\n",
              "        vertical-align: middle;\n",
              "    }\n",
              "\n",
              "    .dataframe tbody tr th {\n",
              "        vertical-align: top;\n",
              "    }\n",
              "\n",
              "    .dataframe thead th {\n",
              "        text-align: right;\n",
              "    }\n",
              "</style>\n",
              "<table border=\"1\" class=\"dataframe\">\n",
              "  <thead>\n",
              "    <tr style=\"text-align: right;\">\n",
              "      <th></th>\n",
              "      <th>0</th>\n",
              "    </tr>\n",
              "  </thead>\n",
              "  <tbody>\n",
              "    <tr>\n",
              "      <th>0</th>\n",
              "      <td>0.485341</td>\n",
              "    </tr>\n",
              "    <tr>\n",
              "      <th>1</th>\n",
              "      <td>-0.082271</td>\n",
              "    </tr>\n",
              "    <tr>\n",
              "      <th>2</th>\n",
              "      <td>0.019836</td>\n",
              "    </tr>\n",
              "    <tr>\n",
              "      <th>3</th>\n",
              "      <td>0.139753</td>\n",
              "    </tr>\n",
              "    <tr>\n",
              "      <th>4</th>\n",
              "      <td>-0.177200</td>\n",
              "    </tr>\n",
              "    <tr>\n",
              "      <th>5</th>\n",
              "      <td>0.112720</td>\n",
              "    </tr>\n",
              "    <tr>\n",
              "      <th>6</th>\n",
              "      <td>0.084337</td>\n",
              "    </tr>\n",
              "    <tr>\n",
              "      <th>7</th>\n",
              "      <td>0.066829</td>\n",
              "    </tr>\n",
              "    <tr>\n",
              "      <th>8</th>\n",
              "      <td>0.092877</td>\n",
              "    </tr>\n",
              "    <tr>\n",
              "      <th>9</th>\n",
              "      <td>0.258463</td>\n",
              "    </tr>\n",
              "    <tr>\n",
              "      <th>10</th>\n",
              "      <td>-0.044874</td>\n",
              "    </tr>\n",
              "    <tr>\n",
              "      <th>11</th>\n",
              "      <td>0.178407</td>\n",
              "    </tr>\n",
              "    <tr>\n",
              "      <th>12</th>\n",
              "      <td>0.034079</td>\n",
              "    </tr>\n",
              "    <tr>\n",
              "      <th>13</th>\n",
              "      <td>0.016657</td>\n",
              "    </tr>\n",
              "    <tr>\n",
              "      <th>14</th>\n",
              "      <td>0.045533</td>\n",
              "    </tr>\n",
              "    <tr>\n",
              "      <th>15</th>\n",
              "      <td>0.020652</td>\n",
              "    </tr>\n",
              "    <tr>\n",
              "      <th>16</th>\n",
              "      <td>0.039791</td>\n",
              "    </tr>\n",
              "    <tr>\n",
              "      <th>17</th>\n",
              "      <td>0.121468</td>\n",
              "    </tr>\n",
              "    <tr>\n",
              "      <th>18</th>\n",
              "      <td>0.061857</td>\n",
              "    </tr>\n",
              "    <tr>\n",
              "      <th>19</th>\n",
              "      <td>0.080072</td>\n",
              "    </tr>\n",
              "  </tbody>\n",
              "</table>\n",
              "</div>"
            ],
            "text/plain": [
              "           0\n",
              "0   0.485341\n",
              "1  -0.082271\n",
              "2   0.019836\n",
              "3   0.139753\n",
              "4  -0.177200\n",
              "5   0.112720\n",
              "6   0.084337\n",
              "7   0.066829\n",
              "8   0.092877\n",
              "9   0.258463\n",
              "10 -0.044874\n",
              "11  0.178407\n",
              "12  0.034079\n",
              "13  0.016657\n",
              "14  0.045533\n",
              "15  0.020652\n",
              "16  0.039791\n",
              "17  0.121468\n",
              "18  0.061857\n",
              "19  0.080072"
            ]
          },
          "metadata": {
            "tags": []
          },
          "execution_count": 12
        }
      ]
    },
    {
      "cell_type": "code",
      "metadata": {
        "colab": {
          "base_uri": "https://localhost:8080/"
        },
        "id": "2d4JSUz-OfD3",
        "outputId": "1009d5ce-d975-4ae2-988f-d66f4fc157d9"
      },
      "source": [
        "top_values = pd.DataFrame(preference).nlargest(3, 0)\n",
        "top_indices = top_values.index\n",
        "list(top_indices)"
      ],
      "execution_count": null,
      "outputs": [
        {
          "output_type": "execute_result",
          "data": {
            "text/plain": [
              "[77, 0, 78]"
            ]
          },
          "metadata": {
            "tags": []
          },
          "execution_count": 13
        }
      ]
    },
    {
      "cell_type": "code",
      "metadata": {
        "colab": {
          "base_uri": "https://localhost:8080/",
          "height": 502
        },
        "id": "br_9gZ_8OiVr",
        "outputId": "f124daf5-9a09-481a-ebfb-bf57cf848257"
      },
      "source": [
        "df_items.iloc[list(top_indices)]"
      ],
      "execution_count": null,
      "outputs": [
        {
          "output_type": "execute_result",
          "data": {
            "text/html": [
              "<div>\n",
              "<style scoped>\n",
              "    .dataframe tbody tr th:only-of-type {\n",
              "        vertical-align: middle;\n",
              "    }\n",
              "\n",
              "    .dataframe tbody tr th {\n",
              "        vertical-align: top;\n",
              "    }\n",
              "\n",
              "    .dataframe thead th {\n",
              "        text-align: right;\n",
              "    }\n",
              "</style>\n",
              "<table border=\"1\" class=\"dataframe\">\n",
              "  <thead>\n",
              "    <tr style=\"text-align: right;\">\n",
              "      <th></th>\n",
              "      <th>Movie ID</th>\n",
              "      <th>Title</th>\n",
              "      <th>Factor1</th>\n",
              "      <th>Factor2</th>\n",
              "      <th>Factor3</th>\n",
              "      <th>Factor4</th>\n",
              "      <th>Factor5</th>\n",
              "      <th>Factor6</th>\n",
              "      <th>Factor7</th>\n",
              "      <th>Factor8</th>\n",
              "      <th>Factor9</th>\n",
              "      <th>Factor10</th>\n",
              "      <th>Factor11</th>\n",
              "      <th>Factor12</th>\n",
              "      <th>Factor13</th>\n",
              "      <th>Factor14</th>\n",
              "      <th>Factor15</th>\n",
              "    </tr>\n",
              "  </thead>\n",
              "  <tbody>\n",
              "    <tr>\n",
              "      <th>77</th>\n",
              "      <td>1891</td>\n",
              "      <td>Star Wars: Episode V - The Empire Strikes Back...</td>\n",
              "      <td>-1.732354</td>\n",
              "      <td>-1.031041</td>\n",
              "      <td>2.221631</td>\n",
              "      <td>0.310886</td>\n",
              "      <td>-0.900830</td>\n",
              "      <td>2.306469</td>\n",
              "      <td>-1.847214</td>\n",
              "      <td>0.231435</td>\n",
              "      <td>-0.096332</td>\n",
              "      <td>-0.673135</td>\n",
              "      <td>-1.010806</td>\n",
              "      <td>0.657123</td>\n",
              "      <td>0.141075</td>\n",
              "      <td>0.998841</td>\n",
              "      <td>-0.115583</td>\n",
              "    </tr>\n",
              "    <tr>\n",
              "      <th>0</th>\n",
              "      <td>11</td>\n",
              "      <td>Star Wars: Episode IV - A New Hope (1977)</td>\n",
              "      <td>-1.521848</td>\n",
              "      <td>-1.038507</td>\n",
              "      <td>2.027269</td>\n",
              "      <td>0.247933</td>\n",
              "      <td>-0.594548</td>\n",
              "      <td>2.513260</td>\n",
              "      <td>-1.848910</td>\n",
              "      <td>0.476710</td>\n",
              "      <td>-0.224146</td>\n",
              "      <td>-0.760681</td>\n",
              "      <td>-0.973915</td>\n",
              "      <td>0.862379</td>\n",
              "      <td>0.403861</td>\n",
              "      <td>1.129616</td>\n",
              "      <td>-0.248806</td>\n",
              "    </tr>\n",
              "    <tr>\n",
              "      <th>78</th>\n",
              "      <td>1892</td>\n",
              "      <td>Star Wars: Episode VI - Return of the Jedi (1983)</td>\n",
              "      <td>-1.353408</td>\n",
              "      <td>-0.965083</td>\n",
              "      <td>2.099767</td>\n",
              "      <td>0.143335</td>\n",
              "      <td>-0.538405</td>\n",
              "      <td>2.495382</td>\n",
              "      <td>-1.925854</td>\n",
              "      <td>0.264722</td>\n",
              "      <td>-0.467617</td>\n",
              "      <td>-0.553613</td>\n",
              "      <td>-0.912548</td>\n",
              "      <td>0.737907</td>\n",
              "      <td>0.302659</td>\n",
              "      <td>0.969395</td>\n",
              "      <td>-0.102475</td>\n",
              "    </tr>\n",
              "  </tbody>\n",
              "</table>\n",
              "</div>"
            ],
            "text/plain": [
              "    Movie ID  ...  Factor15\n",
              "77      1891  ... -0.115583\n",
              "0         11  ... -0.248806\n",
              "78      1892  ... -0.102475\n",
              "\n",
              "[3 rows x 17 columns]"
            ]
          },
          "metadata": {
            "tags": []
          },
          "execution_count": 14
        }
      ]
    },
    {
      "cell_type": "code",
      "metadata": {
        "id": "sAlj8Mk_OkDD"
      },
      "source": [
        ""
      ],
      "execution_count": null,
      "outputs": []
    },
    {
      "cell_type": "markdown",
      "metadata": {
        "id": "1eRMXUL5On91"
      },
      "source": [
        "Quiz"
      ]
    },
    {
      "cell_type": "code",
      "metadata": {
        "id": "pEI0kkUaOpCT",
        "colab": {
          "base_uri": "https://localhost:8080/"
        },
        "outputId": "09e336e5-5284-4a48-c767-75d9af1f3ae4"
      },
      "source": [
        "#Attempt 2\n",
        "\n",
        "#Question 5\n",
        "\n",
        "df_Fator = df_items[['Movie ID','Factor10']]\n",
        "\n",
        "value = df_Fator[df_Fator['Movie ID']==98]['Factor10'].values[0]\n",
        "\n",
        "round(value,3)\n"
      ],
      "execution_count": null,
      "outputs": [
        {
          "output_type": "execute_result",
          "data": {
            "text/plain": [
              "0.548"
            ]
          },
          "metadata": {
            "tags": []
          },
          "execution_count": 43
        }
      ]
    },
    {
      "cell_type": "code",
      "metadata": {
        "colab": {
          "base_uri": "https://localhost:8080/",
          "height": 419
        },
        "id": "GNGIKPBG9jPf",
        "outputId": "7cf4f075-8fb3-4b90-895e-dec99b6d2025"
      },
      "source": [
        "#Question 6\n",
        "\n",
        "df_factor2 = df_items[['Movie ID','Factor5']]\n",
        "df_factor2.sort_values('Factor5')\n"
      ],
      "execution_count": null,
      "outputs": [
        {
          "output_type": "execute_result",
          "data": {
            "text/html": [
              "<div>\n",
              "<style scoped>\n",
              "    .dataframe tbody tr th:only-of-type {\n",
              "        vertical-align: middle;\n",
              "    }\n",
              "\n",
              "    .dataframe tbody tr th {\n",
              "        vertical-align: top;\n",
              "    }\n",
              "\n",
              "    .dataframe thead th {\n",
              "        text-align: right;\n",
              "    }\n",
              "</style>\n",
              "<table border=\"1\" class=\"dataframe\">\n",
              "  <thead>\n",
              "    <tr style=\"text-align: right;\">\n",
              "      <th></th>\n",
              "      <th>Movie ID</th>\n",
              "      <th>Factor5</th>\n",
              "    </tr>\n",
              "  </thead>\n",
              "  <tbody>\n",
              "    <tr>\n",
              "      <th>95</th>\n",
              "      <td>9806</td>\n",
              "      <td>-1.952736</td>\n",
              "    </tr>\n",
              "    <tr>\n",
              "      <th>34</th>\n",
              "      <td>280</td>\n",
              "      <td>-1.730847</td>\n",
              "    </tr>\n",
              "    <tr>\n",
              "      <th>52</th>\n",
              "      <td>607</td>\n",
              "      <td>-1.715186</td>\n",
              "    </tr>\n",
              "    <tr>\n",
              "      <th>70</th>\n",
              "      <td>862</td>\n",
              "      <td>-1.691165</td>\n",
              "    </tr>\n",
              "    <tr>\n",
              "      <th>11</th>\n",
              "      <td>105</td>\n",
              "      <td>-1.625467</td>\n",
              "    </tr>\n",
              "    <tr>\n",
              "      <th>...</th>\n",
              "      <td>...</td>\n",
              "      <td>...</td>\n",
              "    </tr>\n",
              "    <tr>\n",
              "      <th>79</th>\n",
              "      <td>1894</td>\n",
              "      <td>1.544977</td>\n",
              "    </tr>\n",
              "    <tr>\n",
              "      <th>47</th>\n",
              "      <td>597</td>\n",
              "      <td>1.729541</td>\n",
              "    </tr>\n",
              "    <tr>\n",
              "      <th>14</th>\n",
              "      <td>120</td>\n",
              "      <td>2.677432</td>\n",
              "    </tr>\n",
              "    <tr>\n",
              "      <th>16</th>\n",
              "      <td>122</td>\n",
              "      <td>2.688624</td>\n",
              "    </tr>\n",
              "    <tr>\n",
              "      <th>15</th>\n",
              "      <td>121</td>\n",
              "      <td>2.750878</td>\n",
              "    </tr>\n",
              "  </tbody>\n",
              "</table>\n",
              "<p>100 rows × 2 columns</p>\n",
              "</div>"
            ],
            "text/plain": [
              "    Movie ID   Factor5\n",
              "95      9806 -1.952736\n",
              "34       280 -1.730847\n",
              "52       607 -1.715186\n",
              "70       862 -1.691165\n",
              "11       105 -1.625467\n",
              "..       ...       ...\n",
              "79      1894  1.544977\n",
              "47       597  1.729541\n",
              "14       120  2.677432\n",
              "16       122  2.688624\n",
              "15       121  2.750878\n",
              "\n",
              "[100 rows x 2 columns]"
            ]
          },
          "metadata": {
            "tags": []
          },
          "execution_count": 44
        }
      ]
    },
    {
      "cell_type": "code",
      "metadata": {
        "id": "RsVbaScN-IQ4"
      },
      "source": [
        "#Question 7 and 8\n",
        "\n",
        "num_factors = df_users.shape[1]-1\n",
        "user_pref = df_users[df_users['User'] == 5338].iloc[:, -num_factors:].values[0]\n",
        "item_feat = df_items.iloc[:, -num_factors:].values"
      ],
      "execution_count": null,
      "outputs": []
    },
    {
      "cell_type": "code",
      "metadata": {
        "colab": {
          "base_uri": "https://localhost:8080/"
        },
        "id": "QwME47qXMXuL",
        "outputId": "42a44acb-3257-4993-d0c7-b9e6bc4aa31a"
      },
      "source": [
        "df_items[df_items['Movie ID']==597].index.values[0]"
      ],
      "execution_count": null,
      "outputs": [
        {
          "output_type": "execute_result",
          "data": {
            "text/plain": [
              "47"
            ]
          },
          "metadata": {
            "tags": []
          },
          "execution_count": 29
        }
      ]
    },
    {
      "cell_type": "code",
      "metadata": {
        "id": "IY_aiOQSMkhr"
      },
      "source": [
        "#Question 9 \n",
        "num_factors = df_users.shape[1]-1\n",
        "user_pref = df_users[df_users['User'] == 4327].iloc[:, -num_factors:].values[0]\n",
        "item_feat = df_items.iloc[:, -num_factors:].values"
      ],
      "execution_count": null,
      "outputs": []
    },
    {
      "cell_type": "code",
      "metadata": {
        "id": "O30jItcoNg2q"
      },
      "source": [
        "preference = item_feat.dot(user_pref)"
      ],
      "execution_count": null,
      "outputs": []
    },
    {
      "cell_type": "code",
      "metadata": {
        "colab": {
          "base_uri": "https://localhost:8080/"
        },
        "id": "YzvBQ1I-NnzE",
        "outputId": "5bdca0dd-58c3-4ab5-f6b5-fb1fd1aa6b44"
      },
      "source": [
        "preference"
      ],
      "execution_count": null,
      "outputs": [
        {
          "output_type": "execute_result",
          "data": {
            "text/plain": [
              "array([-5.71044742e-01,  7.01410201e-01,  9.57223781e-01,  3.12991853e-01,\n",
              "       -3.62199616e-01, -1.38501942e-01,  3.40853715e-02, -1.76065210e-01,\n",
              "        1.66234548e-01,  3.77310348e-01,  1.91713972e-01,  8.04537525e-01,\n",
              "       -3.65379159e-01,  3.35828668e-01, -2.00020424e+00, -2.02421877e+00,\n",
              "       -2.00524752e+00, -2.51763523e-01, -3.38759507e-01, -1.95467263e-01,\n",
              "       -1.41032919e-01,  1.13379443e-01, -2.78711520e-01, -5.56532105e-02,\n",
              "       -4.48453901e-01,  1.83515362e-01, -6.58166090e-02,  6.12487111e-01,\n",
              "       -3.31922619e-01,  1.43369369e-02, -4.17054660e-02,  4.47399703e-01,\n",
              "        8.90492306e-02,  5.89218353e-01,  8.35849315e-01,  1.06756752e+00,\n",
              "       -2.60615270e-01, -5.55037299e-01,  4.74781078e-01,  2.98852362e-01,\n",
              "       -7.25142638e-02, -6.09319124e-02,  6.85373309e-01,  5.78546289e-01,\n",
              "        5.24647492e-02, -6.46812336e-02,  3.65719908e-01,  1.38604222e+00,\n",
              "        8.48231867e-01,  4.40910187e-01,  4.06526293e-01, -3.42702729e-01,\n",
              "        5.76931857e-01,  5.66440425e-02,  1.37065102e-01, -2.01668779e-01,\n",
              "       -5.09991210e-01, -7.99494385e-02, -2.42364298e-01,  1.84284344e-01,\n",
              "        4.65488213e-01, -5.03775296e-01, -2.89951830e-01,  1.07431793e-01,\n",
              "       -4.63381383e-02,  3.27845441e-01,  4.02754732e-02,  1.25917976e-01,\n",
              "        7.59925021e-01,  3.53294052e-01,  8.94748469e-01,  4.13949492e-02,\n",
              "       -2.56946899e-01,  9.93098428e-02, -1.31207758e-02, -1.89953525e-01,\n",
              "        1.71300198e-01, -5.46254190e-01, -6.74848802e-01, -1.13050338e+00,\n",
              "       -2.87365116e-01, -3.82255779e-01, -4.44067064e-01, -2.20552450e-01,\n",
              "       -3.33236959e-01,  2.67519158e-01, -5.77178767e-01,  6.01611942e-02,\n",
              "       -3.19132946e-01,  1.54857510e-01, -1.79281239e-02,  6.00379880e-01,\n",
              "       -3.20714252e-01, -2.71057295e-01, -3.80380291e-01,  5.68636307e-01,\n",
              "        2.28117083e-01, -7.10246834e-02, -1.33544450e-01, -3.80225137e-04])"
            ]
          },
          "metadata": {
            "tags": []
          },
          "execution_count": 59
        }
      ]
    },
    {
      "cell_type": "code",
      "metadata": {
        "colab": {
          "base_uri": "https://localhost:8080/",
          "height": 669
        },
        "id": "cx0ULlg7Np4N",
        "outputId": "230d86b3-92ac-4546-de03-1d63b4315d22"
      },
      "source": [
        "pd.DataFrame(preference).head(20)\n"
      ],
      "execution_count": null,
      "outputs": [
        {
          "output_type": "execute_result",
          "data": {
            "text/html": [
              "<div>\n",
              "<style scoped>\n",
              "    .dataframe tbody tr th:only-of-type {\n",
              "        vertical-align: middle;\n",
              "    }\n",
              "\n",
              "    .dataframe tbody tr th {\n",
              "        vertical-align: top;\n",
              "    }\n",
              "\n",
              "    .dataframe thead th {\n",
              "        text-align: right;\n",
              "    }\n",
              "</style>\n",
              "<table border=\"1\" class=\"dataframe\">\n",
              "  <thead>\n",
              "    <tr style=\"text-align: right;\">\n",
              "      <th></th>\n",
              "      <th>0</th>\n",
              "    </tr>\n",
              "  </thead>\n",
              "  <tbody>\n",
              "    <tr>\n",
              "      <th>0</th>\n",
              "      <td>-0.571045</td>\n",
              "    </tr>\n",
              "    <tr>\n",
              "      <th>1</th>\n",
              "      <td>0.701410</td>\n",
              "    </tr>\n",
              "    <tr>\n",
              "      <th>2</th>\n",
              "      <td>0.957224</td>\n",
              "    </tr>\n",
              "    <tr>\n",
              "      <th>3</th>\n",
              "      <td>0.312992</td>\n",
              "    </tr>\n",
              "    <tr>\n",
              "      <th>4</th>\n",
              "      <td>-0.362200</td>\n",
              "    </tr>\n",
              "    <tr>\n",
              "      <th>5</th>\n",
              "      <td>-0.138502</td>\n",
              "    </tr>\n",
              "    <tr>\n",
              "      <th>6</th>\n",
              "      <td>0.034085</td>\n",
              "    </tr>\n",
              "    <tr>\n",
              "      <th>7</th>\n",
              "      <td>-0.176065</td>\n",
              "    </tr>\n",
              "    <tr>\n",
              "      <th>8</th>\n",
              "      <td>0.166235</td>\n",
              "    </tr>\n",
              "    <tr>\n",
              "      <th>9</th>\n",
              "      <td>0.377310</td>\n",
              "    </tr>\n",
              "    <tr>\n",
              "      <th>10</th>\n",
              "      <td>0.191714</td>\n",
              "    </tr>\n",
              "    <tr>\n",
              "      <th>11</th>\n",
              "      <td>0.804538</td>\n",
              "    </tr>\n",
              "    <tr>\n",
              "      <th>12</th>\n",
              "      <td>-0.365379</td>\n",
              "    </tr>\n",
              "    <tr>\n",
              "      <th>13</th>\n",
              "      <td>0.335829</td>\n",
              "    </tr>\n",
              "    <tr>\n",
              "      <th>14</th>\n",
              "      <td>-2.000204</td>\n",
              "    </tr>\n",
              "    <tr>\n",
              "      <th>15</th>\n",
              "      <td>-2.024219</td>\n",
              "    </tr>\n",
              "    <tr>\n",
              "      <th>16</th>\n",
              "      <td>-2.005248</td>\n",
              "    </tr>\n",
              "    <tr>\n",
              "      <th>17</th>\n",
              "      <td>-0.251764</td>\n",
              "    </tr>\n",
              "    <tr>\n",
              "      <th>18</th>\n",
              "      <td>-0.338760</td>\n",
              "    </tr>\n",
              "    <tr>\n",
              "      <th>19</th>\n",
              "      <td>-0.195467</td>\n",
              "    </tr>\n",
              "  </tbody>\n",
              "</table>\n",
              "</div>"
            ],
            "text/plain": [
              "           0\n",
              "0  -0.571045\n",
              "1   0.701410\n",
              "2   0.957224\n",
              "3   0.312992\n",
              "4  -0.362200\n",
              "5  -0.138502\n",
              "6   0.034085\n",
              "7  -0.176065\n",
              "8   0.166235\n",
              "9   0.377310\n",
              "10  0.191714\n",
              "11  0.804538\n",
              "12 -0.365379\n",
              "13  0.335829\n",
              "14 -2.000204\n",
              "15 -2.024219\n",
              "16 -2.005248\n",
              "17 -0.251764\n",
              "18 -0.338760\n",
              "19 -0.195467"
            ]
          },
          "metadata": {
            "tags": []
          },
          "execution_count": 60
        }
      ]
    },
    {
      "cell_type": "code",
      "metadata": {
        "colab": {
          "base_uri": "https://localhost:8080/"
        },
        "id": "l2Zd_04tNsum",
        "outputId": "e8390430-e2fc-4e22-9e51-287ce99dd583"
      },
      "source": [
        "top_values = pd.DataFrame(preference).nlargest(3, 0)\n",
        "top_indices = top_values.index\n",
        "list(top_indices)"
      ],
      "execution_count": null,
      "outputs": [
        {
          "output_type": "execute_result",
          "data": {
            "text/plain": [
              "[47, 35, 2]"
            ]
          },
          "metadata": {
            "tags": []
          },
          "execution_count": 61
        }
      ]
    },
    {
      "cell_type": "code",
      "metadata": {
        "colab": {
          "base_uri": "https://localhost:8080/",
          "height": 264
        },
        "id": "PQKjJ2HLNwUX",
        "outputId": "fdeb712d-e13f-461c-b788-9349e1150651"
      },
      "source": [
        "df_items.iloc[list(top_indices)]"
      ],
      "execution_count": null,
      "outputs": [
        {
          "output_type": "execute_result",
          "data": {
            "text/html": [
              "<div>\n",
              "<style scoped>\n",
              "    .dataframe tbody tr th:only-of-type {\n",
              "        vertical-align: middle;\n",
              "    }\n",
              "\n",
              "    .dataframe tbody tr th {\n",
              "        vertical-align: top;\n",
              "    }\n",
              "\n",
              "    .dataframe thead th {\n",
              "        text-align: right;\n",
              "    }\n",
              "</style>\n",
              "<table border=\"1\" class=\"dataframe\">\n",
              "  <thead>\n",
              "    <tr style=\"text-align: right;\">\n",
              "      <th></th>\n",
              "      <th>Movie ID</th>\n",
              "      <th>Title</th>\n",
              "      <th>Factor1</th>\n",
              "      <th>Factor2</th>\n",
              "      <th>Factor3</th>\n",
              "      <th>Factor4</th>\n",
              "      <th>Factor5</th>\n",
              "      <th>Factor6</th>\n",
              "      <th>Factor7</th>\n",
              "      <th>Factor8</th>\n",
              "      <th>Factor9</th>\n",
              "      <th>Factor10</th>\n",
              "      <th>Factor11</th>\n",
              "      <th>Factor12</th>\n",
              "      <th>Factor13</th>\n",
              "      <th>Factor14</th>\n",
              "      <th>Factor15</th>\n",
              "    </tr>\n",
              "  </thead>\n",
              "  <tbody>\n",
              "    <tr>\n",
              "      <th>47</th>\n",
              "      <td>597</td>\n",
              "      <td>Titanic (1997)</td>\n",
              "      <td>1.567865</td>\n",
              "      <td>-1.516952</td>\n",
              "      <td>-2.523378</td>\n",
              "      <td>1.204485</td>\n",
              "      <td>1.729541</td>\n",
              "      <td>-0.088941</td>\n",
              "      <td>0.102822</td>\n",
              "      <td>1.747792</td>\n",
              "      <td>1.816958</td>\n",
              "      <td>-2.986807</td>\n",
              "      <td>-0.589441</td>\n",
              "      <td>-2.568582</td>\n",
              "      <td>0.370387</td>\n",
              "      <td>2.215933</td>\n",
              "      <td>0.456127</td>\n",
              "    </tr>\n",
              "    <tr>\n",
              "      <th>35</th>\n",
              "      <td>329</td>\n",
              "      <td>Jurassic Park (1993)</td>\n",
              "      <td>-0.104238</td>\n",
              "      <td>-1.105404</td>\n",
              "      <td>-0.497630</td>\n",
              "      <td>0.459678</td>\n",
              "      <td>-1.146451</td>\n",
              "      <td>0.842279</td>\n",
              "      <td>0.224978</td>\n",
              "      <td>0.541354</td>\n",
              "      <td>1.570226</td>\n",
              "      <td>-0.633001</td>\n",
              "      <td>1.053255</td>\n",
              "      <td>-0.526942</td>\n",
              "      <td>0.082476</td>\n",
              "      <td>-0.005909</td>\n",
              "      <td>1.466918</td>\n",
              "    </tr>\n",
              "    <tr>\n",
              "      <th>2</th>\n",
              "      <td>13</td>\n",
              "      <td>Forrest Gump (1994)</td>\n",
              "      <td>-2.240888</td>\n",
              "      <td>-0.438815</td>\n",
              "      <td>-2.275177</td>\n",
              "      <td>0.614548</td>\n",
              "      <td>0.904469</td>\n",
              "      <td>0.711919</td>\n",
              "      <td>-0.420876</td>\n",
              "      <td>1.302036</td>\n",
              "      <td>-0.868418</td>\n",
              "      <td>-0.160122</td>\n",
              "      <td>0.633667</td>\n",
              "      <td>0.133138</td>\n",
              "      <td>-0.330276</td>\n",
              "      <td>-2.209004</td>\n",
              "      <td>-0.419092</td>\n",
              "    </tr>\n",
              "  </tbody>\n",
              "</table>\n",
              "</div>"
            ],
            "text/plain": [
              "    Movie ID                 Title   Factor1  ...  Factor13  Factor14  Factor15\n",
              "47       597        Titanic (1997)  1.567865  ...  0.370387  2.215933  0.456127\n",
              "35       329  Jurassic Park (1993) -0.104238  ...  0.082476 -0.005909  1.466918\n",
              "2         13   Forrest Gump (1994) -2.240888  ... -0.330276 -2.209004 -0.419092\n",
              "\n",
              "[3 rows x 17 columns]"
            ]
          },
          "metadata": {
            "tags": []
          },
          "execution_count": 62
        }
      ]
    },
    {
      "cell_type": "code",
      "metadata": {
        "id": "Q1vG9CA-N1G_"
      },
      "source": [
        "#Question 10\n",
        "num_factors = df_users.shape[1]-1\n",
        "user_pref = df_users[df_users['User'] == 4327].iloc[:, -num_factors:].values[0]\n",
        "item_feat = df_items.iloc[:, -num_factors:].values"
      ],
      "execution_count": null,
      "outputs": []
    },
    {
      "cell_type": "code",
      "metadata": {
        "id": "D2Oj4qleRLrR"
      },
      "source": [
        "preference = item_feat.dot(user_pref)"
      ],
      "execution_count": null,
      "outputs": []
    },
    {
      "cell_type": "code",
      "metadata": {
        "colab": {
          "base_uri": "https://localhost:8080/"
        },
        "id": "tR4_UqOXROd6",
        "outputId": "ff857048-4ef0-44c1-c67f-2f58b098995d"
      },
      "source": [
        "preference"
      ],
      "execution_count": null,
      "outputs": [
        {
          "output_type": "execute_result",
          "data": {
            "text/plain": [
              "array([-5.71044742e-01,  7.01410201e-01,  9.57223781e-01,  3.12991853e-01,\n",
              "       -3.62199616e-01, -1.38501942e-01,  3.40853715e-02, -1.76065210e-01,\n",
              "        1.66234548e-01,  3.77310348e-01,  1.91713972e-01,  8.04537525e-01,\n",
              "       -3.65379159e-01,  3.35828668e-01, -2.00020424e+00, -2.02421877e+00,\n",
              "       -2.00524752e+00, -2.51763523e-01, -3.38759507e-01, -1.95467263e-01,\n",
              "       -1.41032919e-01,  1.13379443e-01, -2.78711520e-01, -5.56532105e-02,\n",
              "       -4.48453901e-01,  1.83515362e-01, -6.58166090e-02,  6.12487111e-01,\n",
              "       -3.31922619e-01,  1.43369369e-02, -4.17054660e-02,  4.47399703e-01,\n",
              "        8.90492306e-02,  5.89218353e-01,  8.35849315e-01,  1.06756752e+00,\n",
              "       -2.60615270e-01, -5.55037299e-01,  4.74781078e-01,  2.98852362e-01,\n",
              "       -7.25142638e-02, -6.09319124e-02,  6.85373309e-01,  5.78546289e-01,\n",
              "        5.24647492e-02, -6.46812336e-02,  3.65719908e-01,  1.38604222e+00,\n",
              "        8.48231867e-01,  4.40910187e-01,  4.06526293e-01, -3.42702729e-01,\n",
              "        5.76931857e-01,  5.66440425e-02,  1.37065102e-01, -2.01668779e-01,\n",
              "       -5.09991210e-01, -7.99494385e-02, -2.42364298e-01,  1.84284344e-01,\n",
              "        4.65488213e-01, -5.03775296e-01, -2.89951830e-01,  1.07431793e-01,\n",
              "       -4.63381383e-02,  3.27845441e-01,  4.02754732e-02,  1.25917976e-01,\n",
              "        7.59925021e-01,  3.53294052e-01,  8.94748469e-01,  4.13949492e-02,\n",
              "       -2.56946899e-01,  9.93098428e-02, -1.31207758e-02, -1.89953525e-01,\n",
              "        1.71300198e-01, -5.46254190e-01, -6.74848802e-01, -1.13050338e+00,\n",
              "       -2.87365116e-01, -3.82255779e-01, -4.44067064e-01, -2.20552450e-01,\n",
              "       -3.33236959e-01,  2.67519158e-01, -5.77178767e-01,  6.01611942e-02,\n",
              "       -3.19132946e-01,  1.54857510e-01, -1.79281239e-02,  6.00379880e-01,\n",
              "       -3.20714252e-01, -2.71057295e-01, -3.80380291e-01,  5.68636307e-01,\n",
              "        2.28117083e-01, -7.10246834e-02, -1.33544450e-01, -3.80225137e-04])"
            ]
          },
          "metadata": {
            "tags": []
          },
          "execution_count": 65
        }
      ]
    },
    {
      "cell_type": "code",
      "metadata": {
        "colab": {
          "base_uri": "https://localhost:8080/",
          "height": 669
        },
        "id": "QjyLWgnoRQHs",
        "outputId": "b999b435-05b9-4483-c0f0-c4b25be5f9a3"
      },
      "source": [
        "pd.DataFrame(preference).head(20)\n"
      ],
      "execution_count": null,
      "outputs": [
        {
          "output_type": "execute_result",
          "data": {
            "text/html": [
              "<div>\n",
              "<style scoped>\n",
              "    .dataframe tbody tr th:only-of-type {\n",
              "        vertical-align: middle;\n",
              "    }\n",
              "\n",
              "    .dataframe tbody tr th {\n",
              "        vertical-align: top;\n",
              "    }\n",
              "\n",
              "    .dataframe thead th {\n",
              "        text-align: right;\n",
              "    }\n",
              "</style>\n",
              "<table border=\"1\" class=\"dataframe\">\n",
              "  <thead>\n",
              "    <tr style=\"text-align: right;\">\n",
              "      <th></th>\n",
              "      <th>0</th>\n",
              "    </tr>\n",
              "  </thead>\n",
              "  <tbody>\n",
              "    <tr>\n",
              "      <th>0</th>\n",
              "      <td>-0.571045</td>\n",
              "    </tr>\n",
              "    <tr>\n",
              "      <th>1</th>\n",
              "      <td>0.701410</td>\n",
              "    </tr>\n",
              "    <tr>\n",
              "      <th>2</th>\n",
              "      <td>0.957224</td>\n",
              "    </tr>\n",
              "    <tr>\n",
              "      <th>3</th>\n",
              "      <td>0.312992</td>\n",
              "    </tr>\n",
              "    <tr>\n",
              "      <th>4</th>\n",
              "      <td>-0.362200</td>\n",
              "    </tr>\n",
              "    <tr>\n",
              "      <th>5</th>\n",
              "      <td>-0.138502</td>\n",
              "    </tr>\n",
              "    <tr>\n",
              "      <th>6</th>\n",
              "      <td>0.034085</td>\n",
              "    </tr>\n",
              "    <tr>\n",
              "      <th>7</th>\n",
              "      <td>-0.176065</td>\n",
              "    </tr>\n",
              "    <tr>\n",
              "      <th>8</th>\n",
              "      <td>0.166235</td>\n",
              "    </tr>\n",
              "    <tr>\n",
              "      <th>9</th>\n",
              "      <td>0.377310</td>\n",
              "    </tr>\n",
              "    <tr>\n",
              "      <th>10</th>\n",
              "      <td>0.191714</td>\n",
              "    </tr>\n",
              "    <tr>\n",
              "      <th>11</th>\n",
              "      <td>0.804538</td>\n",
              "    </tr>\n",
              "    <tr>\n",
              "      <th>12</th>\n",
              "      <td>-0.365379</td>\n",
              "    </tr>\n",
              "    <tr>\n",
              "      <th>13</th>\n",
              "      <td>0.335829</td>\n",
              "    </tr>\n",
              "    <tr>\n",
              "      <th>14</th>\n",
              "      <td>-2.000204</td>\n",
              "    </tr>\n",
              "    <tr>\n",
              "      <th>15</th>\n",
              "      <td>-2.024219</td>\n",
              "    </tr>\n",
              "    <tr>\n",
              "      <th>16</th>\n",
              "      <td>-2.005248</td>\n",
              "    </tr>\n",
              "    <tr>\n",
              "      <th>17</th>\n",
              "      <td>-0.251764</td>\n",
              "    </tr>\n",
              "    <tr>\n",
              "      <th>18</th>\n",
              "      <td>-0.338760</td>\n",
              "    </tr>\n",
              "    <tr>\n",
              "      <th>19</th>\n",
              "      <td>-0.195467</td>\n",
              "    </tr>\n",
              "  </tbody>\n",
              "</table>\n",
              "</div>"
            ],
            "text/plain": [
              "           0\n",
              "0  -0.571045\n",
              "1   0.701410\n",
              "2   0.957224\n",
              "3   0.312992\n",
              "4  -0.362200\n",
              "5  -0.138502\n",
              "6   0.034085\n",
              "7  -0.176065\n",
              "8   0.166235\n",
              "9   0.377310\n",
              "10  0.191714\n",
              "11  0.804538\n",
              "12 -0.365379\n",
              "13  0.335829\n",
              "14 -2.000204\n",
              "15 -2.024219\n",
              "16 -2.005248\n",
              "17 -0.251764\n",
              "18 -0.338760\n",
              "19 -0.195467"
            ]
          },
          "metadata": {
            "tags": []
          },
          "execution_count": 66
        }
      ]
    },
    {
      "cell_type": "code",
      "metadata": {
        "colab": {
          "base_uri": "https://localhost:8080/"
        },
        "id": "9xQWzjRbRRzq",
        "outputId": "892531eb-f5fd-42ca-a9b7-546dcfac1f18"
      },
      "source": [
        "top_values = pd.DataFrame(preference).nlargest(2, 0)\n",
        "top_indices = top_values.index\n",
        "list(top_indices)"
      ],
      "execution_count": null,
      "outputs": [
        {
          "output_type": "execute_result",
          "data": {
            "text/plain": [
              "[47, 35]"
            ]
          },
          "metadata": {
            "tags": []
          },
          "execution_count": 67
        }
      ]
    },
    {
      "cell_type": "code",
      "metadata": {
        "colab": {
          "base_uri": "https://localhost:8080/",
          "height": 199
        },
        "id": "9AzjD0fxRVVC",
        "outputId": "b50027b7-94a3-4184-c4c4-eef33ab50987"
      },
      "source": [
        "df_items.iloc[list(top_indices)]"
      ],
      "execution_count": null,
      "outputs": [
        {
          "output_type": "execute_result",
          "data": {
            "text/html": [
              "<div>\n",
              "<style scoped>\n",
              "    .dataframe tbody tr th:only-of-type {\n",
              "        vertical-align: middle;\n",
              "    }\n",
              "\n",
              "    .dataframe tbody tr th {\n",
              "        vertical-align: top;\n",
              "    }\n",
              "\n",
              "    .dataframe thead th {\n",
              "        text-align: right;\n",
              "    }\n",
              "</style>\n",
              "<table border=\"1\" class=\"dataframe\">\n",
              "  <thead>\n",
              "    <tr style=\"text-align: right;\">\n",
              "      <th></th>\n",
              "      <th>Movie ID</th>\n",
              "      <th>Title</th>\n",
              "      <th>Factor1</th>\n",
              "      <th>Factor2</th>\n",
              "      <th>Factor3</th>\n",
              "      <th>Factor4</th>\n",
              "      <th>Factor5</th>\n",
              "      <th>Factor6</th>\n",
              "      <th>Factor7</th>\n",
              "      <th>Factor8</th>\n",
              "      <th>Factor9</th>\n",
              "      <th>Factor10</th>\n",
              "      <th>Factor11</th>\n",
              "      <th>Factor12</th>\n",
              "      <th>Factor13</th>\n",
              "      <th>Factor14</th>\n",
              "      <th>Factor15</th>\n",
              "    </tr>\n",
              "  </thead>\n",
              "  <tbody>\n",
              "    <tr>\n",
              "      <th>47</th>\n",
              "      <td>597</td>\n",
              "      <td>Titanic (1997)</td>\n",
              "      <td>1.567865</td>\n",
              "      <td>-1.516952</td>\n",
              "      <td>-2.523378</td>\n",
              "      <td>1.204485</td>\n",
              "      <td>1.729541</td>\n",
              "      <td>-0.088941</td>\n",
              "      <td>0.102822</td>\n",
              "      <td>1.747792</td>\n",
              "      <td>1.816958</td>\n",
              "      <td>-2.986807</td>\n",
              "      <td>-0.589441</td>\n",
              "      <td>-2.568582</td>\n",
              "      <td>0.370387</td>\n",
              "      <td>2.215933</td>\n",
              "      <td>0.456127</td>\n",
              "    </tr>\n",
              "    <tr>\n",
              "      <th>35</th>\n",
              "      <td>329</td>\n",
              "      <td>Jurassic Park (1993)</td>\n",
              "      <td>-0.104238</td>\n",
              "      <td>-1.105404</td>\n",
              "      <td>-0.497630</td>\n",
              "      <td>0.459678</td>\n",
              "      <td>-1.146451</td>\n",
              "      <td>0.842279</td>\n",
              "      <td>0.224978</td>\n",
              "      <td>0.541354</td>\n",
              "      <td>1.570226</td>\n",
              "      <td>-0.633001</td>\n",
              "      <td>1.053255</td>\n",
              "      <td>-0.526942</td>\n",
              "      <td>0.082476</td>\n",
              "      <td>-0.005909</td>\n",
              "      <td>1.466918</td>\n",
              "    </tr>\n",
              "  </tbody>\n",
              "</table>\n",
              "</div>"
            ],
            "text/plain": [
              "    Movie ID                 Title   Factor1  ...  Factor13  Factor14  Factor15\n",
              "47       597        Titanic (1997)  1.567865  ...  0.370387  2.215933  0.456127\n",
              "35       329  Jurassic Park (1993) -0.104238  ...  0.082476 -0.005909  1.466918\n",
              "\n",
              "[2 rows x 17 columns]"
            ]
          },
          "metadata": {
            "tags": []
          },
          "execution_count": 68
        }
      ]
    },
    {
      "cell_type": "code",
      "metadata": {
        "id": "ihjShPY8RYsW"
      },
      "source": [
        "#Question 7\n",
        "\n",
        "num_factors = df_users.shape[1]-1\n",
        "user_pref = df_users[df_users['User'] == 4997].iloc[:, -num_factors:].values[0]\n",
        "item_feat = df_items.iloc[:, -num_factors:].values"
      ],
      "execution_count": null,
      "outputs": []
    },
    {
      "cell_type": "code",
      "metadata": {
        "colab": {
          "base_uri": "https://localhost:8080/"
        },
        "id": "qW_noQDnSBHZ",
        "outputId": "e33ede8c-7fc5-46ab-a77d-7bab8318c10d"
      },
      "source": [
        "df_items[df_items['Movie ID']==2164].index.values[0]\n"
      ],
      "execution_count": null,
      "outputs": [
        {
          "output_type": "execute_result",
          "data": {
            "text/plain": [
              "82"
            ]
          },
          "metadata": {
            "tags": []
          },
          "execution_count": 73
        }
      ]
    },
    {
      "cell_type": "code",
      "metadata": {
        "id": "GpdwuKVGSI68"
      },
      "source": [
        "preference = item_feat.dot(user_pref)"
      ],
      "execution_count": null,
      "outputs": []
    },
    {
      "cell_type": "code",
      "metadata": {
        "colab": {
          "base_uri": "https://localhost:8080/"
        },
        "id": "hXF9Fdv9SPNT",
        "outputId": "4d39d9e8-a8fd-4821-a174-a620b5006a85"
      },
      "source": [
        "round(preference[82],2)"
      ],
      "execution_count": null,
      "outputs": [
        {
          "output_type": "execute_result",
          "data": {
            "text/plain": [
              "-0.87"
            ]
          },
          "metadata": {
            "tags": []
          },
          "execution_count": 77
        }
      ]
    },
    {
      "cell_type": "code",
      "metadata": {
        "id": "oe-xuk6vSU3s"
      },
      "source": [
        "#Question 8\n",
        "\n",
        "num_factors = df_users.shape[1]-1\n",
        "user_pref = df_users[df_users['User'] == 525].iloc[:, -num_factors:].values[0]\n",
        "item_feat = df_items.iloc[:, -num_factors:].values"
      ],
      "execution_count": null,
      "outputs": []
    },
    {
      "cell_type": "code",
      "metadata": {
        "id": "tHZNRfHESo6K",
        "colab": {
          "base_uri": "https://localhost:8080/"
        },
        "outputId": "27236f57-9e4c-4b18-9f2c-84548c9c3fc6"
      },
      "source": [
        "df_items[df_items['Movie ID']==278].index.values[0]\n"
      ],
      "execution_count": null,
      "outputs": [
        {
          "output_type": "execute_result",
          "data": {
            "text/plain": [
              "33"
            ]
          },
          "metadata": {
            "tags": []
          },
          "execution_count": 79
        }
      ]
    },
    {
      "cell_type": "code",
      "metadata": {
        "id": "KV6pWGjXSraH"
      },
      "source": [
        "preference = item_feat.dot(user_pref)"
      ],
      "execution_count": null,
      "outputs": []
    },
    {
      "cell_type": "code",
      "metadata": {
        "id": "9SOZ2mrLSs1E",
        "colab": {
          "base_uri": "https://localhost:8080/"
        },
        "outputId": "ee1deee4-c728-422f-cca7-e5c5b8115ec0"
      },
      "source": [
        "round(preference[33],2)"
      ],
      "execution_count": null,
      "outputs": [
        {
          "output_type": "execute_result",
          "data": {
            "text/plain": [
              "0.24"
            ]
          },
          "metadata": {
            "tags": []
          },
          "execution_count": 81
        }
      ]
    },
    {
      "cell_type": "code",
      "metadata": {
        "id": "qUabwlDgSvED"
      },
      "source": [
        ""
      ],
      "execution_count": null,
      "outputs": []
    }
  ]
}