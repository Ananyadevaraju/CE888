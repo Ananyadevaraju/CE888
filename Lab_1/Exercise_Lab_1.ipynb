{
  "nbformat": 4,
  "nbformat_minor": 0,
  "metadata": {
    "colab": {
      "name": "Exercise Lab_1.ipynb",
      "provenance": [],
      "collapsed_sections": [],
      "include_colab_link": true
    },
    "kernelspec": {
      "name": "python3",
      "display_name": "Python 3"
    }
  },
  "cells": [
    {
      "cell_type": "markdown",
      "metadata": {
        "id": "view-in-github",
        "colab_type": "text"
      },
      "source": [
        "<a href=\"https://colab.research.google.com/github/Ananyadevaraju/CE888/blob/main/Exercise_Lab_1.ipynb\" target=\"_parent\"><img src=\"https://colab.research.google.com/assets/colab-badge.svg\" alt=\"Open In Colab\"/></a>"
      ]
    },
    {
      "cell_type": "markdown",
      "metadata": {
        "id": "6X-TO_KR1mjo"
      },
      "source": [
        "## Questions to be done during the lab:\n",
        "\n",
        "**Questions 1.** \n",
        "Write a function name 'avg', which take an array of number and calculate the average\n",
        "\n",
        "\n"
      ]
    },
    {
      "cell_type": "code",
      "metadata": {
        "id": "vbu3Vga33lw3"
      },
      "source": [
        "from statistics import mean  #importing mean from statistics package\n",
        "import numpy as np           #import numpy package\n",
        "def avg(marks):\n",
        "    # YOUR CODE HERE\n",
        "    average = mean(marks)\n",
        "\n",
        "    return average\n",
        "\n",
        "mark2 = [55,88,78,90,79]"
      ],
      "execution_count": 117,
      "outputs": []
    },
    {
      "cell_type": "code",
      "metadata": {
        "id": "MtgR1Y695RpD"
      },
      "source": [
        "# Only run this cell to check your answer. If it is true then no error will be raised\n",
        "assert(avg(mark2) == np.mean(mark2))"
      ],
      "execution_count": 118,
      "outputs": []
    },
    {
      "cell_type": "markdown",
      "metadata": {
        "id": "W1hVtS896cfi"
      },
      "source": [
        "**Questions 2**.\n",
        "Write a function name 'areaCricle', which take radius as a argument and calculate the area. \n",
        "\n"
      ]
    },
    {
      "cell_type": "code",
      "metadata": {
        "id": "Fn7_nt8-vUao",
        "colab": {
          "base_uri": "https://localhost:8080/"
        },
        "outputId": "a155db2d-1543-4823-dded-2933aca842ed"
      },
      "source": [
        "from math import pi        # importing pi from math package\n",
        "def areaCricle(radius):\n",
        "    # YOUR CODE HERE\n",
        "    area = pi*radius**2    #calculating area using the area of a circle formula\n",
        "    return area\n",
        "\n",
        "areaCricle(10)"
      ],
      "execution_count": 119,
      "outputs": [
        {
          "output_type": "execute_result",
          "data": {
            "text/plain": [
              "314.1592653589793"
            ]
          },
          "metadata": {
            "tags": []
          },
          "execution_count": 119
        }
      ]
    },
    {
      "cell_type": "code",
      "metadata": {
        "id": "BML90x25vikN"
      },
      "source": [
        "# Only run this cell to check your answer. If it is true then no error will be raised\n",
        "assert(round(areaCricle(10),2) == 314.16)"
      ],
      "execution_count": 120,
      "outputs": []
    },
    {
      "cell_type": "markdown",
      "metadata": {
        "id": "_EfKc7-3x2k8"
      },
      "source": [
        "**Question 3.**\n",
        "Write a function that takes a list of items and returns a new list with the order of items reversed, without using any inbuilt Python features that will do this for you (e.g. .reverse() or reversed(…)). As specified in the instructions, your function must not modify the contents of the original list."
      ]
    },
    {
      "cell_type": "code",
      "metadata": {
        "id": "rEtOO9yPyKwe"
      },
      "source": [
        "list2 = []\n",
        "def reversed_list(in_list):\n",
        "    # YOUR CODE HERE\n",
        "    list1 = in_list\n",
        "    x = -1 \n",
        "    for i in range(len(list1)):\n",
        "      last = list1[x]      #getting the last item in list1\n",
        "      list2.append(last)   #appending the last item in list1 to an empty list\n",
        "      x -= 1               #decrementing to get the last but one item (and so on)\n",
        "\n",
        "    return list2\n",
        "\n",
        "    # raise NotImplementedError()"
      ],
      "execution_count": 121,
      "outputs": []
    },
    {
      "cell_type": "code",
      "metadata": {
        "id": "bVyMOVMLyRib"
      },
      "source": [
        "# Only run this cell to check your answer. If it is true then no error will be raised\n",
        "assert(reversed_list([1, 2]) == [2, 1])"
      ],
      "execution_count": 122,
      "outputs": []
    },
    {
      "cell_type": "markdown",
      "metadata": {
        "id": "DFQPTbd90pPN"
      },
      "source": [
        "**Question 4.** \n",
        "\n",
        "*Read carefully: *Write a function to perform a Bubble Sort on a list of numbers. \n",
        "\n",
        "Bubble sort is a sorting algorithm and works by iterating over the list, comparing adjacent items, and swapping them if they are out of order.\n",
        "\n",
        "Notice that after the first pass of a bubble sort, the biggest item is always moved to the end of the list. This means the next iteration does not need to check the final position of the list.\n",
        "\n",
        "In addition, you can keep track of how many items were swapped on each iteration. If this count is zero on any iteration, then the list must be fully sorted, in which case the algorithm can stop early.\n",
        "\n",
        "Hint: To understand Bubble Sort Algorithm, please [Watch](https://www.youtube.com/watch?v=xli_FI7CuzA)"
      ]
    },
    {
      "cell_type": "code",
      "metadata": {
        "id": "sGkDiI3b1DpQ"
      },
      "source": [
        "def bubble_sort(in_list):\n",
        "  # YOUR CODE HERE\n",
        "  list1 = in_list\n",
        "  count = 0\n",
        "  temp = 0\n",
        "  for i in range(len(list1)):\n",
        "    for j in range(len(list1)-1):  #index 0 to (n-1)\n",
        "      if list1[j] > list1[j+1]:    #comparing 2 adjacent items, if the first item is greater than the second\n",
        "        count += 1                 #keeping track of how many items were swapped\n",
        "        temp = list1[j]            #swap if the if condition is true\n",
        "        list1[j] = list1[j+1]\n",
        "        list1[j+1] = temp\n",
        "  # print(count)\n",
        "  return list1\n",
        "    \n",
        "  # raise NotImplementedError()"
      ],
      "execution_count": 123,
      "outputs": []
    },
    {
      "cell_type": "code",
      "metadata": {
        "id": "ReCP5Nv_1ETF"
      },
      "source": [
        "# Only run this cell to check your answer. If it is true then no error will be raised\n",
        "assert(bubble_sort([37, 42, 9, 19, 35, 4, 53, 22]) == [4, 9, 19, 22, 35, 37, 42, 53])\n",
        "assert(bubble_sort([5, 4, 3, 2, 1]) == [1, 2, 3, 4, 5])"
      ],
      "execution_count": 124,
      "outputs": []
    },
    {
      "cell_type": "markdown",
      "metadata": {
        "id": "c6y0x8KsvySS"
      },
      "source": [
        "**Question 5.** \n",
        "\n",
        "Write a function to find $n^{th}$ Fibonacci number\n",
        "The Fibonacci numbers are the numbers in the following integer sequence.\n",
        "\n",
        "| 1  | 2 | 3  | 4 | 5  | 6 | 7  | 8 | 9 | 10 | 11 | 12 |\n",
        "| -- |-- | -- | --| -- | --| -- | --|-- | -- |-- |-- |\n",
        "| 0  | 1 | 1  | 2 | 3  | 5 | 8  | 13| 21| 34 |55 |89 |\n",
        "\n",
        "Please consider index starting from 1\n",
        "\n",
        "In mathematical terms, the sequence $F_n$ of Fibonacci numbers is defined by the recurrence relation \n",
        "\n",
        "$F_n = F_n-1 + F_n-2$\n",
        "\n",
        "with seed values \n",
        "\n",
        "$F_0 = 0$ and $F_1 = 1$\n"
      ]
    },
    {
      "cell_type": "code",
      "metadata": {
        "colab": {
          "base_uri": "https://localhost:8080/"
        },
        "id": "dlMnigUrvxb9",
        "outputId": "1299df20-d33f-494d-9183-7ad708089529"
      },
      "source": [
        "def Fibonacci(n):\n",
        "  if n <= 0:\n",
        "    print(\"Enter an index starting from 1\")    #index starting from 1\n",
        "  elif n == 1:                                 \n",
        "    return 0\n",
        "  elif n == 2:\n",
        "    return 1\n",
        "  else:\n",
        "    return Fibonacci(n-1) + Fibonacci(n-2)\n",
        "\n",
        "  # raise NotImplementedError()\n",
        "\n",
        "Fibonacci(5)"
      ],
      "execution_count": 125,
      "outputs": [
        {
          "output_type": "execute_result",
          "data": {
            "text/plain": [
              "3"
            ]
          },
          "metadata": {
            "tags": []
          },
          "execution_count": 125
        }
      ]
    },
    {
      "cell_type": "code",
      "metadata": {
        "id": "8OJv6zQKxzKj"
      },
      "source": [
        "# Only run this cell to check your answer. If it is true then no error will be raised\n",
        "assert(Fibonacci(7) == 8)\n",
        "assert(Fibonacci(9) == 21)"
      ],
      "execution_count": 126,
      "outputs": []
    }
  ]
}